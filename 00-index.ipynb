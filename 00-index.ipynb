{
 "cells": [
  {
   "cell_type": "markdown",
   "metadata": {},
   "source": [
    "# Optimización y Procesos Estocásticos"
   ]
  },
  {
   "cell_type": "markdown",
   "metadata": {},
   "source": [
    "## Contenido"
   ]
  },
  {
   "cell_type": "markdown",
   "metadata": {},
   "source": [
    "1. [Modelos](01-modelos.ipynb)\n",
    "2. [Programas Lineales](02-programas-lineales.ipynb)\n",
    "3. [Análisis de Texto](03-analisis-texto.ipynb)\n",
    "4. [Redes Neuronales Artificiales](04-rna.ipynb)\n",
    "5. [Algoritmos Genéticos](06-algoritmos-geneticos.ipynb)\n",
    "6. [Cadena de Markov](06-markov.ipynb)\n",
    "7. [Camino Aleatorio](07-camino-aleatorio.ipynb)\n",
    "8. [Movimiento browniano](08-movimiento-browniano.ipynb)"
   ]
  },
  {
   "cell_type": "code",
   "execution_count": null,
   "metadata": {},
   "outputs": [],
   "source": []
  }
 ],
 "metadata": {
  "kernelspec": {
   "display_name": "Python 2",
   "language": "python",
   "name": "python2"
  },
  "language_info": {
   "codemirror_mode": {
    "name": "ipython",
    "version": 2
   },
   "file_extension": ".py",
   "mimetype": "text/x-python",
   "name": "python",
   "nbconvert_exporter": "python",
   "pygments_lexer": "ipython2",
   "version": "2.7.10"
  }
 },
 "nbformat": 4,
 "nbformat_minor": 2
}
