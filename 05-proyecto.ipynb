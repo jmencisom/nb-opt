{
 "cells": [
  {
   "cell_type": "markdown",
   "metadata": {},
   "source": [
    "# Optimización y Procesos Estocásticos"
   ]
  },
  {
   "cell_type": "markdown",
   "metadata": {},
   "source": [
    "## Proyecto"
   ]
  },
  {
   "cell_type": "markdown",
   "metadata": {},
   "source": [
    "Dada un texto arbitrario separado en párrafos, determinar:\n",
    "\n",
    "1. Segmentación del documento\n",
    "2. Título del segmento\n",
    "3. Jerarquía del segmento (opcional)"
   ]
  },
  {
   "cell_type": "markdown",
   "metadata": {},
   "source": [
    "## Ejemplo"
   ]
  },
  {
   "cell_type": "markdown",
   "metadata": {},
   "source": [
    "Documento de entradada:\n",
    "\n",
    "```\n",
    "\n",
    "NGC 1 was first observed by Heinrich d'Arrest in 1860 while testing the 11 inch refractor telescope of the Copenhagen Observatory. The discovery of the galaxy also doubles as Arrest's first deep sky discovery. He described his discovery as \"faint, small, round, between 11th and 14th magnitude stars\" (to the north and south).[4] Herman Schultz also observed NGC 1 three times in 186 and 1868 using a 9.6 inch refractor telescope at Upsala.[5]\n",
    "\n",
    "Both of the initial observers missed NGC 2, which is much fainter. NGC 1 appears to be quite close to NGC 2, in reality however, the two objects are far apart and unrelated. NGC 2 was first observed as a \"companion\" of NGC 1 by Lawrence Parsons.[4]\n",
    "\n",
    "\n",
    "NGC 1 and NGC 2 as an optical double\n",
    "NGC 1 and its neighboring objects\n",
    "\n",
    "At an estimated 140,000 light-years in diameter[4], NGC 1 is roughly the same size as our own galaxy, the Milky Way, which is believed to be approximately 160,000 light-years across[6]. Although its apparent magnitude of 13.65 lets the galaxy appear too faint to see it in the sky with the naked eye, its absolute magnitude of -22.08 makes NGC 1 two to three times more luminous than our home galaxy. The galaxy is 4.0 Mly away from the 80,000 light-year wide galaxy UGC 69, its nearest major neighbor.\n",
    "\n",
    "NGC 1 has a visual size of 1.6' × 1.2'.[1] Being classified as a SABbc class galaxy using the Hubble sequence and the De Vaucouleurs system as an extension, NGC 1 is a spiral galaxy with the presence of a weak nuclear bar and loosely wound arms.[7] Although the central galaxy is only about 90,000 light-years across, a large, diffuse arm extends eastwards from it, possibly from a past merger.\n",
    "\n",
    "Based on its redshift of approximately 0.015177 and thus recessional velocity of 4450 km/s[1], the distance of the galaxy from the Solar System can be calculated using Hubble's Law. Using current observation data, this places the galaxy at approximately 210 to 215 million light-years from Earth, which is in good agreement with redshift-independent distance estimates of 175 to 245 million light years. An opposing measurement of the galaxy's recessional velocity of 2215km/s would place the galaxy only about 100 million light-years away. However, this is regarded unlikely by most astronomers and believed to be a misattributed value for a different galaxy.[4]\n",
    "\n",
    "\n",
    "\n",
    "After being logged as the first object in the General Catalogue, the galaxy is also the first object to be listed in the catalogues successor, the New General Catalogue.[1] With the coordinates used at the time of the catalog's compilation (epoch 1860), this object had the lowest right ascension of all the objects in the catalog, making this otherwise unremarkable galaxy the first object to be listed as the objects were arranged by right ascension.[8] Since then, the coordinates have shifted, and this object no longer has the lowest right ascension of all the NGC objects.[9]\n",
    "\n",
    "NGC 1 is also listed in the Uppsala General Catalogue (UGC 57) and in the Principal Galaxies Catalogue (PGC 564).[1]\n",
    "\n",
    "\n",
    "\n",
    "    Pegasus (constellation)\n",
    "    List of NGC objects (1–1000)\n",
    "    Spiral galaxy\n",
    "\n",
    "\n",
    "\n",
    "\"NASA/IPAC Extragalactic Database\". Results for NGC 0001. Retrieved 2006-11-04.\n",
    "\"Distance Results for NGC 0001\". NASA/IPAC Extragalactic Database. Retrieved 2010-05-03.\n",
    "\"Revised NGC Data for NGC 1\". spider.seds.org. Retrieved 2017-12-09.\n",
    "\"New General Catalog Objects: NGC 1 - 49\". cseligman.com. Retrieved 2017-11-11.\n",
    "\"www.astronomy-mall.com/Adventures.In.Deep.Space/NGC%201-7840%20complete.htm\". Astronomy Mall.\n",
    "\"Size of the Milky Way Upgraded, Solving Galaxy Puzzle\". Space.com. Retrieved 2017-11-12.\n",
    "de Vaucouleurs, Gérard (April 1963). \"Revised Classification of 1500 Bright Galaxies\". Astrophysical Journal Supplement. 8: 31. Bibcode:1963ApJS....8...31D. doi:10.1086/190084.\n",
    "Dreyer, J. L. E., \"New General Catalogue of Nebulae and Clusters of stars (1888)\", Memoirs of the Royal Astronomical Society, 49. p3, Royal Astronomical Society, 1962.\n",
    "\n",
    "    Erdmann, R.E., Jr., The Historically Corrected New General Catalogue of Nebulæ and Clusters of Stars, p12, retrieved and archived 13 June 2008.\n",
    "\n",
    "\n",
    "\n",
    "\tWikimedia Commons has media related to NGC 1.\n",
    "\n",
    "    NGC 1 on WikiSky: DSS2, SDSS, GALEX, IRAS, Hydrogen α, X-Ray, Astrophoto, Sky Map, Articles and images\n",
    "    SEDS\n",
    "```\n",
    "\n",
    "Documento de Salida:\n",
    "\n",
    "```\n",
    "== Observation history ==\n",
    "\n",
    "NGC 1 was first observed by Heinrich d'Arrest in 1860 while testing the 11 inch refractor telescope of the Copenhagen Observatory. The discovery of the galaxy also doubles as Arrest's first deep sky discovery. He described his discovery as \"faint, small, round, between 11th and 14th magnitude stars\" (to the north and south).[4] Herman Schultz also observed NGC 1 three times in 186 and 1868 using a 9.6 inch refractor telescope at Upsala.[5]\n",
    "\n",
    "Both of the initial observers missed NGC 2, which is much fainter. NGC 1 appears to be quite close to NGC 2, in reality however, the two objects are far apart and unrelated. NGC 2 was first observed as a \"companion\" of NGC 1 by Lawrence Parsons.[4]\n",
    "\n",
    "== General ==\n",
    "\n",
    "NGC 1 and NGC 2 as an optical double\n",
    "NGC 1 and its neighboring objects\n",
    "\n",
    "At an estimated 140,000 light-years in diameter[4], NGC 1 is roughly the same size as our own galaxy, the Milky Way, which is believed to be approximately 160,000 light-years across[6]. Although its apparent magnitude of 13.65 lets the galaxy appear too faint to see it in the sky with the naked eye, its absolute magnitude of -22.08 makes NGC 1 two to three times more luminous than our home galaxy. The galaxy is 4.0 Mly away from the 80,000 light-year wide galaxy UGC 69, its nearest major neighbor.\n",
    "\n",
    "NGC 1 has a visual size of 1.6' × 1.2'.[1] Being classified as a SABbc class galaxy using the Hubble sequence and the De Vaucouleurs system as an extension, NGC 1 is a spiral galaxy with the presence of a weak nuclear bar and loosely wound arms.[7] Although the central galaxy is only about 90,000 light-years across, a large, diffuse arm extends eastwards from it, possibly from a past merger.\n",
    "\n",
    "Based on its redshift of approximately 0.015177 and thus recessional velocity of 4450 km/s[1], the distance of the galaxy from the Solar System can be calculated using Hubble's Law. Using current observation data, this places the galaxy at approximately 210 to 215 million light-years from Earth, which is in good agreement with redshift-independent distance estimates of 175 to 245 million light years. An opposing measurement of the galaxy's recessional velocity of 2215km/s would place the galaxy only about 100 million light-years away. However, this is regarded unlikely by most astronomers and believed to be a misattributed value for a different galaxy.[4]\n",
    "\n",
    "== Listing in astronomical catalogues ==\n",
    "\n",
    "After being logged as the first object in the General Catalogue, the galaxy is also the first object to be listed in the catalogues successor, the New General Catalogue.[1] With the coordinates used at the time of the catalog's compilation (epoch 1860), this object had the lowest right ascension of all the objects in the catalog, making this otherwise unremarkable galaxy the first object to be listed as the objects were arranged by right ascension.[8] Since then, the coordinates have shifted, and this object no longer has the lowest right ascension of all the NGC objects.[9]\n",
    "\n",
    "NGC 1 is also listed in the Uppsala General Catalogue (UGC 57) and in the Principal Galaxies Catalogue (PGC 564).[1]\n",
    "\n",
    "== See also ==\n",
    "\n",
    "    Pegasus (constellation)\n",
    "    List of NGC objects (1–1000)\n",
    "    Spiral galaxy\n",
    "\n",
    "== References ==\n",
    "\n",
    "\"NASA/IPAC Extragalactic Database\". Results for NGC 0001. Retrieved 2006-11-04.\n",
    "\"Distance Results for NGC 0001\". NASA/IPAC Extragalactic Database. Retrieved 2010-05-03.\n",
    "\"Revised NGC Data for NGC 1\". spider.seds.org. Retrieved 2017-12-09.\n",
    "\"New General Catalog Objects: NGC 1 - 49\". cseligman.com. Retrieved 2017-11-11.\n",
    "\"www.astronomy-mall.com/Adventures.In.Deep.Space/NGC%201-7840%20complete.htm\". Astronomy Mall.\n",
    "\"Size of the Milky Way Upgraded, Solving Galaxy Puzzle\". Space.com. Retrieved 2017-11-12.\n",
    "de Vaucouleurs, Gérard (April 1963). \"Revised Classification of 1500 Bright Galaxies\". Astrophysical Journal Supplement. 8: 31. Bibcode:1963ApJS....8...31D. doi:10.1086/190084.\n",
    "Dreyer, J. L. E., \"New General Catalogue of Nebulae and Clusters of stars (1888)\", Memoirs of the Royal Astronomical Society, 49. p3, Royal Astronomical Society, 1962.\n",
    "\n",
    "    Erdmann, R.E., Jr., The Historically Corrected New General Catalogue of Nebulæ and Clusters of Stars, p12, retrieved and archived 13 June 2008.\n",
    "\n",
    "== External links ==\n",
    "\n",
    "\tWikimedia Commons has media related to NGC 1.\n",
    "\n",
    "    NGC 1 on WikiSky: DSS2, SDSS, GALEX, IRAS, Hydrogen α, X-Ray, Astrophoto, Sky Map, Articles and images\n",
    "    SEDS\n",
    "```\n",
    "\n"
   ]
  },
  {
   "cell_type": "markdown",
   "metadata": {},
   "source": [
    "## Entregables"
   ]
  },
  {
   "cell_type": "markdown",
   "metadata": {},
   "source": [
    "1. Una tabla comparativa con las estrategías para segmentar documentos: Algoritmo, Ventajas/Desventajas, Referencias bibliográficas\n",
    "\n",
    "2. Una tabla comparativa con las estrategías para generar título de segmentos: Algoritmo, Ventajas/Desventajas, Referencias bibliográficas\n",
    "\n",
    "3. Script que implementa los algoritmos seleccionados en 1. y 2."
   ]
  },
  {
   "cell_type": "markdown",
   "metadata": {},
   "source": [
    "## Referencias"
   ]
  },
  {
   "cell_type": "markdown",
   "metadata": {},
   "source": [
    "* Wikipedia contributors. (2017, November 19). Text segmentation. In Wikipedia, The Free Encyclopedia. Retrieved 13:35, March 22, 2018, from https://en.wikipedia.org/w/index.php?title=Text_segmentation&oldid=811167941\n",
    "\n",
    "* [Hierarchy Identification for Automatically Generating Table-of-Contents](http://aclweb.org/anthology/R/R13/R13-1033.pdf). Erbs N. 2013\n",
    "\n",
    "* http://scikit-learn.org/stable/auto_examples/text/document_clustering.html#sphx-glr-auto-examples-text-document-clustering-py"
   ]
  }
 ],
 "metadata": {
  "kernelspec": {
   "display_name": "Python 2",
   "language": "python",
   "name": "python2"
  },
  "language_info": {
   "codemirror_mode": {
    "name": "ipython",
    "version": 2
   },
   "file_extension": ".py",
   "mimetype": "text/x-python",
   "name": "python",
   "nbconvert_exporter": "python",
   "pygments_lexer": "ipython2",
   "version": "2.7.10"
  }
 },
 "nbformat": 4,
 "nbformat_minor": 2
}
