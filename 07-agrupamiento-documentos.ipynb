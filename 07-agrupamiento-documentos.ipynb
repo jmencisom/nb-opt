{
 "cells": [
  {
   "cell_type": "markdown",
   "metadata": {},
   "source": [
    "# Optimización"
   ]
  },
  {
   "cell_type": "markdown",
   "metadata": {},
   "source": [
    "## Agrupamiento de documentos de texto"
   ]
  },
  {
   "cell_type": "markdown",
   "metadata": {},
   "source": [
    "El modelo de la bolsa de palabras permite agrupar documentos de acuerdo a un tema. En primer lugar, se requiere utilizar un método para extraer las características. En este caso se utilizará la función `TfidfVectorizer`. En segundo lugar, se emplea un algoritmo para agrupar. Particularmente, se usuará el algoritmo _k-means_.  \n",
    "\n",
    "Es el agrupamiento de documentos de texto, es importante aclarar que el algoritmo _k-means_ se aplica sobre una función objetivo no convexa, y es altamente probable que el resultado corresponda con un mínimo local. Para evitar este tipo de situaciones, es necesario ejecutar varias veces el algoritmo con inicializaciones aleatorias independientes."
   ]
  },
  {
   "cell_type": "code",
   "execution_count": 8,
   "metadata": {},
   "outputs": [
    {
     "name": "stdout",
     "output_type": "stream",
     "text": [
      "TfidfVectorizer(analyzer=u'word', binary=False, decode_error=u'strict',\n",
      "        dtype=<type 'numpy.int64'>, encoding=u'utf-8', input=u'content',\n",
      "        lowercase=True, max_df=1.0, max_features=None, min_df=1,\n",
      "        ngram_range=(1, 1), norm=u'l2', preprocessor=None, smooth_idf=True,\n",
      "        stop_words='english', strip_accents=None, sublinear_tf=False,\n",
      "        token_pattern=u'(?u)\\\\b\\\\w\\\\w+\\\\b', tokenizer=None, use_idf=True,\n",
      "        vocabulary=None)\n"
     ]
    }
   ],
   "source": [
    "from sklearn.feature_extraction.text import TfidfVectorizer\n",
    "from sklearn.cluster import KMeans\n",
    "from sklearn.metrics import adjusted_rand_score\n",
    "\n",
    "# Crear documentos que serán agrupados\n",
    "documentos = [\n",
    "    \"NGC 4889 (also known as Coma B) is an E4 supergiant elliptical galaxy\",\n",
    "    \"NGC 4889 was not included by the astronomer Charles Messier in his famous Messier catalogue despite being an intrinsically bright object quite close to some Messier objects\",\n",
    "    \"NGC 4889 is located along the high declination region of Coma Berenices, south of the constellation Canes Venatici\",\n",
    "    \"On December 5, 2011, astronomers measured the velocity dispersion of the central regions of two massive galaxies, NGC 4889, and the other being NGC 3842 in the Leo Cluster\",\n",
    "    \"NGC 4889 lies at the center of the component A of the Coma Cluster, a giant cluster of 2,000 galaxies which it shares with NGC 4874, although NGC 4889 is sometimes referred as the cluster center, and it has been called by its other designation A1656-BCG\",\n",
    "]\n",
    "\n",
    "# Convertir el texto en características numéricas\n",
    "vectorizador = TfidfVectorizer(stop_words='english')\n",
    "print(vectorizador)"
   ]
  },
  {
   "cell_type": "code",
   "execution_count": 14,
   "metadata": {},
   "outputs": [
    {
     "name": "stdout",
     "output_type": "stream",
     "text": [
      "  (0, 43)\t0.19613046879795795\n",
      "  (0, 4)\t0.19613046879795795\n",
      "  (0, 36)\t0.4116018120016319\n",
      "  (0, 19)\t0.27565453053242694\n",
      "  (0, 27)\t0.4116018120016319\n",
      "  (0, 52)\t0.4116018120016319\n",
      "  (0, 28)\t0.4116018120016319\n",
      "  (0, 31)\t0.4116018120016319\n",
      "  (1, 43)\t0.1028756255927313\n",
      "  (1, 4)\t0.1028756255927313\n",
      "  (1, 34)\t0.21589605207332543\n",
      "  (1, 6)\t0.21589605207332543\n",
      "  (1, 16)\t0.21589605207332543\n",
      "  (1, 42)\t0.6476881562199763\n",
      "  (1, 29)\t0.21589605207332543\n",
      "  (1, 13)\t0.21589605207332543\n",
      "  (1, 25)\t0.21589605207332543\n",
      "  (1, 35)\t0.21589605207332543\n",
      "  (1, 10)\t0.21589605207332543\n",
      "  (1, 44)\t0.21589605207332543\n",
      "  (1, 46)\t0.21589605207332543\n",
      "  (1, 17)\t0.21589605207332543\n",
      "  (1, 45)\t0.21589605207332543\n",
      "  (2, 43)\t0.15142324433895504\n",
      "  (2, 4)\t0.15142324433895504\n",
      "  :\t:\n",
      "  (3, 26)\t0.2728016038512079\n",
      "  (3, 15)\t0.2728016038512079\n",
      "  (3, 49)\t0.2728016038512079\n",
      "  (3, 40)\t0.2728016038512079\n",
      "  (3, 30)\t0.22009461628857876\n",
      "  (3, 2)\t0.2728016038512079\n",
      "  (3, 37)\t0.2728016038512079\n",
      "  (3, 18)\t0.22009461628857876\n",
      "  (4, 43)\t0.2864225680530371\n",
      "  (4, 4)\t0.19094837870202475\n",
      "  (4, 19)\t0.13418564185775997\n",
      "  (4, 30)\t0.16165185451591296\n",
      "  (4, 18)\t0.4849555635477389\n",
      "  (4, 38)\t0.20036330702266056\n",
      "  (4, 14)\t0.4007266140453211\n",
      "  (4, 20)\t0.20036330702266056\n",
      "  (4, 32)\t0.20036330702266056\n",
      "  (4, 0)\t0.20036330702266056\n",
      "  (4, 50)\t0.20036330702266056\n",
      "  (4, 3)\t0.20036330702266056\n",
      "  (4, 47)\t0.20036330702266056\n",
      "  (4, 11)\t0.20036330702266056\n",
      "  (4, 24)\t0.20036330702266056\n",
      "  (4, 5)\t0.20036330702266056\n",
      "  (4, 8)\t0.20036330702266056\n"
     ]
    }
   ],
   "source": [
    "X = vectorizador.fit_transform(documentos)\n",
    "print(X)"
   ]
  },
  {
   "cell_type": "code",
   "execution_count": 3,
   "metadata": {},
   "outputs": [
    {
     "data": {
      "text/plain": [
       "KMeans(algorithm='auto', copy_x=True, init='k-means++', max_iter=100,\n",
       "    n_clusters=2, n_init=1, n_jobs=1, precompute_distances='auto',\n",
       "    random_state=None, tol=0.0001, verbose=0)"
      ]
     },
     "execution_count": 3,
     "metadata": {},
     "output_type": "execute_result"
    }
   ],
   "source": [
    "# Agrupar documentos\n",
    "true_k = 2\n",
    "model = KMeans(n_clusters=true_k, init='k-means++', max_iter=100, n_init=1)\n",
    "model.fit(X)\n"
   ]
  },
  {
   "cell_type": "code",
   "execution_count": 15,
   "metadata": {},
   "outputs": [
    {
     "name": "stdout",
     "output_type": "stream",
     "text": [
      "Principales términos por agrupación:\n",
      "(u'Agrupaci\\xf3n 0:',)\n",
      "(u' high',)\n",
      "(u' charles',)\n",
      "(u' canes',)\n",
      "(u' 4889',)\n",
      "(u' designation',)\n",
      "(u' massive',)\n",
      "(u' galaxies',)\n",
      "(u' december',)\n",
      "(u' catalogue',)\n",
      "(u' elliptical',)\n",
      "\n",
      "(u'Agrupaci\\xf3n 1:',)\n",
      "(u' giant',)\n",
      "(u' astronomer',)\n",
      "(u' central',)\n",
      "(u' called',)\n",
      "(u' constellation',)\n",
      "(u' berenices',)\n",
      "(u' declination',)\n",
      "(u' dispersion',)\n",
      "(u' e4',)\n",
      "(u' center',)\n",
      "\n"
     ]
    }
   ],
   "source": [
    "# Imprimir las palabras más relevantes en cada grupo\n",
    "print(u\"Principales términos por agrupación:\")\n",
    "order_centroids = model.cluster_centers_.argsort()[:, ::-1]\n",
    "terms = vectorizador.get_feature_names()\n",
    "for i in range(true_k):\n",
    "    print(u\"Agrupación %d:\" % i,)\n",
    "    for ind in order_centroids[i, :10]:\n",
    "        print(u' %s' % terms[ind],)\n",
    "    print"
   ]
  },
  {
   "cell_type": "markdown",
   "metadata": {},
   "source": [
    "## Ejercicios"
   ]
  },
  {
   "cell_type": "markdown",
   "metadata": {},
   "source": [
    "1. ¿Qué parámetros recibe la función `TfidfVectorizer`?\n",
    "1. ¿Qué tipo de dato retorna la función `TfidfVectorizer`?\n",
    "1. ¿Qué parámetros recibe la función `KMeans`?\n",
    "1. ¿Qué tipo de dato retorna la función `KMeans`?"
   ]
  },
  {
   "cell_type": "markdown",
   "metadata": {},
   "source": [
    "## Referencias"
   ]
  },
  {
   "cell_type": "markdown",
   "metadata": {},
   "source": [
    "* [Document Clustering with Python](http://brandonrose.org/clustering)\n",
    "* [Text Analysis 101: Document Classification](https://www.kdnuggets.com/2015/01/text-analysis-101-document-classification.html)"
   ]
  }
 ],
 "metadata": {
  "kernelspec": {
   "display_name": "Python 2",
   "language": "python",
   "name": "python2"
  },
  "language_info": {
   "codemirror_mode": {
    "name": "ipython",
    "version": 2
   },
   "file_extension": ".py",
   "mimetype": "text/x-python",
   "name": "python",
   "nbconvert_exporter": "python",
   "pygments_lexer": "ipython2",
   "version": "2.7.10"
  }
 },
 "nbformat": 4,
 "nbformat_minor": 1
}
