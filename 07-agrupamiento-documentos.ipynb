{
 "cells": [
  {
   "cell_type": "markdown",
   "metadata": {},
   "source": [
    "# Optimización"
   ]
  },
  {
   "cell_type": "markdown",
   "metadata": {},
   "source": [
    "## Agrupamiento de documentos de texto"
   ]
  },
  {
   "cell_type": "markdown",
   "metadata": {},
   "source": [
    "El modelo de la bolsa de palabras permite agrupar documentos de acuerdo a un tema. En primer lugar, se requiere utilizar un método para extraer las características. En este caso se utilizará la función `TfidfVectorizer`. En segundo lugar, se emplea un algoritmo para agrupar. Particularmente, se usuará el algoritmo _k-means_.  \n",
    "\n",
    "Es el agrupamiento de documentos de texto, es importante aclarar que el algoritmo _k-means_ se aplica sobre una función objetivo no convexa, y es altamente probable que el resultado corresponda con un mínimo local. Para evitar este tipo de situaciones, es necesario ejecutar varias veces el algoritmo con inicializaciones aleatorias independientes."
   ]
  },
  {
   "cell_type": "code",
   "execution_count": 21,
   "metadata": {},
   "outputs": [
    {
     "name": "stdout",
     "output_type": "stream",
     "text": [
      "TfidfVectorizer(analyzer=u'word', binary=False, decode_error=u'strict',\n",
      "        dtype=<type 'numpy.int64'>, encoding=u'utf-8', input=u'content',\n",
      "        lowercase=True, max_df=1.0, max_features=None, min_df=1,\n",
      "        ngram_range=(1, 1), norm=u'l2', preprocessor=None, smooth_idf=True,\n",
      "        stop_words='english', strip_accents=None, sublinear_tf=False,\n",
      "        token_pattern=u'(?u)\\\\b\\\\w\\\\w+\\\\b', tokenizer=None, use_idf=True,\n",
      "        vocabulary=None)\n"
     ]
    }
   ],
   "source": [
    "from sklearn.feature_extraction.text import TfidfVectorizer\n",
    "from sklearn.cluster import KMeans\n",
    "from sklearn.metrics import adjusted_rand_score\n",
    "\n",
    "# Crear las categorias\n",
    "categories = [\n",
    "    'observation',\n",
    "    'properties',\n",
    "    'components',\n",
    "    'environment',\n",
    "    ]\n",
    "\n",
    "# Crear documentos que serán agrupados\n",
    "documents = [\n",
    "    \"NGC 4889 was not included by the astronomer Charles Messier in his famous Messier catalogue despite being an intrinsically bright object quite close to some Messier objects\",\n",
    "    \"NGC 4889 is located along the high declination region of Coma Berenices, south of the constellation Canes Venatici\",\n",
    "    \"On December 5, 2011, astronomers measured the velocity dispersion of the central regions of two massive galaxies, NGC 4889, and the other being NGC 3842 in the Leo Cluster\",\n",
    "    \"NGC 4889 lies at the center of the component A of the Coma Cluster, a giant cluster of 2,000 galaxies which it shares with NGC 4874, although NGC 4889 is sometimes referred as the cluster center, and it has been called by its other designation A1656-BCG\",\n",
    "]\n",
    "\n",
    "# Convertir el texto en características numéricas\n",
    "vectorizer = TfidfVectorizer(stop_words='english')\n",
    "print(vectorizer)\n"
   ]
  },
  {
   "cell_type": "code",
   "execution_count": 14,
   "metadata": {},
   "outputs": [
    {
     "name": "stdout",
     "output_type": "stream",
     "text": [
      "  (0, 39)\t0.11242658255757941\n",
      "  (0, 4)\t0.11242658255757941\n",
      "  (0, 31)\t0.21544201817137396\n",
      "  (0, 6)\t0.21544201817137396\n",
      "  (0, 16)\t0.21544201817137396\n",
      "  (0, 38)\t0.646326054514122\n",
      "  (0, 27)\t0.21544201817137396\n",
      "  (0, 13)\t0.21544201817137396\n",
      "  (0, 25)\t0.21544201817137396\n",
      "  (0, 32)\t0.21544201817137396\n",
      "  (0, 10)\t0.21544201817137396\n",
      "  (0, 40)\t0.21544201817137396\n",
      "  (0, 42)\t0.21544201817137396\n",
      "  (0, 17)\t0.21544201817137396\n",
      "  (0, 41)\t0.21544201817137396\n",
      "  (1, 39)\t0.16366606502543887\n",
      "  (1, 4)\t0.16366606502543887\n",
      "  (1, 35)\t0.3136317635305613\n",
      "  (1, 30)\t0.3136317635305613\n",
      "  (1, 23)\t0.3136317635305613\n",
      "  (1, 44)\t0.3136317635305613\n",
      "  (1, 19)\t0.2472708847813839\n",
      "  (1, 9)\t0.3136317635305613\n",
      "  (1, 47)\t0.3136317635305613\n",
      "  (1, 21)\t0.3136317635305613\n",
      "  :\t:\n",
      "  (2, 26)\t0.27111545166797824\n",
      "  (2, 15)\t0.27111545166797824\n",
      "  (2, 45)\t0.27111545166797824\n",
      "  (2, 36)\t0.27111545166797824\n",
      "  (2, 28)\t0.213750536161217\n",
      "  (2, 2)\t0.27111545166797824\n",
      "  (2, 33)\t0.27111545166797824\n",
      "  (2, 18)\t0.213750536161217\n",
      "  (3, 39)\t0.3107664061225346\n",
      "  (3, 4)\t0.20717760408168975\n",
      "  (3, 19)\t0.1565046164585312\n",
      "  (3, 28)\t0.1565046164585312\n",
      "  (3, 18)\t0.4695138493755936\n",
      "  (3, 34)\t0.19850626127681759\n",
      "  (3, 14)\t0.39701252255363517\n",
      "  (3, 20)\t0.19850626127681759\n",
      "  (3, 29)\t0.19850626127681759\n",
      "  (3, 0)\t0.19850626127681759\n",
      "  (3, 46)\t0.19850626127681759\n",
      "  (3, 3)\t0.19850626127681759\n",
      "  (3, 43)\t0.19850626127681759\n",
      "  (3, 11)\t0.19850626127681759\n",
      "  (3, 24)\t0.19850626127681759\n",
      "  (3, 5)\t0.19850626127681759\n",
      "  (3, 8)\t0.19850626127681759\n"
     ]
    }
   ],
   "source": [
    "X = vectorizer.fit_transform(documents)\n",
    "print(X)"
   ]
  },
  {
   "cell_type": "code",
   "execution_count": 15,
   "metadata": {},
   "outputs": [
    {
     "data": {
      "text/plain": [
       "KMeans(algorithm='auto', copy_x=True, init='k-means++', max_iter=100,\n",
       "    n_clusters=4, n_init=1, n_jobs=1, precompute_distances='auto',\n",
       "    random_state=None, tol=0.0001, verbose=0)"
      ]
     },
     "execution_count": 15,
     "metadata": {},
     "output_type": "execute_result"
    }
   ],
   "source": [
    "# Agrupar documentos\n",
    "true_k = 4\n",
    "model = KMeans(n_clusters=true_k, init='k-means++', max_iter=100, n_init=1)\n",
    "model.fit(X)\n"
   ]
  },
  {
   "cell_type": "code",
   "execution_count": 16,
   "metadata": {},
   "outputs": [
    {
     "name": "stdout",
     "output_type": "stream",
     "text": [
      "Principales términos por agrupación:\n",
      "Agrupación 0:\n",
      " messier\n",
      " object\n",
      " objects\n",
      " intrinsically\n",
      " bright\n",
      " catalogue\n",
      " famous\n",
      " astronomer\n",
      " included\n",
      " quite\n",
      "Agrupación 1:\n",
      " ngc\n",
      " astronomers\n",
      " massive\n",
      " 2011\n",
      " 3842\n",
      " regions\n",
      " december\n",
      " leo\n",
      " velocity\n",
      " central\n",
      "Agrupación 2:\n",
      " venatici\n",
      " berenices\n",
      " declination\n",
      " high\n",
      " canes\n",
      " constellation\n",
      " located\n",
      " south\n",
      " region\n",
      " coma\n",
      "Agrupación 3:\n",
      " cluster\n",
      " center\n",
      " ngc\n",
      " 4889\n",
      " designation\n",
      " lies\n",
      " 4874\n",
      " a1656\n",
      " bcg\n",
      " called\n"
     ]
    }
   ],
   "source": [
    "# Imprimir las palabras más relevantes en cada grupo\n",
    "print(\"Principales términos por agrupación:\")\n",
    "order_centroids = model.cluster_centers_.argsort()[:, ::-1]\n",
    "terms = vectorizer.get_feature_names()\n",
    "for i in range(true_k):\n",
    "    print(\"Agrupación %d:\" % i,)\n",
    "    for ind in order_centroids[i, :10]:\n",
    "        print(' %s' % terms[ind],)\n",
    "    print"
   ]
  },
  {
   "cell_type": "markdown",
   "metadata": {},
   "source": [
    "## Ejercicios"
   ]
  },
  {
   "cell_type": "markdown",
   "metadata": {},
   "source": [
    "1. ¿Qué parámetros recibe la función `TfidfVectorizer`?\n",
    "1. ¿Qué tipo de dato retorna la función `TfidfVectorizer`?\n",
    "1. ¿Qué parámetros recibe la función `KMeans`?\n",
    "1. ¿Qué tipo de dato retorna la función `KMeans`?"
   ]
  },
  {
   "cell_type": "markdown",
   "metadata": {},
   "source": [
    "## Referencias"
   ]
  },
  {
   "cell_type": "markdown",
   "metadata": {},
   "source": [
    "* [Document Clustering with Python](http://brandonrose.org/clustering)\n",
    "* [Text Analysis 101: Document Classification](https://www.kdnuggets.com/2015/01/text-analysis-101-document-classification.html)"
   ]
  }
 ],
 "metadata": {
  "kernelspec": {
   "display_name": "Python 2",
   "language": "python",
   "name": "python2"
  },
  "language_info": {
   "codemirror_mode": {
    "name": "ipython",
    "version": 2
   },
   "file_extension": ".py",
   "mimetype": "text/x-python",
   "name": "python",
   "nbconvert_exporter": "python",
   "pygments_lexer": "ipython2",
   "version": "2.7.10"
  }
 },
 "nbformat": 4,
 "nbformat_minor": 1
}
