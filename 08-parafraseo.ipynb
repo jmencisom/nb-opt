{
 "cells": [
  {
   "cell_type": "code",
   "execution_count": 4,
   "metadata": {},
   "outputs": [
    {
     "name": "stdout",
     "output_type": "stream",
     "text": [
      "showing info https://raw.githubusercontent.com/nltk/nltk_data/gh-pages/index.xml\n"
     ]
    },
    {
     "data": {
      "text/plain": [
       "True"
      ]
     },
     "execution_count": 4,
     "metadata": {},
     "output_type": "execute_result"
    }
   ],
   "source": [
    "import nltk\n",
    "nltk.download('wordnet')"
   ]
  },
  {
   "cell_type": "code",
   "execution_count": 9,
   "metadata": {},
   "outputs": [
    {
     "data": {
      "text/plain": [
       "[['NGC', []],\n",
       " ['astronomer', [u'astronomer', u'uranologist', u'stargazer']],\n",
       " ['Charles',\n",
       "  [u'Charles',\n",
       "   u'Charles_Stuart',\n",
       "   u'Charlemagne',\n",
       "   u'Carolus',\n",
       "   u'Charles_River',\n",
       "   u'Charles_II',\n",
       "   u'Charles_the_Bald',\n",
       "   u'Charles_I',\n",
       "   u'Charles_the_Great',\n",
       "   u'Prince_Charles',\n",
       "   u'Charles_VII',\n",
       "   u'Jacques_Alexandre_Cesar_Charles',\n",
       "   u'Charles_IX',\n",
       "   u'Jacques_Charles']],\n",
       " ['Messier', []],\n",
       " ['famous',\n",
       "  [u'renowned',\n",
       "   u'illustrious',\n",
       "   u'famed',\n",
       "   u'celebrated',\n",
       "   u'notable',\n",
       "   u'noted',\n",
       "   u'famous',\n",
       "   u'far-famed']],\n",
       " ['Messier', []],\n",
       " ['catalogue', [u'catalog', u'catalogue']],\n",
       " ['bright',\n",
       "  [u'brightly',\n",
       "   u'burnished',\n",
       "   u'vivid',\n",
       "   u'brilliant',\n",
       "   u'hopeful',\n",
       "   u'bright',\n",
       "   u'lustrous',\n",
       "   u'promising',\n",
       "   u'undimmed',\n",
       "   u'brilliantly',\n",
       "   u'shiny',\n",
       "   u'smart',\n",
       "   u'shining']],\n",
       " ['close',\n",
       "  [u'nigh',\n",
       "   u'conclude',\n",
       "   u'come_together',\n",
       "   u'ending',\n",
       "   u'fold',\n",
       "   u'snug',\n",
       "   u'confining',\n",
       "   u'secretive',\n",
       "   u'close',\n",
       "   u'stuffy',\n",
       "   u'end',\n",
       "   u'faithful',\n",
       "   u'shut_down',\n",
       "   u'tight',\n",
       "   u'closelipped',\n",
       "   u'stopping_point',\n",
       "   u'conclusion',\n",
       "   u'shut',\n",
       "   u'finish',\n",
       "   u'close_up',\n",
       "   u'penny-pinching',\n",
       "   u'closemouthed',\n",
       "   u'finis',\n",
       "   u'finale',\n",
       "   u'cheeseparing',\n",
       "   u'close-fitting',\n",
       "   u'closely',\n",
       "   u'airless',\n",
       "   u'closing_curtain',\n",
       "   u'skinny',\n",
       "   u'close_down',\n",
       "   u'last',\n",
       "   u'fill_up',\n",
       "   u'near',\n",
       "   u'closing',\n",
       "   u'unaired',\n",
       "   u'tightlipped']],\n",
       " ['Messier', []],\n",
       " ['objects', [u'physical_object', u'aim', u'objective', u'object', u'target']]]"
      ]
     },
     "execution_count": 9,
     "metadata": {},
     "output_type": "execute_result"
    }
   ],
   "source": [
    "# Original question: \n",
    "# https://stackoverflow.com/questions/42508299/paraphrasing-using-nltk-approach-in-python\n",
    "# Authors: \n",
    "# HalfPintBoy https://stackoverflow.com/users/3079439/halfpintboy\n",
    "# Schmuddi https://stackoverflow.com/users/5215507/schmuddi\n",
    "\n",
    "from nltk.tokenize import word_tokenize\n",
    "from nltk.tag import pos_tag\n",
    "from nltk.corpus import wordnet as wn\n",
    "\n",
    "def tag(sentence):\n",
    "    words = word_tokenize(sentence)\n",
    "    words = pos_tag(words)\n",
    "    return words\n",
    "\n",
    "def paraphraseable(tag):\n",
    "    return tag.startswith('NN') or tag == 'VB' or tag.startswith('JJ')\n",
    "\n",
    "def pos(tag):\n",
    "    if tag.startswith('NN'):\n",
    "        return wn.NOUN\n",
    "    elif tag.startswith('V'):\n",
    "        return wn.VERB\n",
    "\n",
    "def synonyms(word, tag):\n",
    "    lemma_lists = [ss.lemmas() for ss in wn.synsets(word, pos(tag))]\n",
    "    lemmas = [lemma.name() for lemma in sum(lemma_lists, [])]\n",
    "    return set(lemmas)\n",
    "\n",
    "def synonymIfExists(sentence):\n",
    "    for (word, t) in tag(sentence):\n",
    "        if paraphraseable(t):\n",
    "            syns = synonyms(word, t)\n",
    "            if syns:\n",
    "                if len(syns) > 1:\n",
    "                    yield [word, list(syns)]\n",
    "                    continue\n",
    "            yield [word, []]\n",
    "\n",
    "def paraphrase(sentence):\n",
    "    return [x for x in synonymIfExists(sentence)]\n",
    "\n",
    "sentence = \"\"\"NGC 4889 was not included by the astronomer Charles Messier \n",
    "in his famous Messier catalogue despite being an intrinsically bright \n",
    "object quite close to some Messier objects\"\"\"\n",
    "\n",
    "paraphrase(sentence)"
   ]
  },
  {
   "cell_type": "code",
   "execution_count": null,
   "metadata": {},
   "outputs": [],
   "source": []
  }
 ],
 "metadata": {
  "kernelspec": {
   "display_name": "Python 2",
   "language": "python",
   "name": "python2"
  },
  "language_info": {
   "codemirror_mode": {
    "name": "ipython",
    "version": 2
   },
   "file_extension": ".py",
   "mimetype": "text/x-python",
   "name": "python",
   "nbconvert_exporter": "python",
   "pygments_lexer": "ipython2",
   "version": "2.7.10"
  }
 },
 "nbformat": 4,
 "nbformat_minor": 2
}
