{
 "cells": [
  {
   "cell_type": "markdown",
   "metadata": {},
   "source": [
    "$ Angie$ $ Gordillo$  $ y    $  $Ricardo $ $Becerra$\n",
    "\n",
    "$$VARIABLES$$\n",
    "\n",
    "Se le da una variable a cada producto\n",
    "\n",
    "$ compota : $X1\n",
    "\n",
    "$ Rosquillas : $X2\n",
    "\n",
    "$ Galletas : $X3\n",
    "\n",
    "$  Arandanos :$X4\n",
    "\n",
    "$Palitos: $X5\n",
    "\n",
    "$$RESTRICCIONES$$\n",
    "\n",
    "los siguientes datos son sacados de cada porcion del producto, y el valor necesario es sacado de la informacion del producto y busquedas en el internet\n",
    "\n",
    "|Tabla Nutricional|\n",
    "| ---------- |\n",
    "|Producto\t | compota\t  | Rosquillas | Galletas   | Arandanos  | Palitos    |  Necesario | \t\n",
    "| ---------- | ---------- | ---------- | ---------- | ---------- | ---------- | ---------- |        \n",
    "|Calorias    |80          |140         |120         |110         |60          |2000\t       | \n",
    "|Calorias de grasa|\t0|45|50|10|10|140-200|\n",
    "|Grasa Total|0|0.08|0.09|0.02|0.02|1|\n",
    "|Grasa saturada|0|0.15|0.15|0|0|1|\n",
    "|Colesterol|0|0.02|0|0|0|1|\t\n",
    "|Sodio|0.01|0.13|0.005|0|0.04|1|\n",
    "|Carbohidrato|0.07|0.06|0.05|0.08|0.03|1|\n",
    "|Azucares|13|1|9|19|0|25-30|\n",
    "|Proteina|1|6|1|10|2|70-90|\n",
    "|Vitamina A|0|0|0|2|0|1|\n",
    "|Vitamina C|0.5|0|0|0.15|0|1|\n",
    "|Calcio|0.09|0|0|0|0|1|\n",
    "|Hierro|0|0|0.04|0|0.04|1|\n",
    "|Fibra dietaria|0|0.08|0|0.08|0|1|\n",
    "|Precio|1250|731.25|315|930|252|Zmin|\n",
    "    \n",
    "Zmin =  $1250 X1$ + $ 731.25 X2$ +  $315 X3$ + $ 930 X4$ +$ 252X5 $\n",
    "\n",
    "$$Funcion$$ $$Objetivo$$\n",
    "\n",
    "Se quiere llegar a la alimentacion necesaria con el minimo gasto (Zmin) para esto se cuenta con una tabla nutricional, y el valor requerido para una buena alimentacion\n"
   ]
  }
 ],
 "metadata": {
  "kernelspec": {
   "display_name": "R",
   "language": "R",
   "name": "ir"
  },
  "language_info": {
   "codemirror_mode": "r",
   "file_extension": ".r",
   "mimetype": "text/x-r-source",
   "name": "R",
   "pygments_lexer": "r",
   "version": "3.4.2"
  }
 },
 "nbformat": 4,
 "nbformat_minor": 2
}
