{
 "cells": [
  {
   "cell_type": "markdown",
   "metadata": {},
   "source": [
    "$Jhann$ $Reyes$ - $Brandon$ $Loaiza$\n",
    "\n",
    "$Ejercicio$"
   ]
  },
  {
   "cell_type": "markdown",
   "metadata": {},
   "source": [
    "$X1$ : $Porcion$ $en$ $gramos$ $galletas$\n",
    "\n",
    "$X2$ : $Porcion$ $en$ $gramos$ $palitos$\n",
    "\n",
    "$X3$ : $Porcion$ $en$ $gramos$ $compota$\n",
    "\n",
    "$X4$ : $Porcion$ $en$ $gramos$ $P.Arroz$\n",
    "\n",
    "$X5$ : $Porcion$ $en$ $gramos$ $Arandanos$"
   ]
  },
  {
   "cell_type": "markdown",
   "metadata": {},
   "source": [
    "$Restricciones$ :\n",
    "\n",
    "$$\n",
    "6x1+x2+5x4+x5>=44    -Grasa\n",
    "$$\n",
    "\n",
    "$$\n",
    "0,005x4<=0,2        -Colesterol\n",
    "$$\n",
    "\n",
    "$$\n",
    "0,01x2+0,13x2+0,02x3+0,32x4>=2,3  -Sodio\n",
    "$$\n",
    "\n",
    "$$\n",
    "16x1+10x2+20x3+17x4+23x5>=225    -Carbohidratos\n",
    "$$\n",
    "\n",
    "$$\n",
    "2x4+2x5>=20   -Fibra-Dietaria\n",
    "$$\n",
    "\n",
    "$$\n",
    "9x1+13x3+x4+19x5>=25 -Azucar\n",
    "$$\n",
    "\n",
    "$$\n",
    "x1+2x2+0,9x3+6x4+x5>=55 -Proteina\n",
    "$$\n",
    "\n"
   ]
  },
  {
   "cell_type": "markdown",
   "metadata": {},
   "source": [
    "$Función$ $objetivo$ :"
   ]
  },
  {
   "cell_type": "markdown",
   "metadata": {},
   "source": [
    "$$\n",
    "Z = 315x1+252x2+1250x3+731x4+930x5 \n",
    "$$"
   ]
  },
  {
   "cell_type": "markdown",
   "metadata": {},
   "source": [
    "Para este problema, dado que nos basamos en una dieta alimenticia de 2000 calorías y confiando en varias fuentes, establecimos la cantidad mínima o máxima de nutrientes necesarios que necesita el cuerpo humano para su correcto funcionamiento, luego de eso establecimos el valor de los alimentos por porción ya que trabajándolo así fue que pudimos encontrar una solucion óptima para cumplir con esta dieta, por esta razón los datos presentados en la parte superior."
   ]
  },
  {
   "cell_type": "code",
   "execution_count": null,
   "metadata": {},
   "outputs": [],
   "source": []
  }
 ],
 "metadata": {
  "kernelspec": {
   "display_name": "Python 3",
   "language": "python",
   "name": "python3"
  },
  "language_info": {
   "codemirror_mode": {
    "name": "ipython",
    "version": 3
   },
   "file_extension": ".py",
   "mimetype": "text/x-python",
   "name": "python",
   "nbconvert_exporter": "python",
   "pygments_lexer": "ipython3",
   "version": "3.6.4"
  }
 },
 "nbformat": 4,
 "nbformat_minor": 2
}
