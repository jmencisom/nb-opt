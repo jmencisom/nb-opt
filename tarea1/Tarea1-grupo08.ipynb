


{
 "cells": [
  {
   "cell_type": "markdown",
   "metadata": {},
   "source": [
   "\n",
    "\n",
    "\n",
    "$$INGRID TATIANA PORTELA    161003648$$\n",
    "$$EDUAR STIVEN RODRIGUEZ    161003532$$\n",
    "\n",
    "\n",
    "$$ TALLER 1$$\n",
  
    "\n",
    "\n",
    
    "|                   | PALITOS    |    ARANDANOS   | PAN DE ARROZ  |   COMPOTA  |  GALLETAS  |  CONSUMO NECESARIO | \n",
    "|------------------ |------------|----------------|---------------|------------|------------|--------------------|               \n",
    "|CALORIAS           |     60     |        110     |     140       |     80     |     120    |     2000           | \n",
    "|CALORIAS DE GRASA  |     10     |         10     |      45       |      0     |      50    |     250-400        | \n",
    "|GRASA TOTAL        |      2     |          2     |       8       |      0     |       9    |      100           |\n",
    "|GRASA SATURADA     |      0     |          0     |      15       |      0     |      15    |      100           |\n",
    "|GRASA TRANS        |      0     |          0     |       0       |      0     |       0    |     <100           |\n",
    "|COLESTEROL         |      0     |          0     |       2       |      0     |       0    |     <100           |\n",
    "|SODIO              |      4     |          0     |      13       |      1     |       0    |     <100           |\n",
    "|CARBOHOIDRATO      |      3     |          8     |       6       |      7     |       5    |      100           |\n",
    "|AZUCARES           |      0     |         19     |       1       |     13     |       9    |      100           |\n",
    "|PROTEINA           |      2     |          1     |       6       |      0     |       1    |     <100           |\n",
    "|VITAMINA A         |      0     |          2     |       0       |      0     |       0    |     <100           |\n",
    "|VITAMINA C         |      0     |         15     |       0       |     50     |       0    |      <100          |\n",
    "|CALCIO             |      0     |          0     |       0       |      9     |       0    |     <100           |\n",
    "|HIERRO             |      4     |          0     |       0       |      0     |       4    |     <100           |\n",
    "|FIBRA DIETARIA     |      0     |          8     |       8       |      0     |       0    |     <100           |\n",
    "|------------------ |------------|----------------|---------------|------------|------------|--------------------|\n",
    "|PRECIOS POR PORCION|     434    |        316     |     733       |    1.250   |    316     |                    |\n",
    "|------------------ |------------|----------------|---------------|------------|------------|--------------------|\n",
    "\n",
    "$$PLANTEAMIENTO DEL PROBLEMA$$\n",
      "\n",
    "$$INGRID TATIANA PORTELA    161003648$$\n",
    "$$EDUAR STIVEN RODRIGUEZ    161003532$$\n",
    "\n",
    "SABER CUAL ES LA DIETA MAS ECONOMICA QUE CUMPLA CON EL CONSUMO NECESARIO PARA UNA PERSONA NORMAL.\n",
    "\n",
    "$$X_1:PALITOS$$\n",
    "$$X_2:ARANDANOS$$\n",
    "$$X_3:PAN DE ARROZ$$\n",
    "$$X_4:COMPOTA$$\n",
    "$$X_5:GALLETAS$$\n",
    "\n",
    "$$FUNCION OBJETIVO$$\n",
    "\n",
    "DETERMINAR EL MENOR COSTO PARA LA DIETA DE UNA PERSONA NORMAL \n",
    "\n",
    "$$Z(min)=5X_1+3X_2+5X_3+X_4+5X_5$$\n"
   ]
  },
  {
   "cell_type": "code",
   "execution_count": null,
   "metadata": {},
   "outputs": [],
   "source": []
  }
 ],
 "metadata": {
  "kernelspec": {
   "display_name": "Python 3",
   "language": "python",
   "name": "python3"
  },
  "language_info": {
   "codemirror_mode": {
    "name": "ipython",
    "version": 3
   },
   "file_extension": ".py",
   "mimetype": "text/x-python",
   "name": "python",
   "nbconvert_exporter": "python",
   "pygments_lexer": "ipython3",
   "version": "3.6.4"
  }
 },
 "nbformat": 4,
 "nbformat_minor": 2
}
