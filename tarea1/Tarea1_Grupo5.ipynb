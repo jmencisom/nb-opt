{
 "cells": [
  {
   "cell_type": "markdown",
   "metadata": {},
   "source": [
    "## Tarea 1. Porblema de la dieta."
   ]
  },
  {
   "cell_type": "markdown",
   "metadata": {},
   "source": [
    "### Grupo 5.\n",
    "\n",
    "Camilo Layton  \n",
    "Luis Contreras\n"
   ]
  },
  {
   "cell_type": "markdown",
   "metadata": {},
   "source": [
    "|Producto|Precio ($)|Porciones|Calorias|Grasa T (g)|Carbohidrato T (g)|Proteina (g)|Vitamina A (ug)|Vitamina C (mg)|Calcio (mg)|Hierro (mg)|\n",
    "|--------|----------|---------|--------|-----------|------------------|--------|---------------|----------|------|------|\n",
    "| Compota|1250      | 1       | 80     | 0         | 20               | 1      | 0             | 4000     | 90   | 0    |   \n",
    "| Arandanos|3100    | 3       | 110    | 1         | 23               | 1      | 18            | 1200     | 0    | 0    |\n",
    "| Pan de arroz|1950 | 2,6     | 140    | 5         | 17               | 6      | 0             | 0        | 100  | 0    |\n",
    "| Wafer minitaco|1050 | 3     | 120    | 6         | 16               | 1      | 0             | 0        | 0    | 0.72 |\n",
    "| Minipalitroque|1800 | 8.3   | 60     | 1         | 10               | 2      | 0             | 0        | 0    | 0.72 |"
   ]
  },
  {
   "cell_type": "markdown",
   "metadata": {},
   "source": [
    "X1: Compota  \n",
    "X2: Arandanos  \n",
    "X3: Pan de arroz  \n",
    "X4: Wafer minitaco  \n",
    "X5: Minipalitroque  \n"
   ]
  },
  {
   "cell_type": "markdown",
   "metadata": {},
   "source": [
    "Minimo de calorias:  \n",
    "80X1 + 330X2 + 364X3 + 360X4 + 498X5 ≥ 2000  \n",
    "\n",
    "Grasa diaria recomendada:   \n",
    "0X1 + 3X2 + 13X3 + 18X4 + 8.3X5 ≥ 40  \n",
    "\n",
    "Carbohidratos diarios minimos:  \n",
    "20X1 + 63X2 + 44.2X3 + 48X4 + 83X5 ≥ 260 \n",
    "\n",
    "Proteina minima recomendada:    \n",
    "1X1 + 3X2 + 15.6X3 + 3X4 + 16.6X5 ≥ 70 \n",
    "\n",
    "Vitamina A diaria:   \n",
    "0X1 + 54X2 + 0X3 + 0X4 + 0X5 ≥ 900  \n",
    "\n",
    "Vitamina C diaria:   \n",
    "4000X1 + 3600X2 + 0X3 + 0X4 + 0X5 ≥ 8000  \n",
    "\n",
    "Calcio diario:   \n",
    "90X1 + 0X2 + 260X3 + 0X4 + 0X5 ≥ 1300  \n",
    "\n",
    "Hierro diario:  \n",
    "0X1 + 0X2 + 0X3 + 2.16X4 + 5.976X5 ≥ 18   \n",
    "\n",
    "X1 ≥ 0  \n",
    "X2 ≥ 0  \n",
    "X3 ≥ 0  \n",
    "X4 ≥ 0  \n",
    "X5 ≥ 0  \n"
   ]
  },
  {
   "cell_type": "markdown",
   "metadata": {},
   "source": [
    "Funcion objetivo.  \n",
    "Minimizar Z = 1250X1 + 3100X2 + 1950X3 + 1050X4 + 1800X5"
   ]
  }
 ],
 "metadata": {
  "kernelspec": {
   "display_name": "Python 3",
   "language": "python",
   "name": "python3"
  },
  "language_info": {
   "codemirror_mode": {
    "name": "ipython",
    "version": 3
   },
   "file_extension": ".py",
   "mimetype": "text/x-python",
   "name": "python",
   "nbconvert_exporter": "python",
   "pygments_lexer": "ipython3",
   "version": "3.6.4"
  }
 },
 "nbformat": 4,
 "nbformat_minor": 2
}
