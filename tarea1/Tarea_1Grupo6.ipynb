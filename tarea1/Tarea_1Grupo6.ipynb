{
 "cells": [
  {
   "cell_type": "markdown",
   "metadata": {},
   "source": [
    "# DIETA NUTRICIONAL "
   ]
  },
  {
   "cell_type": "markdown",
   "metadata": {},
   "source": [
    "### VALORES NUSTRICONES"
   ]
  },
  {
   "cell_type": "markdown",
   "metadata": {},
   "source": [
    "###### Daniel Eduardo Acuña Ballen   cod:161003700\n",
    "###### Andres Camilo Gamboa Ferrer cod:161003711"
   ]
  },
  {
   "cell_type": "markdown",
   "metadata": {},
   "source": [
    "$los$ $siguientes$ $valores$ $de$ $nutricion$, $son$ $los$ $recomendables$ $en$ $el$ $consumo$ $diario$ $de$ $un$ $persona$ $y$ $se$ $muestra$ $en$ $la$ $siguiente$ $tabla:$"
   ]
  },
  {
   "cell_type": "markdown",
   "metadata": {},
   "source": [
    "|                |   Calorias| 2000     |\n",
    "| :------------: |:---------:|:-------  |\n",
    "| Grasa total    | menos de  | 65g    \t|\n",
    "| Grasa saturada | menos de  | 20g    \t|\n",
    "| Colesterol     | menos de  | 300mg  \t|\n",
    "| sodio          | menos de  | 2400mg \t|\n",
    "| Carbohidratos  | menos de  | 300g   \t|\n",
    "| Fibra dietaria | menos de  | 25g    \t|\n",
    "| Proteina       |           | 200g     |\n",
    "| Vitamina A     |           | 900mcg   |\n",
    "| Vitamina C     |           | 90mg     |\n",
    "| Calcio         |           | 2500mg   |\n",
    "| Hierro         |           | 18mg     |\n",
    "$Tabla$ $N°1$ $Valor$ $nutricional$ $diario$"
   ]
  },
  {
   "cell_type": "markdown",
   "metadata": {},
   "source": [
    "$Se$ $tiene$ $los$ $diferentes$ $productos$ $mostrados$ $a$ $continuacion$ $para$ $planear$ $una$ $dieta$ $balanceada$, $basandose$ $en$ $la$ $tabla$ $anterior$:\n"
   ]
  },
  {
   "cell_type": "markdown",
   "metadata": {},
   "source": [
    "#### GALLETAS "
   ]
  },
  {
   "cell_type": "markdown",
   "metadata": {},
   "source": [
    "|                | calorias  |  120     |\n",
    "| :------------: |:---------:|:-------  |\n",
    "| Grasa total    | 9%        | 6g    \t|\n",
    "| Grasa saturada | 15%       | 3g    \t|\n",
    "| Colesterol     | 0%        | 0mg  \t|\n",
    "| sodio          | 0%        | 10mg \t|\n",
    "| Carbohidratos  | 5%        | 16g   \t|\n",
    "| Fibra dietaria | 0         | 0g    \t|\n",
    "| Proteina       | 1%        | 2g       |\n",
    "| Vitamina A     | 0%        | 0g       |\n",
    "| Vitamina C     | 0%        | 0g     \t|\n",
    "| Calcio         | 0%        | 0g      \t|\n",
    "| Hierro         | 4%        | 0.72mg   |\n",
    "$Tabla$ $N°2$ $nutrientes$ $por$ $24g$ $galletas$\n"
   ]
  },
  {
   "cell_type": "markdown",
   "metadata": {},
   "source": [
    "$Como$ $en$ $un$ $paquete$ $hay$ $80g$ $de$ $galletas$ $entonces$ $la$ $cantidad$ $de$ $calorias$ $que$ $hay$ $en$ $un$ $paquete$ $sera$ $la$ $siguiente$, $asi$ $como$ $sus$ $otros$ $factores$ $nutricionales$:\n",
    "    "
   ]
  },
  {
   "cell_type": "code",
   "execution_count": 5,
   "metadata": {},
   "outputs": [
    {
     "name": "stdout",
     "output_type": "stream",
     "text": [
      "Calorias:\n",
      "400.0\n",
      "\n",
      "\n",
      "Grasa total:\n",
      "20.0 g\n",
      "\n",
      "\n",
      "Grasa Saturada:\n",
      "10.0 g\n",
      "\n",
      "\n",
      "Sodio:\n",
      "0.0 g\n",
      "\n",
      "\n",
      "Carbohidratos:\n",
      "53.333333333333336 g\n",
      "\n",
      "\n",
      "Fibra dietaria:\n",
      "0.0 g\n",
      "\n",
      "\n",
      "Proteina:\n",
      "6.666666666666667 g\n",
      "\n",
      "\n",
      "Vitamina A:\n",
      "0.0 mcg\n",
      "\n",
      "\n",
      "Vitamina C:\n",
      "0.0 mg\n",
      "\n",
      "\n",
      "Calcio:\n",
      "0.0 mg\n",
      "\n",
      "\n",
      "Hierro:\n",
      "2.4 mg\n",
      "\n",
      "\n"
     ]
    }
   ],
   "source": [
    "galletas_1=3;\n",
    "Gramos_total=24;\n",
    "caloT=(galletas_1*80)/Gramos_total\n",
    "n1=caloT/3\n",
    "grasa=6*n1\n",
    "grasasat=3*n1\n",
    "sodio=0*n1;\n",
    "carbohid=16*n1\n",
    "fribde=0*n1\n",
    "proteina=2*n1\n",
    "Va=n1*0\n",
    "Vc=n1*0\n",
    "Ca=n1*0\n",
    "H=n1*0.72\n",
    "\n",
    "print(\"Calorias:\")\n",
    "print(n1*120)\n",
    "print(\"\\n\")\n",
    "print(\"Grasa total:\")\n",
    "print(grasa,\"g\")\n",
    "print(\"\\n\")\n",
    "print(\"Grasa Saturada:\")\n",
    "print(grasasat,\"g\")\n",
    "print(\"\\n\")\n",
    "print(\"Sodio:\")\n",
    "print(sodio,\"g\")\n",
    "print(\"\\n\")\n",
    "print(\"Carbohidratos:\")\n",
    "print(carbohid,\"g\")\n",
    "print(\"\\n\")\n",
    "print(\"Fibra dietaria:\")\n",
    "print(fribde,\"g\")\n",
    "print(\"\\n\")\n",
    "print(\"Proteina:\")\n",
    "print(proteina,\"g\")\n",
    "print(\"\\n\")\n",
    "print(\"Vitamina A:\")\n",
    "print(Va,\"mcg\")\n",
    "print(\"\\n\")\n",
    "print(\"Vitamina C:\")\n",
    "print(Vc,\"mg\")\n",
    "print(\"\\n\")\n",
    "print(\"Calcio:\")\n",
    "print(Ca,\"mg\")\n",
    "print(\"\\n\")\n",
    "print(\"Hierro:\")\n",
    "print(H,\"mg\")\n",
    "print(\"\\n\")\n",
    "\n",
    "\n",
    "\n",
    "\n",
    "\n"
   ]
  },
  {
   "cell_type": "markdown",
   "metadata": {},
   "source": [
    "#### ARANDANOS"
   ]
  },
  {
   "cell_type": "markdown",
   "metadata": {},
   "source": [
    "|                | calorias  |  110     |\n",
    "| :------------: |:---------:|:-------  |\n",
    "| Grasa total    | 2%        | 1g    \t|\n",
    "| Grasa saturada | 0%        | 0g    \t|\n",
    "| Colesterol     | 0%        | 0mg  \t|\n",
    "| sodio          | 0%        | 0mg \t    |\n",
    "| Carbohidratos  | 8%        | 23g   \t|\n",
    "| Fibra dietaria | 8%        | 2g    \t|\n",
    "| Proteina       | 1%        | 2g       |\n",
    "| Vitamina A     | 2%        | 18mcg    |\n",
    "| Vitamina C     | 15%       | 13.5mg   |\n",
    "| Calcio         | 0%        | 0g       |\n",
    "| Hierro         | 0%        | 0g       |\n",
    "$Tabla$ $N°3$ $nutrientes$ $por$ $30g$ $arandanos$"
   ]
  },
  {
   "cell_type": "markdown",
   "metadata": {},
   "source": [
    "$Como$ $en$ $un$ $paquete$ $hay$ $90g$ $de$ $arandanos$ $entonces$ $la$ $cantidad$ $de$ $calorias$ $que$ $hay$ $en$ $un$ $paquete$ $sera$ $la$ $siguiente$, $asi$ $como$ $sus$ $otros$ $factores$ $nutricionales$:\n",
    "    "
   ]
  },
  {
   "cell_type": "code",
   "execution_count": 6,
   "metadata": {},
   "outputs": [
    {
     "name": "stdout",
     "output_type": "stream",
     "text": [
      "Calorias:\n",
      "360.0\n",
      "\n",
      "\n",
      "Grasa total:\n",
      "3.0 g\n",
      "\n",
      "\n",
      "Grasa Saturada:\n",
      "0.0 g\n",
      "\n",
      "\n",
      "Sodio:\n",
      "0.0 g\n",
      "\n",
      "\n",
      "Carbohidratos:\n",
      "69.0 g\n",
      "\n",
      "\n",
      "Fibra dietaria:\n",
      "6.0 g\n",
      "\n",
      "\n",
      "Proteina:\n",
      "6.0 g\n",
      "\n",
      "\n",
      "Vitamina A:\n",
      "54.0 mcg\n",
      "\n",
      "\n",
      "Vitamina C:\n",
      "40.5 mg\n",
      "\n",
      "\n",
      "Calcio:\n",
      "0.0 mg\n",
      "\n",
      "\n",
      "Hierro:\n",
      "0.0 mg\n",
      "\n",
      "\n"
     ]
    }
   ],
   "source": [
    "arandanos_1=3;\n",
    "Gramos_total=30;\n",
    "caloT=(arandanos_1*90)/Gramos_total\n",
    "n1=caloT/3\n",
    "grasa=1*n1\n",
    "grasasat=0*n1\n",
    "sodio=0*n1;\n",
    "carbohid=23*n1\n",
    "fribde=2*n1\n",
    "proteina=2*n1\n",
    "Va=n1*18\n",
    "Vc=n1*13.5\n",
    "Ca=n1*0\n",
    "H=n1*0\n",
    "\n",
    "print(\"Calorias:\")\n",
    "print(n1*110)\n",
    "print(\"\\n\")\n",
    "print(\"Grasa total:\")\n",
    "print(grasa,\"g\")\n",
    "print(\"\\n\")\n",
    "print(\"Grasa Saturada:\")\n",
    "print(grasasat,\"g\")\n",
    "print(\"\\n\")\n",
    "print(\"Sodio:\")\n",
    "print(sodio,\"g\")\n",
    "print(\"\\n\")\n",
    "print(\"Carbohidratos:\")\n",
    "print(carbohid,\"g\")\n",
    "print(\"\\n\")\n",
    "print(\"Fibra dietaria:\")\n",
    "print(fribde,\"g\")\n",
    "print(\"\\n\")\n",
    "print(\"Proteina:\")\n",
    "print(proteina,\"g\")\n",
    "print(\"\\n\")\n",
    "print(\"Vitamina A:\")\n",
    "print(Va,\"mcg\")\n",
    "print(\"\\n\")\n",
    "print(\"Vitamina C:\")\n",
    "print(Vc,\"mg\")\n",
    "print(\"\\n\")\n",
    "print(\"Calcio:\")\n",
    "print(Ca,\"mg\")\n",
    "print(\"\\n\")\n",
    "print(\"Hierro:\")\n",
    "print(H,\"mg\")\n",
    "print(\"\\n\")"
   ]
  },
  {
   "cell_type": "markdown",
   "metadata": {},
   "source": [
    "#### PAN DE ARROZ"
   ]
  },
  {
   "cell_type": "markdown",
   "metadata": {},
   "source": [
    "|                | calorias  |  140K    |\n",
    "| :------------: |:---------:|:-------  |\n",
    "| Grasa total    | 8%        | 5g    \t|\n",
    "| Grasa saturada | 15%       | 3g    \t|\n",
    "| Colesterol     | 2%        | 5mg  \t|\n",
    "| sodio          | 13%       | 320mg \t|\n",
    "| Carbohidratos  | 6%        | 17g   \t|\n",
    "| Fibra dietaria | 8%        | 2g    \t|\n",
    "| Proteina       | 3%        | 6g       |\n",
    "| Vitamina A     | 0%        | 0g       |\n",
    "| Vitamina C     | 0%        | 0g       |\n",
    "| Calcio         | 10%       | 375mg    |\n",
    "| Hierro         | 0%        | 0g       |\n",
    "$Tabla$ $N°4$ $nutrientes$ $por$ $30g$ $rosquillas$"
   ]
  },
  {
   "cell_type": "markdown",
   "metadata": {},
   "source": [
    "$Como$ $en$ $un$ $paquete$ $hay$ $78g$ $de$ $galletas$ $entonces$ $la$ $cantidad$ $de$ $calorias$ $que$ $hay$ $en$ $un$ $paquete$ $sera$ $la$ $siguiente$, $asi$ $como$ $sus$ $otros$ $factores$ $nutricionales$:"
   ]
  },
  {
   "cell_type": "code",
   "execution_count": 4,
   "metadata": {},
   "outputs": [
    {
     "name": "stdout",
     "output_type": "stream",
     "text": [
      "Calorias:\n",
      "363.99999999999994 K\n",
      "\n",
      "\n",
      "Grasa total:\n",
      "12.999999999999998 g\n",
      "\n",
      "\n",
      "Grasa Saturada:\n",
      "7.799999999999999 g\n",
      "\n",
      "\n",
      "Colesterol:\n",
      "12.999999999999998 mg\n",
      "\n",
      "\n",
      "Sodio:\n",
      "831.9999999999999 mg\n",
      "\n",
      "\n",
      "Carbohidratos:\n",
      "44.199999999999996 g\n",
      "\n",
      "\n",
      "Fibra dietaria:\n",
      "5.199999999999999 g\n",
      "\n",
      "\n",
      "Proteina:\n",
      "15.599999999999998 g\n",
      "\n",
      "\n",
      "Vitamina A:\n",
      "0.0 mcg\n",
      "\n",
      "\n",
      "Vitamina C:\n",
      "0.0 mg\n",
      "\n",
      "\n",
      "Calcio:\n",
      "974.9999999999999 mg\n",
      "\n",
      "\n",
      "Hierro:\n",
      "0.0 mg\n",
      "\n",
      "\n"
     ]
    }
   ],
   "source": [
    "rosquillas_1=9\n",
    "Gramos_total=30\n",
    "caloT=(rosquillas_1*78)/Gramos_total\n",
    "n1=caloT/9\n",
    "grasa=5*n1\n",
    "grasasat=3*n1\n",
    "coles=5*n1\n",
    "sodio=320*n1\n",
    "carbohid=17*n1\n",
    "fribde=2*n1\n",
    "proteina=6*n1\n",
    "Va=n1*0\n",
    "Vc=n1*0\n",
    "Ca=n1*375\n",
    "H=n1*0\n",
    "\n",
    "print(\"Calorias:\")\n",
    "print(n1*140,\"K\")\n",
    "print(\"\\n\")\n",
    "print(\"Grasa total:\")\n",
    "print(grasa,\"g\")\n",
    "print(\"\\n\")\n",
    "print(\"Grasa Saturada:\")\n",
    "print(grasasat,\"g\")\n",
    "print(\"\\n\")\n",
    "print(\"Colesterol:\")\n",
    "print(coles,\"mg\")\n",
    "print(\"\\n\")\n",
    "print(\"Sodio:\")\n",
    "print(sodio,\"mg\")\n",
    "print(\"\\n\")\n",
    "print(\"Carbohidratos:\")\n",
    "print(carbohid,\"g\")\n",
    "print(\"\\n\")\n",
    "print(\"Fibra dietaria:\")\n",
    "print(fribde,\"g\")\n",
    "print(\"\\n\")\n",
    "print(\"Proteina:\")\n",
    "print(proteina,\"g\")\n",
    "print(\"\\n\")\n",
    "print(\"Vitamina A:\")\n",
    "print(Va,\"mcg\")\n",
    "print(\"\\n\")\n",
    "print(\"Vitamina C:\")\n",
    "print(Vc,\"mg\")\n",
    "print(\"\\n\")\n",
    "print(\"Calcio:\")\n",
    "print(Ca,\"mg\")\n",
    "print(\"\\n\")\n",
    "print(\"Hierro:\")\n",
    "print(H,\"mg\")\n",
    "print(\"\\n\")"
   ]
  },
  {
   "cell_type": "markdown",
   "metadata": {},
   "source": [
    "#### COMPOTA"
   ]
  },
  {
   "cell_type": "markdown",
   "metadata": {},
   "source": [
    "|                | calorias  |  80      |\n",
    "| :------------: |:---------:|:-------  |\n",
    "| Grasa total    | 0%        | 0g    \t|\n",
    "| Grasa saturada | 0%        | 0g    \t|\n",
    "| Colesterol     | 0%        | 5mg  \t|\n",
    "| sodio          | 1%        | 20mg \t|\n",
    "| Carbohidratos  | 7%        | 20g   \t|\n",
    "| Fibra dietaria | 0%        | 0g    \t|\n",
    "| Proteina       | 0%        | 0g       |\n",
    "| Vitamina A     | 0%        | 0g       |\n",
    "| Vitamina C     | 50%       | 45mg     |\n",
    "| Calcio         | 9%        | 225mg    |\n",
    "| Hierro         | 0%        | 0g       |\n",
    "$Tabla$ $N°5$ $nutrientes$ $frasco$ $de$ $compota$ $113g$ "
   ]
  },
  {
   "cell_type": "markdown",
   "metadata": {},
   "source": [
    "#### PALOTRIQUES"
   ]
  },
  {
   "cell_type": "markdown",
   "metadata": {},
   "source": [
    "|                | calorias  |  80      |\n",
    "| :------------: |:---------:|:-------  |\n",
    "| Grasa total    | 2%        | 1g    \t|\n",
    "| Grasa saturada | 0%        | 0g    \t|\n",
    "| Colesterol     | 0%        | 5mg  \t|\n",
    "| sodio          | 4%        | 130mg \t|\n",
    "| Carbohidratos  | 3%        | 10g   \t|\n",
    "| Fibra dietaria | 0%        | 0g    \t|\n",
    "| Proteina       | 1%        | 2g       |\n",
    "| Vitamina A     | 0%        | 0g       |\n",
    "| Vitamina C     | 0%        | 0g       |\n",
    "| Calcio         | 0%        | 0g       |\n",
    "| Hierro         | 4%        | 0.72mg   |\n",
    "$Tabla$ $N°6$ $nutrientes$ $frasco$ $de$ $compota$ $14g$ "
   ]
  },
  {
   "cell_type": "markdown",
   "metadata": {},
   "source": [
    "$Como$ $en$ $un$ $paquete$ $hay$ $116.2g$ $de$ $palitriques$ $entonces$ $la$ $cantidad$ $de$ $calorias$ $que$ $hay$ $en$ $un$ $paquete$ $sera$ $la$ $siguiente$, $asi$ $como$ $sus$ $otros$ $factores$ $nutricionales$:\n"
   ]
  },
  {
   "cell_type": "code",
   "execution_count": 7,
   "metadata": {},
   "outputs": [
    {
     "name": "stdout",
     "output_type": "stream",
     "text": [
      "Calorias:\n",
      "1162.0 K\n",
      "\n",
      "\n",
      "Grasa total:\n",
      "8.3 g\n",
      "\n",
      "\n",
      "Grasa Saturada:\n",
      "0.0 g\n",
      "\n",
      "\n",
      "Colesterol:\n",
      "41.5 mg\n",
      "\n",
      "\n",
      "Sodio:\n",
      "1079.0 mg\n",
      "\n",
      "\n",
      "Carbohidratos:\n",
      "83.0 g\n",
      "\n",
      "\n",
      "Fibra dietaria:\n",
      "0.0 g\n",
      "\n",
      "\n",
      "Proteina:\n",
      "16.6 g\n",
      "\n",
      "\n",
      "Vitamina A:\n",
      "0.0 mcg\n",
      "\n",
      "\n",
      "Vitamina C:\n",
      "0.0 mg\n",
      "\n",
      "\n",
      "Calcio:\n",
      "0.0 mg\n",
      "\n",
      "\n",
      "Hierro:\n",
      "5.976 mg\n",
      "\n",
      "\n"
     ]
    }
   ],
   "source": [
    "palitos=8.3\n",
    "Gramos_total=14\n",
    "caloT=(palitos*116.2)/Gramos_total\n",
    "n1=caloT/8.3\n",
    "grasa=1*n1\n",
    "grasasat=0*n1\n",
    "coles=5*n1\n",
    "sodio=130*n1\n",
    "carbohid=10*n1\n",
    "fribde=0*n1\n",
    "proteina=2*n1\n",
    "Va=n1*0\n",
    "Vc=n1*0\n",
    "Ca=n1*0\n",
    "H=n1*0.72\n",
    "\n",
    "print(\"Calorias:\")\n",
    "print(n1*80)\n",
    "print(\"\\n\")\n",
    "print(\"Grasa total:\")\n",
    "print(grasa,\"g\")\n",
    "print(\"\\n\")\n",
    "print(\"Grasa Saturada:\")\n",
    "print(grasasat,\"g\")\n",
    "print(\"\\n\")\n",
    "print(\"Colesterol:\")\n",
    "print(coles,\"mg\")\n",
    "print(\"\\n\")\n",
    "print(\"Sodio:\")\n",
    "print(sodio,\"mg\")\n",
    "print(\"\\n\")\n",
    "print(\"Carbohidratos:\")\n",
    "print(carbohid,\"g\")\n",
    "print(\"\\n\")\n",
    "print(\"Fibra dietaria:\")\n",
    "print(fribde,\"g\")\n",
    "print(\"\\n\")\n",
    "print(\"Proteina:\")\n",
    "print(proteina,\"g\")\n",
    "print(\"\\n\")\n",
    "print(\"Vitamina A:\")\n",
    "print(Va,\"mcg\")\n",
    "print(\"\\n\")\n",
    "print(\"Vitamina C:\")\n",
    "print(Vc,\"mg\")\n",
    "print(\"\\n\")\n",
    "print(\"Calcio:\")\n",
    "print(Ca,\"mg\")\n",
    "print(\"\\n\")\n",
    "print(\"Hierro:\")\n",
    "print(H,\"mg\")\n",
    "print(\"\\n\")"
   ]
  },
  {
   "cell_type": "markdown",
   "metadata": {},
   "source": [
    "### PRECIO DE LOS PRODUCTO POR PAQUETES"
   ]
  },
  {
   "cell_type": "markdown",
   "metadata": {},
   "source": [
    "| PRODUCTO       | CANTIDAD  | PRECIO($)   |\n",
    "| :------------: |:---------:|:-------  |\n",
    "| Arandanos      | 100g      |  3100   |\n",
    "| Pan de arroz   | 80g       |  1950   |\n",
    "| Wafer minitaco | 80g       |  1050   |\n",
    "| Minipalitrooque| 100g      |  1800   |\n",
    "| Compota        |           |  1250   |\n",
    "\n",
    "$Tabla$ $N°6$ $precios$ $de$ $los$ $productos$  "
   ]
  },
  {
   "cell_type": "markdown",
   "metadata": {},
   "source": [
    "##### PROBLEMA A RESOLVER"
   ]
  },
  {
   "cell_type": "markdown",
   "metadata": {},
   "source": [
    "$Por$ $medio$ $de$ $la$ $tabla$ $se$ $debe$ $plantear$ $una$ $dieta$ $nutricional$ $balanceada$ $diaria$ $que$ $cumpla$ $con$ $restriciones$ $de$ $nutrientes$ $maximo$ $que$ $se$ $basan$ $en$ $ 2000 $ $calorias$ $diarias$"
   ]
  },
  {
   "cell_type": "markdown",
   "metadata": {},
   "source": [
    "##### VARIABLES\n"
   ]
  },
  {
   "cell_type": "markdown",
   "metadata": {},
   "source": [
    "$$(1)Pan=Pan de arroz$$\n",
    "$$(2)Ara=Arandanos$$\n",
    "$$(3)Waf=Wafer minitaco$$\n",
    "$$(4)Minp=Minipalitroowe$$\n",
    "$$(5)Com=Compota$$\n",
    "\n"
   ]
  },
  {
   "cell_type": "markdown",
   "metadata": {},
   "source": [
    "$Donde$ $se$ $debe$ $tener$ $la$ $siguientes$ $condiciones$"
   ]
  },
  {
   "cell_type": "markdown",
   "metadata": {},
   "source": [
    "##### GRASA TOTAL\n",
    "$$Pan+Ara+Waf+Minp+Com <= 65g$$\n",
    "##### GRASA SATURADA\n",
    "$$Pan+Ara+Waf+Minp+Com <= 20g$$\n",
    "##### COLESTEROL\n",
    "$$Pan+Ara+Waf+Minp+Com <= 300mg$$\n",
    "##### SODIO\n",
    "$$Pan+Ara+Waf+Minp+Com <= 2400mg$$\n",
    "##### CARBOHIDRATOS\n",
    "$$Pan+Ara+Waf+Minp+Com <= 300g$$\n",
    "##### FIBRA DIETARIA\n",
    "$$Pan+Ara+Waf+Minp+Com <= 25g$$\n",
    "##### PROTEINAS\n",
    "$$Pan+Ara+Waf+Minp+Com <= 200g$$\n",
    "##### VITAMINA A\n",
    "$$Pan+Ara+Waf+Minp+Com <= 900mcg$$\n",
    "##### VITAMINA C\n",
    "$$Pan+Ara+Waf+Minp+Com <= 90mg$$\n",
    "##### HIERRO\n",
    "$$Pan+Ara+Waf+Minp+Com <= 18mg$$\n",
    "##### CALCIO\n",
    "$$Pan+Ara+Waf+Minp+Com <= 2500mg$$"
   ]
  },
  {
   "cell_type": "markdown",
   "metadata": {},
   "source": [
    "##### FUNCION OBJETIVO"
   ]
  },
  {
   "cell_type": "markdown",
   "metadata": {},
   "source": [
    "$Minimizar$ $la$ $cantidad$ $de$ $dinero$ $para$ $cumplir$ $con$ $las$ $restriciones$ "
   ]
  }
 ],
 "metadata": {
  "kernelspec": {
   "display_name": "Python 3",
   "language": "python",
   "name": "python3"
  },
  "language_info": {
   "codemirror_mode": {
    "name": "ipython",
    "version": 3
   },
   "file_extension": ".py",
   "mimetype": "text/x-python",
   "name": "python",
   "nbconvert_exporter": "python",
   "pygments_lexer": "ipython3",
   "version": "3.6.4"
  }
 },
 "nbformat": 4,
 "nbformat_minor": 2
}
