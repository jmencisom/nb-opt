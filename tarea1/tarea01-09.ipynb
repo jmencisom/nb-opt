{
 "cells": [
  {
   "cell_type": "markdown",
   "metadata": {},
   "source": [
    "### **TAREA 01-09. **\n",
    "#### ** BRAYAN SALDARRIAGA **\n",
    "#### ** DAVID LEON CUBILLOS**\n"
   ]
  },
  {
   "cell_type": "markdown",
   "metadata": {},
   "source": [
    "Se plantea como problema la construcción de un modelo que me relacione el presupuesto monetario con el beneficio alimenticio ofrecido por cinco productos, los cuales fueron:\n",
    "1. Compota\n",
    "2. Palitos\n",
    "3. Pandearroz\n",
    "4. Galletas\n",
    "5. Arándanos\n"
   ]
  },
  {
   "cell_type": "markdown",
   "metadata": {},
   "source": [
    "Ya que el dinero es un recurso escaso, nuestra función objetivo sera la **reduccion de gastos** "
   ]
  },
  {
   "cell_type": "markdown",
   "metadata": {},
   "source": [
    "Se procede a cuantificar nuestras variables, de la siguiente manera:\n",
    "1. **X:** Cantidad de compotas \n",
    "2. **Y:** Cantidad de paquetes de palitos\n",
    "3. **K:** Cantidad de paquetes de pandearroz\n",
    "4. **T:** Cantidad de paquetes de galletas\n",
    "5. **R:**  Cantidad de paquetes de arándanos "
   ]
  },
  {
   "cell_type": "markdown",
   "metadata": {},
   "source": [
    "Ya que los productos poseen un costo, estos tienen que se ayadidos en la guncion objetivo. Los precios son los siguientes:\n",
    "\n",
    "- paquete de arándanos = 6200\n",
    "- paquete de pandearroz = 1950\n",
    "- paquete de palitos = 1800\n",
    "- paquete de galletas = 1050\n",
    "- compota = 1250\n",
    "\n",
    "por lo tanto la función objetivo correspondiente es:\n",
    "\n",
    "**Zmin** = 1250*X + 6200*R + 1950*K + 1800*Y + 1050T\n",
    "\n",
    "ya que estos productos vienen en paquete los valores de las variables deben ser numeros enteros. de lo contrario se realizara aproximacion superior para no omitir ninguna de las restricciones."
   ]
  },
  {
   "cell_type": "markdown",
   "metadata": {},
   "source": [
    "Ya que la función objetivo fue una minizacion, esta tendera a cero si no posee restricciones. De acuerdo  a una dieta nutricional sana, el adulto necesita al menos 2000 calorías diarias (en cada compra) distribuidas de la siguiente forma:   \n",
    "\n",
    "| **calorias**      | **2000**     |\n",
    "| ------------- | ------------- |\n",
    "| Grasa total | 65g |\n",
    "|  Grasa saturada|20g  |\n",
    "| Colesterol | 0.3g |\n",
    "| sodio | 2.4g |\n",
    "| Carbohidratos | 0.3g |\n",
    "| Fibra dietaria | 25g |\n",
    "| Proteina | 200g |\n",
    "| Vitamina A | 0.0009g |\n",
    "| Vitamina C | 0.09g |\n",
    "| Calcio | 2.5g |\n",
    "| Hierro | 0.018g |\n",
    "\n",
    "cabe aclarar que los valores nutricionales encontrados en cada empaque estan dados por porciones, lo cual indica que cada valor debe ser multiplicado por el numero de porciones en el paquete.\n",
    "\n",
    "\n",
    "\n",
    "\n",
    "\n",
    "\n",
    "\n",
    "\n",
    "\n"
   ]
  },
  {
   "cell_type": "markdown",
   "metadata": {},
   "source": [
    "### **Aporte nutricional galletas**\n",
    "\n",
    "numero de porciones: 3\n",
    "\n",
    "\n",
    "| **nutriente**      | **cant. porcion**   | ** cant. total **   |\n",
    "| ------------- | ------------- | ------------------|\n",
    "| calorias     | 120     || 360|\n",
    "| Grasa total | 6g || 18g  |\n",
    "|  Grasa saturada|3g  || 9g |\n",
    "| Colesterol | 0g || 0g |\n",
    "| sodio | 0.01g || 0.03g |\n",
    "| Carbohidratos | 16g || 48g |\n",
    "| Fibra dietaria | 0g ||  0|\n",
    "| Proteina | 2g || 6g |\n",
    "| Vitamina A | 0g || 0 |\n",
    "| Vitamina C | 0g || 0 |\n",
    "| Calcio | 0g || 0 |\n",
    "| Hierro | 0.072g ||0.216  |\n",
    "\n"
   ]
  },
  {
   "cell_type": "markdown",
   "metadata": {},
   "source": [
    "### **Aporte nutricional arandanos**\n",
    "\n",
    "numero de porciones: 3\n",
    "\n",
    "\n",
    "|| **nutriente**      | **cant. porcion**   | ** cant. total **   |\n",
    "| ------------- | ------------- | ------------------|\n",
    "| calorias     | 110     || 330|\n",
    "| Grasa total | 0g || 0g  |\n",
    "|  Grasa saturada|0g  || 0g |\n",
    "| Colesterol | 0g || 0g |\n",
    "| sodio | 0g || 0g |\n",
    "| Carbohidratos | 23g || 69g |\n",
    "| Fibra dietaria | 2g ||  6g|\n",
    "| Proteina | 2g || 6g |\n",
    "| Vitamina A | 0,000018g || 0,000054 |\n",
    "| Vitamina C | 0,000135g || 0,0000405 |\n",
    "| Calcio | 0g || 0 |\n",
    "| Hierro | 0.0g ||0g  |\n"
   ]
  },
  {
   "cell_type": "markdown",
   "metadata": {},
   "source": [
    "### **Aporte nutricional pandearroz**\n",
    "\n",
    "numero de porciones: 9\n",
    "\n",
    "\n",
    "| **nutriente**      | **cant. porcion**   |    ** cant. total **   |\n",
    "| -------------      | -------------       | ------------------|\n",
    "| calorias           | 140                 | 1260|\n",
    "| Grasa total        | 5g                  | 45g  |\n",
    "|  Grasa saturada    |3g                   | 27g |\n",
    "| Colesterol         | 0.005g              | 0.045g |\n",
    "| sodio              | 0.320g              | 2.88g |\n",
    "| Carbohidratos      | 17g                 | 51g |\n",
    "| Fibra dietaria     | 2g                  |  18g|\n",
    "| Proteina           | 6g                  |  54g |\n",
    "| Vitamina A         | 0g                  | 0 |\n",
    "| Vitamina C         | 0g                  | 0 |\n",
    "| Calcio             | 0.375g              | 3.375 |\n",
    "| Hierro             |  0                  |0  |\n"
   ]
  },
  {
   "cell_type": "markdown",
   "metadata": {},
   "source": [
    "### **Aporte nutricional palitos**\n",
    "\n",
    "numero de porciones: 8\n",
    "\n",
    "\n",
    "| **nutriente**      | **cant. porcion**   |    ** cant. total **   |\n",
    "| -------------      | -------------       | ------------------|\n",
    "| calorias           | 80                 | 640|\n",
    "| Grasa total        | 1g                  | 8g  |\n",
    "|  Grasa saturada    |0                   | 0g |\n",
    "| Colesterol         | 0.005g              | 0.04g |\n",
    "| sodio              | 0.13g              | 1.04g |\n",
    "| Carbohidratos      | 10g                 | 80g |\n",
    "| Fibra dietaria     | 0g                  |  0g|\n",
    "| Proteina           | 2g                  |  16g |\n",
    "| Vitamina A         | 0g                  | 0 |\n",
    "| Vitamina C         | 0g                  | 0 |\n",
    "| Calcio             | 0g              | 0 |\n",
    "| Hierro             |  0.00072                  |0.00576  |"
   ]
  },
  {
   "cell_type": "markdown",
   "metadata": {},
   "source": [
    "### **Aporte nutricional compota*\n",
    "\n",
    "numero de porciones: 1\n",
    "\n",
    "\n",
    "| **nutriente**      | **cant. porcion**   \n",
    "| -------------      | -------------       | \n",
    "| calorias           | 80                 | \n",
    "| Grasa total        | 0g                  | \n",
    "|  Grasa saturada    |0g                   | \n",
    "| Colesterol         | 0.005g              | \n",
    "| sodio              | 0.02g              | \n",
    "| Carbohidratos      | 20g                 | \n",
    "| Fibra dietaria     | 0g                  | \n",
    "| Proteina           | 0g                  |  \n",
    "| Vitamina A         | 0g                  | \n",
    "| Vitamina C         | 0.045g                  | \n",
    "| Calcio             | 0.225g              | \n",
    "| Hierro             |  0                  |"
   ]
  },
  {
   "cell_type": "markdown",
   "metadata": {},
   "source": [
    "### **RESTRICCIONES**\n",
    "Ya no queda mas que plantear las restricciones como mayor o igual a su respectivo valor minimo por nutriente diario, tomando el valor de cada nutriente del alimento por la cantidad de paquetes comprados del alimento. por ejemplo:\n",
    "#### **calorias**\n",
    "80X+640Y+1260K+330R+360T >= 2000\n",
    "\n",
    "### **Restriccion monetaria**\n",
    "\n",
    "ya que el sistema de minimizacion llevara el modelo a la minima compra en donde idealmente sea al menos un ejemplar de cada producto. sin embargo, si el comprador posee aun mas presupuesto, una restriccion menetaria seria util. De la siguiente forma:\n",
    "\n",
    "\n",
    "1250*X + 6200*R + 1950*K + 1800*Y + 1050T = PRESUPUESTO MONETARIO\n"
   ]
  },
  {
   "cell_type": "code",
   "execution_count": null,
   "metadata": {},
   "outputs": [],
   "source": []
  }
 ],
 "metadata": {
  "kernelspec": {
   "display_name": "Python 3",
   "language": "python",
   "name": "python3"
  },
  "language_info": {
   "codemirror_mode": {
    "name": "ipython",
    "version": 3
   },
   "file_extension": ".py",
   "mimetype": "text/x-python",
   "name": "python",
   "nbconvert_exporter": "python",
   "pygments_lexer": "ipython3",
   "version": "3.5.2"
  }
 },
 "nbformat": 4,
 "nbformat_minor": 2
}
