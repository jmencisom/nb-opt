{
 "cells": [
  {
   "cell_type": "markdown",
   "metadata": {},
   "source": [
    "#### Andres Mauricio Cordoba 161003510\n",
    "#### Diego Mendez Celis 161003522"
   ]
  },
  {
   "cell_type": "markdown",
   "metadata": {},
   "source": [
    "# Planteamiento del problema\n",
    "El problema a plantear, es un modelo el cual pueda relacionar la cantidad minima del presupuesto monetario y que se pueda aprovechar al maximo con respecto al beneficio alimentario que se puede conseguir a partir de estos 5productos:\n",
    "\n",
    "    1-Galletas\n",
    "    2-Pasapalitos\n",
    "    3-Compota\n",
    "    4-Rosquitas\n",
    "    5-Arandanos"
   ]
  },
  {
   "cell_type": "markdown",
   "metadata": {},
   "source": [
    "###### Proseguimos a cuantificar las variables, tal que entontes tendremos:\n",
    "x1 = Galletas\n",
    "\n",
    "x2 = Pasapalitos\n",
    "\n",
    "x3 = Compota\n",
    "\n",
    "x4 = Rosquitas\n",
    "\n",
    "x5 = Arandanos"
   ]
  },
  {
   "cell_type": "markdown",
   "metadata": {},
   "source": [
    "## Tabla de datos:\n",
    "En la siguiente tabla de datos, se pueden hallar la descripcion de cada uno de los respectivos productos, y las restricciones a las que tendran que estar sujetas (dichas restricciones se encuentran en la casilla 'necesario').\n",
    "\n",
    "Cabe destacar, que estos valores de los productos corresponden al numero de paquetes, y no de porciones\n",
    "\n",
    "|    Nutriente    | Galletas | Pasapalitos | Compota | Rosquitas | Arandanos | Necesario|\n",
    "|-----------------|----------|-------------|---------|-----------|-----------|----------|\n",
    "|Calorias         |360       |498          |80       |364000     |330        | > 3000   |\n",
    "|Calorias de grasa|150       |83           |0        |117000     |30         | > 900    |\n",
    "|Grasa total      |18        |8.3          |0        |13         |3          | > 50     |\n",
    "|Grasa saturada   |9         |0            |0        |7.8        |0          | < 30     |\n",
    "|Sodio            |0.03      |1.079        |0.02     |0.832      |0          | < 2.3    |\n",
    "|Carbohidratos    |48        |83           |20       |44.2       |69         | = 120    |\n",
    "|Proteina         |3         |16.6         |1        |0          |3          | > 126    |\n",
    "|Azucar           |27        |0            |13       |2.6        |57         | < 50     |\n",
    "|Hierro           |9.6       |33.2         |0        |0          |0          | > 0.014  |\n",
    "|Colesterol       |0         |0            |0        |0.013      |0          | < 0.3    |\n",
    "|Fibra dietaria   |0         |0            |0        |5.2        |6          | > 30     |\n",
    "|Vitamina A       |0         |0            |0        |0          |6          | > 0.001  |\n",
    "|Vitamina C       |0         |0            |4.5      |0          |45         | > 0.08   |\n",
    "|Calcio           |0         |0            |10       |20.8       |0          | > 0.8    |\n",
    "|**Precio**       |1050      |1800         |1250     |1950       |3100       | --       |\n",
    "                                                                                       Tabla 1"
   ]
  },
  {
   "cell_type": "markdown",
   "metadata": {},
   "source": [
    "### **Funcion Objetivo:**\n",
    "Al momento de escribir la funcion objetivo, tendremos en cuenta los costos de cada uno de los productos, ya que la idea de dicha funcion, es minimizar los gastos, tal que la funcion objetivo sera dada por:\n",
    "\n",
    "$$                \n",
    "F(x)=1050x1 +1800x2 +1250x3 +1950x4 +3100x5\n",
    "$$"
   ]
  },
  {
   "cell_type": "markdown",
   "metadata": {},
   "source": [
    "### Restricciones: \n",
    "Asi mismo, las restricciones seran dadas por:\n",
    "\n",
    "$$ 360x1 +498x2 +80x3 +364000x4 +330x5 > 3000 $$\n",
    "\n",
    "$$ 150x1 +83x2 +117000x4 +30x5 > 900 $$\n",
    "\n",
    "$$ 18x1 +8.3x2 +13x4 +3x5 >50 $$\n",
    "\n",
    "$$ 9x1 +7.8x4 <30 $$\n",
    "\n",
    "$$ 0.03x1 +1.079x2 +0.02x3 +0.832x4 <2.3 $$\n",
    "\n",
    "$$ 48x1 +83x2 +20x3 +44.2x4 +69x5 = 120 $$\n",
    "\n",
    "$$ 3x1 +16.6x2 +x3 +3x5 > 126 $$\n",
    "\n",
    "$$ 27x1 +13x3 +2.6x4 +57x5 <50 $$\n",
    "\n",
    "$$ 9.6x1 +33.2x2 <0.014 $$\n",
    "\n",
    "$$ 0.013x4 <0.3 $$\n",
    "\n",
    "$$ 5.2x4 +6x5 >30 $$\n",
    "\n",
    "$$ 6x5 > 0.001 $$\n",
    "\n",
    "$$ 4.5x3 +45x5 >0.08 $$\n",
    "\n",
    "$$ 10x3 +20.8x4 >0.8 $$\n"
   ]
  },
  {
   "cell_type": "code",
   "execution_count": null,
   "metadata": {},
   "outputs": [],
   "source": []
  }
 ],
 "metadata": {
  "kernelspec": {
   "display_name": "Python 3",
   "language": "python",
   "name": "python3"
  },
  "language_info": {
   "codemirror_mode": {
    "name": "ipython",
    "version": 3
   },
   "file_extension": ".py",
   "mimetype": "text/x-python",
   "name": "python",
   "nbconvert_exporter": "python",
   "pygments_lexer": "ipython3",
   "version": "3.6.4"
  }
 },
 "nbformat": 4,
 "nbformat_minor": 2
}
