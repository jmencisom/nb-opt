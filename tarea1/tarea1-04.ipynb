{
 "cells": [
  {
   "cell_type": "markdown",
   "metadata": {},
   "source": [
    "---\n",
    "# OPTIMIZACION DE DIETA DE 2000 KCAL\n",
    "---\n",
    "\n",
    "### JORGE GARAY RIVERA 161003417\n",
    "### CESAR ANDRES GALINDO 161003313"
   ]
  },
  {
   "cell_type": "markdown",
   "metadata": {},
   "source": [
    "|    || Compota || Arandanos || Pan de arroz || Alchiras || Wafer || Und |\n",
    "|:-------:||:--------:||:------------:||:-------:|||:-----:||:---:||:---:| \n",
    "| Calorias || 80 || 110 || 140 || 60 || 120 || kcal| \n",
    "| Cal grasas || 0 || 10 || 45 || 10 || 50 || kcal|\n",
    "|Grasa total || 0 || 1000 || 5000 || 1000 || 6000 || mg|\n",
    "|Colesterol || 0 || 0 || 5 || 0 || 0 || mg|\n",
    "|Sodio || 20 || 0 || 320 || 130 || 10 || mg|\n",
    "|Carbohidratos || 20000 || 23000 || 17000 || 10000 || 16000 || mg|\n",
    "|Proteina || 1000 || 1000 || 6000 || 2000 || 1000 || mg\n",
    "|Vitamina A || 0 || 2 || 0 || 0 || 0 || Porcentaje |\n",
    "|Vitamina C || 50 || 15 || 0 || 0 || 0 || Porcentaje|\n",
    "|Calcio || 9 || 0 || 10 || 0 || 0 || Porcentaje|\n",
    "|Hierro || 0 || 0 || 0 || 4 || 4 || Porcentaje|\n",
    "|Porciones || 1 || 3.3 || 2.6 || 8.3 || 3.3 || P.paquete|\n",
    "|Precio || 1250 || 3100 || 1950 || 1800 || 1050 || Pesos|\n",
    "   ###### Tabla 1. Información Nutricional\n",
    "   \n",
    "\n",
    "## Variables de Decisión:\n",
    "\n",
    "**Xi**: Porciones de alimentos a consumir durante el dia de alimento **i**. con **i**=1, Compota,|......|, **i**=5, Wafer.\n",
    "\n",
    "## Función Objetivo (Minimizar)\n",
    "\n",
    "1250X1+3100X2+1950X3+1800X4+1050X5\n",
    "\n",
    "## Restricciones:\n",
    "\n",
    "**Mínimo de Calorías**: 80X1+110X2+140X3+60X4+120X5 >= 2000\n",
    "\n",
    "**Mínimo de Calorías grasa**: 10X2+45X3+10X4+50X5 >= 50\n",
    "\n",
    "**Mínimo de Colesterol**: 5X4 >= 300\n",
    "\n",
    "**Mínimo de Sodio**: 20X1+320x3+130x4+10x5 >= 2300\n",
    "\n",
    "**Mínimo de Carbohidratos**: 20X1+23x2+17x3+10x4+16x5 >= 200\n",
    "\n",
    "**Mínimo de Proteina**: 1000X1+1000x2+6000x3+2000x4+1000x5 >= 100\n",
    "\n",
    "**Mínimo de Vitamina A**: 2x2 >= 0,7\n",
    "\n",
    "**Mínimo de Vitamina C**: 50x1+15x2 >= 90\n",
    "\n",
    "**Minimo de Calcio**: 9X1+10X3 >= 1000\n",
    "\n",
    "**Mínimo de Hierro**: 4x4+4x5 >= 8\n",
    "\n",
    "**No Negativos**: Xi>=0 Para todo **i**."
   ]
  }
 ],
 "metadata": {
  "kernelspec": {
   "display_name": "Python 3",
   "language": "python",
   "name": "python3"
  },
  "language_info": {
   "codemirror_mode": {
    "name": "ipython",
    "version": 3
   },
   "file_extension": ".py",
   "mimetype": "text/x-python",
   "name": "python",
   "nbconvert_exporter": "python",
   "pygments_lexer": "ipython3",
   "version": "3.6.4"
  }
 },
 "nbformat": 4,
 "nbformat_minor": 2
}
