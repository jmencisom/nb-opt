{
 "cells": [
  {
   "cell_type": "markdown",
   "metadata": {},
   "source": [
    "CAMILO GATIVA (161003615)\n",
    "\n",
    "$$VARIABLES(gramos)$$\n",
    "\n",
    " \n",
    "X0 = galletas\n",
    "\n",
    "X1 = arandanos\n",
    "\n",
    "X2 = palitos\n",
    "\n",
    "X3 = rosquitos\n",
    "\n",
    "X4 = compota\n",
    "\n",
    "\n"
   ]
  },
  {
   "cell_type": "markdown",
   "metadata": {},
   "source": [
    "TABLA NUTRICIONAL(porcion)\n",
    "\n",
    "|producto/caracteristica|\tgalletas\t|arandanos\t|palitos\t|rosquitas\t|compota|\tdieta de 2000 cal.|\n",
    "|--------------------------------------------------------------------------------------------------------------|\n",
    "|grasa                  |\t6           |        \t1|\t1|\t5|\t0\t|>= 44g|\n",
    "|colesterol             |0\t            |       0    |\t0|\t0,005|\t0\t|<= 0,02g|\n",
    "|sodio                  |\t0.01        |\t0\t     |0,13|\t0,32|\t0,2\t|>= 2,3g|\n",
    "|carbohidratos          |\t16\t        |23\t         |10|\t17|\t20\t|>= 225g|\n",
    "|fibra dietaria\t        |0              |2\t         |0\t|2|\t0\t|>= 20g|\n",
    "|azucar                 |\t9\t        |19\t         |0|\t1\t|13\t|>= 25g|\n",
    "|proteina\t            |1\t            |1\t                     |2\t|6\t|0,8\t     |>= 55g|\n",
    "|valor(porcion          |\t315\t        |930\t|252|\t731|\t1250|\n",
    "\n",
    "\n",
    "$$MODELO$$\n",
    "CUAL ES LA DIETADIETA MAS BARATO QUE SATISFAGA CON EL CONSUMO NECESARIO PARA UNA PERSONA DIARIAMENTE"
   ]
  },
  {
   "cell_type": "markdown",
   "metadata": {},
   "source": [
    "$$Restricciones$$\n",
    "\n",
    "$$6x0 + X1 + X2 + 5x3 >=44g$$\n",
    "$$0,005x3 <=0,02g$$\n",
    "$$0,01x0 + 0,13x2 + 0,32x3 + 0,2x4 >=2,3g$$\n",
    "$$16x0+23x1+10x2+17x3+20x4>=225g$$\n",
    "$$2x1+2x3>=20g$$\n",
    "$$9x0+19x1+x3+13x4>=25g$$\n",
    "$$x0+x1+2x2+6x3+x4>=55g$$\n"
   ]
  },
  {
   "cell_type": "markdown",
   "metadata": {},
   "source": [
    "$$FUNCION$$ $$ OBJETIVO$$\n",
    "\n",
    "$$z=315x0+930x1+252x2+731x3+1250x4$$"
   ]
  },
  {
   "cell_type": "code",
   "execution_count": null,
   "metadata": {},
   "outputs": [],
   "source": []
  }
 ],
 "metadata": {
  "kernelspec": {
   "display_name": "Python 3",
   "language": "python",
   "name": "python3"
  },
  "language_info": {
   "codemirror_mode": {
    "name": "ipython",
    "version": 3
   },
   "file_extension": ".py",
   "mimetype": "text/x-python",
   "name": "python",
   "nbconvert_exporter": "python",
   "pygments_lexer": "ipython3",
   "version": "3.6.4"
  }
 },
 "nbformat": 4,
 "nbformat_minor": 2
}
