{
 "cells": [
  {
   "cell_type": "markdown",
   "metadata": {},
   "source": [
    "$$INGRID TATIANA PORTELA    161003648$$\n",
    "$$EDUAR STIVEN RODRIGUEZ    161003532$$\n",
    "\n",
    "\n",
    "$$TALLER 1$$\n",
    "\n",
    "|                   | PALITOS    |    ARANDANOS   | PAN DE ARROZ  |   COMPOTA  |  GALLETAS  |  CONSUMO NECESARIO | \n",
    "|------------------ |------------|----------------|---------------|------------|------------|--------------------|               \n",
    "|CALORIAS           |     60     |        110     |     140       |     80     |     120    |     2000           | \n",
    "|CALORIAS DE GRASA  |     10     |         10     |      45       |      0     |      50    |      250           | \n",
    "|GRASA TOTAL        |      2     |          2     |       8       |      0     |       9    |      100           |\n",
    "|GRASA SATURADA     |      0     |          0     |      15       |      0     |      15    |      100           |\n",
    "|COLESTEROL         |      0     |          0     |       2       |      0     |       0    |      100           |\n",
    "|SODIO              |      4     |          0     |      13       |      1     |       0    |      100           |\n",
    "|CARBOHOIDRATO      |      3     |          8     |       6       |      7     |       5    |      100           |\n",
    "|AZUCARES           |      0     |         19     |       1       |     13     |       9    |      100           |\n",
    "|PROTEINA           |      2     |          1     |       6       |      0     |       1    |      100           |\n",
    "|VITAMINA A         |      0     |          2     |       0       |      0     |       0    |      100           |\n",
    "|VITAMINA C         |      0     |         15     |       0       |     50     |       0    |      100           |\n",
    "|CALCIO             |      0     |          0     |       0       |      9     |       0    |      100           |\n",
    "|HIERRO             |      4     |          0     |       0       |      0     |       4    |      100           |\n",
    "|FIBRA DIETARIA     |      0     |          8     |       8       |      0     |       0    |      100           |\n",
    "|------------------ |------------|----------------|---------------|------------|------------|--------------------|\n",
    "|PRECIOS POR PORCION|     434    |        316     |     733       |    1.250   |    316     |                    |\n",
    "|------------------ |------------|----------------|---------------|------------|------------|--------------------|\n",
    "|PRECIOS POR PAQUETE|    1.800   |       3.100    |    1.950      |    1.250   |  1.050     |                    |\n",
    "|------------------ |------------|----------------|---------------|------------|------------|--------------------|\n",
    "|PORCIONES POR PAQUETE|    7.14  |       3.33     |     2.66      |        1   |   3.33     |                    |\n",
    "|------------------ |------------|----------------|---------------|------------|------------|--------------------|\n",
    "$$PLANTEAMIENTO DEL PROBLEMA$$\n",
    "\n",
    "SABER CUAL ES LA DIETA MAS ECONOMICA QUE CUMPLA CON EL CONSUMO NECESARIO PARA UNA PERSONA NORMAL.\n",
    "\n",
    "$$X_1:PALITOS$$\n",
    "$$X_2:ARANDANOS$$\n",
    "$$X_3:PAN DE ARROZ$$\n",
    "$$X_4:COMPOTA$$\n",
    "$$X_5:GALLETAS$$\n",
    "\n",
    "$$RESTRINCIONES$$\n",
    "\n",
    " $$60X_1+110X_2+140X_3+80X_4+120X_5\\geq2000$$\n",
    " $$10X_1+10X_2+45X_3+50X_5\\geq250$$\n",
    " $$2X_1+2X_2+8X_3+9X_5\\geq100$$\n",
    " $$15X_3+15X_5\\geq100$$\n",
    " $$2X_3\\leq100$$\n",
    " $$40X_1+13X_3+X_4\\leq100$$\n",
    " $$3X_1+8X_2+6X_3+7X_4+5X_5\\geq100$$\n",
    " $$19X_2+X_3+13X_4+9X_5\\geq100$$\n",
    " $$2X_1+X_2+16X_3+1X_5\\leq100$$\n",
    " $$2X_2\\leq100$$\n",
    " $$15X_2+50X_4\\leq100$$\n",
    " $$9x_4\\leq100$$\n",
    " $$4X_1+4X_5\\leq100$$\n",
    " $$8X_2+8X_3\\leq100$$\n",
    " \n",
    "$$FUNCION OBJETIVO$$\n",
    "\n",
    "DETERMINAR EL MENOR COSTO PARA LA DIETA DE UNA PERSONA NORMAL \n",
    "\n",
    "$$Z(min)=1800X_1+3100X_2+1950X_3+1250X_4+1050X_5$$\n",
    "\n"
   ]
  },
  {
   "cell_type": "code",
   "execution_count": 9,
   "metadata": {},
   "outputs": [
    {
     "name": "stdout",
     "output_type": "stream",
     "text": [
      "Optimization terminated successfully.\n",
      "         Current function value: -0.000000   \n",
      "         Iterations: 0\n",
      "     fun: -0.0\n",
      " message: 'Optimization terminated successfully.'\n",
      "     nit: 0\n",
      "   slack: array([2000.,  250.,  100.,  100.,  100.,  100.,  100.,  100.,  100.,\n",
      "        100.,  100.,  100.,  100.,  100.])\n",
      "  status: 0\n",
      " success: True\n",
      "       x: array([0., 0., 0., 0., 0.])\n"
     ]
    }
   ],
   "source": [
    "from scipy.optimize import linprog\n",
    "\n",
    "c = [1800,3100,1950,1250,1050]\n",
    "A = [[60,110,140,80,120],[10,10,45,0,50],[2,2,8,0,9],[0,0,15,0,15],[0,0,2,0,0],[40,0,13,1,0],[3,8,6,7,5],[0,19,1,13,9],[2,1,6,0,1],[0,2,0,0,0],[0,15,0,50,0],[0,0,0,9,0],[4,0,0,0,4],[0,8,8,0,0]]\n",
    "b = [2000,250,100,100,100,100,100,100,100,100,100,100,100,100]\n",
    "\n",
    "\n",
    "x1_bounds = (0,None)\n",
    "x2_bounds = (0,None)\n",
    "x3_bounds = (0,None)\n",
    "x4_bounds = (0,None)\n",
    "x5_bounds = (0,None)\n",
    "\n",
    "res = linprog(c, A_ub=A, b_ub=b, bounds=( x1_bounds,x2_bounds,x3_bounds,x4_bounds,x5_bounds), options={\"disp\": True})\n",
    "print(res)"
   ]
  },
  {
   "cell_type": "code",
   "execution_count": null,
   "metadata": {},
   "outputs": [],
   "source": []
  }
 ],
 "metadata": {
  "kernelspec": {
   "display_name": "Python 3",
   "language": "python",
   "name": "python3"
  }
 },
 "nbformat": 4,
 "nbformat_minor": 2
}
