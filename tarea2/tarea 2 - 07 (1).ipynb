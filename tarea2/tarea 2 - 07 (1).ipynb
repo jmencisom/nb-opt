{
 "cells": [
  {
   "cell_type": "markdown",
   "metadata": {},
   "source": [
    "Angie Gordillo -Ricardo Becerra"
   ]
  },
  {
   "cell_type": "markdown",
   "metadata": {},
   "source": [
    "Considere el siguiente problema:\n",
    "\n",
    "Minimizar:"
   ]
  },
  {
   "cell_type": "markdown",
   "metadata": {},
   "source": []
  },
  {
   "cell_type": "code",
   "execution_count": 3,
   "metadata": {},
   "outputs": [],
   "source": [
    "\n",
    "from scipy.optimize import linprog"
   ]
  },
  {
   "cell_type": "markdown",
   "metadata": {},
   "source": [
    "\n",
    "\n",
    "$$A = [[80, 140, 120, 110, 60], [0, 45, 50, 10, 10], [0, 0.08, 0.09, 0.02, 0.02],[0, 0.15, 0.15, 0, 0], [0, 0.02, 0, 0, 0],$$\n",
    "\n",
    "\n",
    "$$[0.01, 0.13, 0.005, 0, 0.04],[0.07, 0.06, 0.05, 0.08, 0.03], [13, 1, 9, 19, 0],[1, 6, 1, 10, 2],[0, 0, 0, 0.2, 0],$$\n",
    "\n",
    "\n",
    "$$[0.5, 0, 0, 0.15, 0], [0.09, 0, 0, 0, 0],[0, 0, 0.04, 0, 0.04], [0, 0.08, 0, 0.08, 0]]$$\n",
    "\n",
    "\n",
    "\n",
    "\n"
   ]
  },
  {
   "cell_type": "markdown",
   "metadata": {},
   "source": [
    "\n",
    "\n",
    "\n",
    "$$B =[[2000,160,1,1,1,1,1,28,80,1,1,1,1,1]]$$\n",
    "\n",
    "\n",
    "\n",
    "x1_bounds =(0, None)\n",
    "x2_bounds =(0,None)\n",
    "x3_bounds =(0,None)\n",
    "x4_bounds =(0,None)\n",
    "x5_bounds =(0,None)\n",
    "\n",
    "res = linprog(c, A_ub=A, b_ub=B, bounds=(x1_bounds, x2_bounds, x3_bounds, x4_bounds, x5_bounds ), options={\"disp\": True})"
   ]
  }
 ],
 "metadata": {
  "kernelspec": {
   "display_name": "Python 3",
   "language": "python",
   "name": "python3"
  },
  "language_info": {
   "codemirror_mode": {
    "name": "ipython",
    "version": 3
   },
   "file_extension": ".py",
   "mimetype": "text/x-python",
   "name": "python",
   "nbconvert_exporter": "python",
   "pygments_lexer": "ipython3",
   "version": "3.6.4"
  }
 },
 "nbformat": 4,
 "nbformat_minor": 2
}
