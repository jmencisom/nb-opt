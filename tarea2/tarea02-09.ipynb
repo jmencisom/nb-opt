{
 "cells": [
  {
   "cell_type": "markdown",
   "metadata": {},
   "source": [
    "### **TAREA 02-09. **\n",
    "#### ** BRAYAN SALDARRIAGA **\n",
    "#### ** DAVID LEON CUBILLOS**\n",
    "\n",
    "### ** Tabla de Nutrientes **"
   ]
  },
  {
   "cell_type": "markdown",
   "metadata": {},
   "source": [
    "|   **Calorias**  | **Compota** |  **Arandanos** | **Pan de arroz**| **Galletas** |  **palitos** | **2000** |\n",
    "|--------------------------|--------|---------|------------|--------------|--------------|\n",
    "|Grasa total               |0g      |0g       |45g      |18g           |8g         |65g        |\n",
    "|Grasa Saturada            |0g      |0g      |27g     |9g      |0g      |20g     |\n",
    "|Colesterol                |0.005g  |0g      |0.045g  |0g      |0.04g   |0.3g    |\n",
    "|Sodio                     |0.02g   |0g      |2.88g   |0.03g   |1.04g   |2.4     |\n",
    "|Carbohidrato              |20g     |69g      |51g       |48g           |80g        |0.3g      |\n",
    "|Fibra dietaria            |0g      |6g      |18g     |0g      |0g      |25g     |\n",
    "|Proteina                  |0g      |6g       |54g       |6g           |16g        |200g       |\n",
    "|Vitamina A                |0g      |0.000054g       |0g          |0g            |0g            |0.0009g  |\n",
    "|Vitamina C                |0.045g     |0.0000405g      |0g          |0g            |0g            |0.09     |\n",
    "|Calcio                    |0.225g      |0g       |3.375g         |0g            |0g            |2.5g     |\n",
    "|Hierro                    |0g      |0g       |0g          |0.216g           |0.00576g         |0.018g   |\n",
    "|Precio ($)                |1250    |     3100|        1950|          1050|          1800|\n",
    "\n"
   ]
  },
  {
   "cell_type": "markdown",
   "metadata": {},
   "source": [
    "Se procede a cuantificar nuestras variables, de la siguiente manera:\n",
    "1. **X:** Cantidad de compotas \n",
    "2. **R:**  Cantidad de paquetes de arándanos \n",
    "3. **K:** Cantidad de paquetes de pandearroz\n",
    "4. **T:** Cantidad de paquetes de galletas\n",
    "5. **Y:** Cantidad de paquetes de palitos"
   ]
  },
  {
   "cell_type": "markdown",
   "metadata": {},
   "source": [
    "por lo tanto la función objetivo correspondiente es:\n",
    "\n",
    "**Zmin** = 1250*X + 3100*R + 1950*K + 1800*Y + 1050T"
   ]
  },
  {
   "cell_type": "markdown",
   "metadata": {},
   "source": [
    "### **RESTRICCIONES**"
   ]
  },
  {
   "cell_type": "markdown",
   "metadata": {},
   "source": [
    " 45K + 18T + 8Y ≤ 65\n",
    " \n",
    " 27K + 9T ≤ 20\n",
    " \n",
    " 0.005X + 0g + 0.045K + 0.04Y ≤ 0.3\n",
    " \n",
    " 0.02X + 2.88K + 0.03T + 1.04Y ≤ 2.4 \n",
    " \n",
    " 20K + 69R + 51K + 48T + 80Y  ≤ 0.3\n",
    " \n",
    " 6R + 18K ≤ 25 \n",
    " \n",
    " 6R + 54K + 6T + 16Y ≤ 200\n",
    " \n",
    " 0.000054R ≤ 0.0009\n",
    " \n",
    " 0.045X + 0.0000405R ≤ 0.09  \n",
    " \n",
    " 0.225X + 3.375K ≤ 2.5\n",
    " \n",
    " 0.216T + 0.00576Y ≤  0.018\n",
    " "
   ]
  },
  {
   "cell_type": "code",
   "execution_count": 26,
   "metadata": {},
   "outputs": [
    {
     "name": "stdout",
     "output_type": "stream",
     "text": [
      "Optimization terminated successfully.\n",
      "         Current function value: 11906.250000\n",
      "         Iterations: 17\n",
      "     fun: 11906.249999999989\n",
      " message: 'Optimization terminated successfully.'\n",
      "     nit: 17\n",
      "   slack: array([7.700000e+01, 4.300000e+01, 0.000000e+00, 9.170000e+00,\n",
      "       5.287000e+02, 1.700000e+01, 0.000000e+00, 1.999991e+02,\n",
      "       0.000000e+00, 5.825000e+00, 8.640000e-03])\n",
      "  status: 0\n",
      " success: True\n",
      "       x: array([2.        , 0.        , 2.33333333, 0.        , 4.625     ])\n"
     ]
    }
   ],
   "source": [
    "from scipy.optimize import linprog\n",
    "\n",
    "c = [1250, 3100, 1950, 1800, 1050]\n",
    "a = [[0, 0, -45, -18, -8], [0, 0, -27, -9, 0], [-0.005, 0, -0.045, 0, -0.04], [-0.02, 0, -2.88, -0.03, -1.04], [-20 , -69, -51, -48, -80], [0, -6, -18, 0, 0], [0, -6, -54, -6, -16], [0, -6, -54, -6, -16], [-0.045, -0.0000405, 0, 0, 0], [-0.225, 0, -3.375, 0, 0], [0, 0, 0, -0.216, -0.00576]]\n",
    "b = [-65, -20, -0.3, -2.4, -0.3, -25, -200, -0.0009, -0.09, -2.5, -0.018]\n",
    "\n",
    "X_bounds = (0, None)\n",
    "R_bounds = (0, None)\n",
    "K_bounds = (0, None)\n",
    "T_bounds = (0, None)\n",
    "Y_bounds = (0, None)\n",
    "\n",
    "res = linprog(c, A_ub=a, b_ub=b, bounds=(X_bounds, R_bounds, K_bounds, T_bounds, Y_bounds), options={\"disp\": True})\n",
    "print(res)"
   ]
  },
  {
   "cell_type": "code",
   "execution_count": 27,
   "metadata": {},
   "outputs": [
    {
     "name": "stdout",
     "output_type": "stream",
     "text": [
      "X0: 1.9999999999999976 \n",
      "X1: 0.0 \n",
      "X2: 2.333333333333332 \n",
      "X3: 0.0 \n",
      "X4: 4.625000000000002 \n"
     ]
    }
   ],
   "source": [
    "for i in range(5):\n",
    "    print(f\"X{i}: %s \" % (res.x[i]))"
   ]
  },
  {
   "cell_type": "code",
   "execution_count": null,
   "metadata": {},
   "outputs": [],
   "source": []
  }
 ],
 "metadata": {
  "kernelspec": {
   "display_name": "Python 3",
   "language": "python",
   "name": "python3"
  },
  "language_info": {
   "codemirror_mode": {
    "name": "ipython",
    "version": 3
   },
   "file_extension": ".py",
   "mimetype": "text/x-python",
   "name": "python",
   "nbconvert_exporter": "python",
   "pygments_lexer": "ipython3",
   "version": "3.6.4"
  }
 },
 "nbformat": 4,
 "nbformat_minor": 2
}
