{
 "cells": [
  {
   "cell_type": "markdown",
   "metadata": {},
   "source": [
    "Tabla valor nutricional por empaque.\n",
    "\n",
    "   | Valor Nutricional| Arandanos |Compota|Palitroque|Pan de arroz|Waffer|Necesario|\n",
    "   |:----------------:|:---------:|:-----:|:--------:|:----------:|:-----:|:-|\n",
    "   |*Vitamina A *|6%|0%|0%|0%|0%|$$\\geq100\\%$$|\n",
    "   |*Vitamina C*|45%|50%|0%|0%|0%|$$\\geq100\\%$$|\n",
    "   |*Calcio*|0%|9%|0%|26%|0%|$$\\geq100\\%$$|\n",
    "   |*Hierro*|0%|0%|33.2%|0%|12%|$$\\geq100\\%$$|\n",
    "   |*Proteína*|6%|0%|33.2%|31.2%|6%|$$\\geq100\\%$$|\n",
    "   |**Valor Comercial** | \\$3100 |\\$1250|\\$1800|\\$1950|\\$1050|\n",
    "   Tabla 1\n",
    "   \n",
    "\n",
    "   "
   ]
  },
  {
   "cell_type": "markdown",
   "metadata": {},
   "source": [
    "   Función objetivo: $$\\bf F(X)=3100x0+1250x1+1800x2+1950x3+1050x4$$\n",
    "   \n",
    "   Funcion a Minimizar: $$\\bf F(X)=-3100x0-1250x1-1800x2-1950x3-1050x4$$\n",
    "   \n",
    "   **x0:** *Arandanos;* **x1:** *Compota;*  **x2:** *Palitroque;* **x3:** *Pan de arroz;* **x4:** *Waffer*\n",
    "   \n",
    "   **Restriciones**\n",
    "   $$-0.06x0-0x1-0x2-0x3-0x4\\leq-1$$\n",
    "   \n",
    "   $$-0.45x0-0.5x1-0x2-0x3-0x4\\leq-1$$\n",
    "   \n",
    "   $$-0x0-0.091x1-0.26x2-0x3-0x4\\leq-1$$\n",
    "   \n",
    "   $$-0.06x0-0x1-0.332x2-0x3-0.12x4\\leq-1$$\n",
    "   \n",
    "   $$-0.06x0-0x1-0.332x2-0.312x3-0.06x4\\leq-1$$\n",
    "   "
   ]
  },
  {
   "cell_type": "code",
   "execution_count": 2,
   "metadata": {},
   "outputs": [
    {
     "name": "stdout",
     "output_type": "stream",
     "text": [
      "Optimization failed. The problem appears to be unbounded.\n",
      "         Iterations: 6\n"
     ]
    }
   ],
   "source": [
    "from scipy.optimize import linprog\n",
    "\n",
    "c = [-3100, -1250, -1800, -1950, -1050]\n",
    "A = [[-0.06, 0, 0, 0, 0], [-0.45, -0.5, 0, 0, 0], [0, -0.91, -0.26, 0, 0], [-0.06, 0, -0.332, 0, -0.12], [-0.06, 0, -0.332, -0.312, -0.06]]\n",
    "b = [-1, -1, -1, -1, -1]\n",
    "\n",
    "x0_bounds = (None, None)\n",
    "x1_bounds = (None, None)\n",
    "x2_bounds = (None, None)\n",
    "x3_bounds = (None, None)\n",
    "x4_bounds = (None, None)\n",
    "\n",
    "\n",
    "res = linprog(c, A_ub=A, b_ub=b, bounds=(x0_bounds, x1_bounds, x2_bounds, x3_bounds, x4_bounds), options={\"disp\": True})"
   ]
  },
  {
   "cell_type": "code",
   "execution_count": 3,
   "metadata": {},
   "outputs": [
    {
     "name": "stdout",
     "output_type": "stream",
     "text": [
      "     fun: -53040.293040293051\n",
      " message: 'Optimization failed. The problem appears to be unbounded.'\n",
      "     nit: 6\n",
      "   slack: array([  0.00000000e+00,   7.04945055e+00,   0.00000000e+00,\n",
      "         1.11022302e-16,   1.11022302e-16])\n",
      "  status: 3\n",
      " success: False\n",
      "       x: array([ 16.66666667,   1.0989011 ,   0.        ,   0.        ,   0.        ])\n"
     ]
    }
   ],
   "source": [
    "print(res)"
   ]
  },
  {
   "cell_type": "code",
   "execution_count": null,
   "metadata": {
    "collapsed": true
   },
   "outputs": [],
   "source": []
  }
 ],
 "metadata": {
  "kernelspec": {
   "display_name": "Python 3",
   "language": "python",
   "name": "python3"
  },
  "language_info": {
   "codemirror_mode": {
    "name": "ipython",
    "version": 3
   },
   "file_extension": ".py",
   "mimetype": "text/x-python",
   "name": "python",
   "nbconvert_exporter": "python",
   "pygments_lexer": "ipython3",
   "version": "3.6.3"
  }
 },
 "nbformat": 4,
 "nbformat_minor": 2
}
