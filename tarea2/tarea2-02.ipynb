{
 "cells": [
  {
   "cell_type": "markdown",
   "metadata": {},
   "source": [
    "$Jhann$ $Reyes$ - $Brandon$ $Loaiza$\n",
    "\n",
    "$Ejercicio$"
   ]
  },
  {
   "cell_type": "markdown",
   "metadata": {},
   "source": [
    "$X1$ : $Porcion$ $en$ $gramos$ $galletas$\n",
    "\n",
    "$X2$ : $Porcion$ $en$ $gramos$ $palitos$\n",
    "\n",
    "$X3$ : $Porcion$ $en$ $gramos$ $compota$\n",
    "\n",
    "$X4$ : $Porcion$ $en$ $gramos$ $P.Arroz$\n",
    "\n",
    "$X5$ : $Porcion$ $en$ $gramos$ $Arandanos$\n",
    "\n",
    "***\n",
    "\n",
    "|Producto  / Valor nutricional |Galleta (24g)|Palitos (14g)|Compota|P. Arroz (30g)|Arandanos (30)| Requerimiento diario|\n",
    "|------------------------------|-------------|-------------|-------|--------------|------------------------------------|\n",
    "| Grasa                       |    6g        | 1g          | 0g    | 5g           | 1g           |  >= 44g             |    \n",
    "| Colesterol                  | 0g           | 0g          | 0g    | 0,005g       | 0g           | >= 0,02g            |     \n",
    "| Sodio                       |0.01g         | 0.13g       | 0,02g | 0,32g        | 0g           | >= 2,3g             |    \n",
    "| Carbohidratos               | 16g          | 10g         | 20g   | 17g          | 23g          | >= 225g             | \n",
    "| Fibra dietaria              | 0g           | 0g          | 0g    | 2g           | 2g           | >= 20g              | \n",
    "| Azucar                      | 9g           | 0g          | 13g   | 1g           | 19g          | >= 25g              |   \n",
    "| Proteina                    |1g            | 2g          | <1g   | 6g           | 1g           | >= 55g              | \n",
    "| COSTOS  (Porcion)           |315           | 252         |  1250 |   731        |  950         |                     | \n",
    "\n",
    "***\n"
   ]
  },
  {
   "cell_type": "markdown",
   "metadata": {},
   "source": [
    "$Restricciones$ :\n",
    "\n",
    "$$ 6x1+x2+5x4+x5>=44 -Grasa $$\n",
    "\n",
    "$$ 0,005x4<=0,2  -Colesterol $$\n",
    "\n",
    "$$ 0,01x2+0,13x2+0,02x3+0,32x4>=2,3  -Sodio $$\n",
    "\n",
    "$$ 16x1+10x2+20x3+17x4+23x5>=225    -Carbohidratos $$\n",
    "\n",
    "$$ 2x4+2x5>=20   -Fibra-Dietaria $$\n",
    "\n",
    "$$ 9x1+13x3+x4+19x5>=25 -Azúcar $$\n",
    "\n",
    "$$ x1+2x2+0,9x3+6x4+x5>=55 -Proteina $$\n",
    "\n"
   ]
  },
  {
   "cell_type": "markdown",
   "metadata": {},
   "source": [
    "$Funcion$ $objetivo$ :"
   ]
  },
  {
   "cell_type": "markdown",
   "metadata": {},
   "source": [
    "$$\n",
    "Z = 315x1+252x2+1250x3+731x4+930x5 \n",
    "$$"
   ]
  },
  {
   "cell_type": "markdown",
   "metadata": {},
   "source": [
    "Para este problema, dado que nos basamos en una dieta alimenticia de 2000 calorías y confiando en varias fuentes, establecimos la cantidad mínima o máxima de nutrientes necesarios que necesita el cuerpo humano para su correcto funcionamiento, luego de eso establecimos el valor de los alimentos por porción ya que trabajándolo así fue que pudimos encontrar una solucion óptima para cumplir con esta dieta, por esta razón los datos presentados en la parte superior."
   ]
  },
  {
   "cell_type": "code",
   "execution_count": 13,
   "metadata": {},
   "outputs": [
    {
     "name": "stdout",
     "output_type": "stream",
     "text": [
      "Optimization terminated successfully.\n",
      "         Current function value: -0.000000   \n",
      "         Iterations: 0\n"
     ]
    }
   ],
   "source": [
    "from scipy.optimize import linprog\n",
    "\n",
    "C=[315,252,1250,731,930]\n",
    "A=[[6,1,0,5,1],[0,0,0,0.005,0],[0.01,0.13,0.02,0.32,0],[16,10,20,17,23],[0,0,0,2,2],[9,0,13,1,19],[1,2,0.9,6,1]]\n",
    "b=[44,0.2,2.3,225,20,25,55]\n",
    "\n",
    "x0_bounds = (0,None)\n",
    "x1_bounds = (0,None)\n",
    "x2_bounds = (0,None)\n",
    "x3_bounds = (0,None)\n",
    "x4_bounds = (0,None)\n",
    "\n",
    "res = linprog(C, A_ub=A, b_ub=b, bounds=(x0_bounds, x1_bounds, x2_bounds, x3_bounds, x4_bounds), options={\"disp\": True})"
   ]
  },
  {
   "cell_type": "code",
   "execution_count": 14,
   "metadata": {},
   "outputs": [
    {
     "name": "stdout",
     "output_type": "stream",
     "text": [
      "     fun: -0.0\n",
      " message: 'Optimization terminated successfully.'\n",
      "     nit: 0\n",
      "   slack: array([4.40e+01, 2.00e-01, 2.30e+00, 2.25e+02, 2.00e+01, 2.50e+01,\n",
      "       5.50e+01])\n",
      "  status: 0\n",
      " success: True\n",
      "       x: array([0., 0., 0., 0., 0.])\n"
     ]
    }
   ],
   "source": [
    "print(res)"
   ]
  },
  {
   "cell_type": "code",
   "execution_count": null,
   "metadata": {},
   "outputs": [],
   "source": []
  }
 ],
 "metadata": {
  "kernelspec": {
   "display_name": "Python 3",
   "language": "python",
   "name": "python3"
  },
  "language_info": {
   "codemirror_mode": {
    "name": "ipython",
    "version": 3
   },
   "file_extension": ".py",
   "mimetype": "text/x-python",
   "name": "python",
   "nbconvert_exporter": "python",
   "pygments_lexer": "ipython3",
   "version": "3.6.4"
  }
 },
 "nbformat": 4,
 "nbformat_minor": 2
}
