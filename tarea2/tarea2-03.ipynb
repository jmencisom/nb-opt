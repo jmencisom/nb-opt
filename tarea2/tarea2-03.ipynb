{
 "cells": [
  {
   "cell_type": "markdown",
   "metadata": {},
   "source": [
    "# **DATOS NUTRICIONALES**\n",
    "\n",
    "***"
   ]
  },
  {
   "cell_type": "markdown",
   "metadata": {},
   "source": [
    "## tabla de datos:\n",
    "\n",
    "|    Nutriente    | Galletas | Pasapalitos | Compota | Rosquitas | Arandanos | Necesario|\n",
    "|-----------------|----------|-------------|---------|-----------|-----------|----------|\n",
    "|Calorias         |360       |498          |80       |364000     |330        | > 3000   |\n",
    "|Calorias de grasa|150       |83           |0        |117000     |30         | > 900    |\n",
    "|Grasa total      |18        |8.3          |0        |13         |3          | > 50     |\n",
    "|Grasa saturada   |9         |0            |0        |7.8        |0          | < 30     |\n",
    "|Sodio            |0.03      |1.079        |0.02     |0.832      |0          | < 2.3    |\n",
    "|Carbohidratos    |48        |83           |20       |44.2       |69         | = 120    |\n",
    "|Proteina         |3         |16.6         |1        |0          |3          | > 126    |\n",
    "|Azucar           |27        |0            |13       |2.6        |57         | < 50     |\n",
    "|Hierro           |9.6       |33.2         |0        |0          |0          | > 0.014  |\n",
    "|Colesterol       |0         |0            |0        |0.013      |0          | < 0.3    |\n",
    "|Fibra dietaria   |0         |0            |0        |5.2        |6          | > 30     |\n",
    "|Vitamina A       |0         |0            |0        |0          |6          | > 0.001  |\n",
    "|Vitamina C       |0         |0            |4.5      |0          |45         | > 0.08   |\n",
    "|Calcio           |0         |0            |10       |20.8       |0          | > 0.8    |\n",
    "|**Precio**       |1050      |1800         |1250     |1950       |3100       | --       |\n",
    "\n",
    "_tabla 1._"
   ]
  },
  {
   "cell_type": "markdown",
   "metadata": {},
   "source": [
    "******************************************************"
   ]
  },
  {
   "cell_type": "markdown",
   "metadata": {},
   "source": [
    "### **Funcion Objetivo:**\n",
    "$$                \n",
    "F(x)=1050x1 +1800x2 +1250x3 +1950x4 +3100x5\n",
    "$$\n",
    "**Donde:**\n",
    "$$\n",
    "x1= galletas\n",
    "$$\n",
    "$$\n",
    "x2= pasapalitos\n",
    "$$\n",
    "$$\n",
    "x3= compota\n",
    "$$\n",
    "$$\n",
    "x4= rosquitas\n",
    "$$\n",
    "$$\n",
    "x5= arandanos\n",
    "$$\n",
    "### **Funcion Objetivo Minimizar**\n",
    "$$                \n",
    "F(x)=-1050x1 -1800x2 -1250x3 -1950x4 -3100x5\n",
    "$$"
   ]
  },
  {
   "cell_type": "markdown",
   "metadata": {},
   "source": [
    "***"
   ]
  },
  {
   "cell_type": "markdown",
   "metadata": {},
   "source": [
    "### Restricciones: \n",
    "$$\n",
    "360x1 +498x2 +80x3 +364000x4 +330x5 < 3000\n",
    "$$\n",
    "$$\n",
    "150x1 +83x2 +117000x4 +30x5 < 900\n",
    "$$\n",
    "$$\n",
    "18x1 +8.3x2 +13x4 +3x5 < 50\n",
    "$$\n",
    "$$\n",
    "9x1 +7.8x4 < 30\n",
    "$$\n",
    "$$\n",
    "0.03x1 +1.079x2 +0.02x3 +0.832x4 < 2.3\n",
    "$$\n",
    "$$\n",
    "48x1 +83x2 +20x3 +44.2x4 +69x5 < 120\n",
    "$$\n",
    "$$\n",
    "3x1 +16.6x2 +x3 +3x5 < 126\n",
    "$$\n",
    "$$\n",
    "27x1 +13x3 +2.6x4 +57x5 < 50\n",
    "$$\n",
    "$$\n",
    "9.6x1 +33.2x2 < 0.014\n",
    "$$\n",
    "$$\n",
    "0.013x4 < 0.3\n",
    "$$\n",
    "$$\n",
    "5.2x4 +6x5 < 30\n",
    "$$\n",
    "$$\n",
    "6x5 < 0.001\n",
    "$$\n",
    "$$\n",
    "4.5x3 +45x5 < 0.08\n",
    "$$\n",
    "$$\n",
    "10x3 +20.8x4 < 0.8\n",
    "$$\n",
    "\n"
   ]
  },
  {
   "cell_type": "markdown",
   "metadata": {},
   "source": [
    "***"
   ]
  },
  {
   "cell_type": "code",
   "execution_count": 59,
   "metadata": {},
   "outputs": [
    {
     "name": "stdout",
     "output_type": "stream",
     "text": [
      "Optimization terminated successfully.\n",
      "         Current function value: -38.749826  \n",
      "         Iterations: 6\n"
     ]
    }
   ],
   "source": [
    "from scipy.optimize import linprog\n",
    "c = [-1050,-1800,-1250,-1950,-3100]\n",
    "A = [[360, 498, 80, 364000, 330],[150, 83, 0, 117000, 30],[18, 8.3, 0, 13, 3],[9, 0, 0, 7.8, 0],[0.03, 1.079, 0.02, 0.832, 0],[48, 83, 20, 44.2, 69],[3, 16.6, 1, 0, 3],[27, 0, 13, 2.6, 57],[9.6, 33.2, 0, 0, 0],[0, 0, 0, 0.013, 0],[0, 0, 0, 5.2, 6],[0, 0, 0, 0, 6],[0, 0, 4.5, 0, 45],[0, 0, 10, 20.8, 0]]\n",
    "b = [3000,900,50,30,2.3,120,126,50,0.014,0.3,30,0.001,0.08,0.8]\n",
    "\n",
    "\n",
    "x1_bounds = (0,None)\n",
    "x2_bounds = (0,None)\n",
    "x3_bounds = (0,None)\n",
    "x4_bounds = (0,None)\n",
    "x5_bounds = (0,None)\n",
    "\n",
    "res = linprog(c, A_ub=A, b_ub=b, bounds=(x1_bounds, x2_bounds, x3_bounds, x4_bounds, x5_bounds), options={\"disp\": True})\n"
   ]
  },
  {
   "cell_type": "code",
   "execution_count": 60,
   "metadata": {},
   "outputs": [
    {
     "name": "stdout",
     "output_type": "stream",
     "text": [
      "     fun: -38.74982638888889\n",
      " message: 'Optimization terminated successfully.'\n",
      "     nit: 6\n",
      "   slack: array([1.98733333e+02, 0.00000000e+00, 4.98737743e+01, 2.99268896e+01,\n",
      "       2.29320225e+00, 1.19234527e+02, 1.25977847e+02, 4.97095187e+01,\n",
      "       0.00000000e+00, 2.99900024e-01, 2.99600097e+01, 1.00000000e-03,\n",
      "       0.00000000e+00, 4.62261111e-01])\n",
      "  status: 0\n",
      " success: True\n",
      "       x: array([0.00145833, 0.        , 0.01777778, 0.00769044, 0.        ])\n"
     ]
    }
   ],
   "source": [
    "print(res)"
   ]
  },
  {
   "cell_type": "code",
   "execution_count": null,
   "metadata": {},
   "outputs": [],
   "source": []
  }
 ],
 "metadata": {
  "kernelspec": {
   "display_name": "Python 3",
   "language": "python",
   "name": "python3"
  },
  "language_info": {
   "codemirror_mode": {
    "name": "ipython",
    "version": 3
   },
   "file_extension": ".py",
   "mimetype": "text/x-python",
   "name": "python",
   "nbconvert_exporter": "python",
   "pygments_lexer": "ipython3",
   "version": "3.6.4"
  }
 },
 "nbformat": 4,
 "nbformat_minor": 2
}
