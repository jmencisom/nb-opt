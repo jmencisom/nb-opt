{
 "cells": [
  {
   "cell_type": "markdown",
   "metadata": {},
   "source": [
    "---\n",
    "# OPTIMIZACION DE DIETA DE 2000 KCAL\n",
    "---\n",
    "\n",
    "### JORGE GARAY RIVERA 161003417\n",
    "### CESAR ANDRES GALINDO 161003313"
   ]
  },
  {
   "cell_type": "markdown",
   "metadata": {},
   "source": [
    "|    || Compota || Arandanos || Pan de arroz || Alchiras || Wafer || Und || Req. nut. | \n",
    "|:-------:||:--------:||:------------:||:-------:|||:-----:||:---:||:---:||:---:| \n",
    "|Grasa total || 0 || 1000 || 5000 || 1000 || 6000 || gr|| 60 gr |\n",
    "|Colesterol || 0 || 0 || 5 || 0 || 0 || gr|| 0.3 gr |\n",
    "|Sodio || 20 || 0 || 320 || 130 || 10 || gr|| 2.3 gr |\n",
    "|Carbohidratos || 20000 || 23000 || 17000 || 10000 || 16000 || gr|| 300 gr |\n",
    "|Proteina || 1000 || 1000 || 6000 || 2000 || 1000 || gr|| 120 gr |\n",
    "|Precio || 1250 || 3100 || 1950 || 1800 || 1050 || Pesos|\n",
    "   ###### Tabla 1. Información Nutricional\n",
    "   \n",
    "\n",
    "## Variables de Decisión:\n",
    "\n",
    "**X1**: Compota.\n",
    "**X2**: Arandanos.\n",
    "**X3**: Pan de arroz.\n",
    "**X4**: Alchiras.\n",
    "**X5**: Wafer.\n",
    "\n",
    "## Función Objetivo (Minimizar)\n",
    "\n",
    "1250X1+3100X2+1950X3+1800X4+1050X5\n",
    "\n",
    "## Restricciones:\n",
    "\n",
    "\n",
    "**Mínimo de grasa**: 10X2+45X3+10X4+50X5 <= 50\n",
    "\n",
    "**Mínimo de Colesterol**: 5X4 <= 300\n",
    "\n",
    "**Mínimo de Sodio**: 20X1+320x3+130x4+10x5 <= 2300\n",
    "\n",
    "**Mínimo de Carbohidratos**: 20X1+23x2+17x3+10x4+16x5 <= 200\n",
    "\n",
    "**Mínimo de Proteina**: 1000X1+1000x2+6000x3+2000x4+1000x5 <= 100\n",
    "\n",
    "\n",
    "**No Negativos**: Xi>=0 Para todo **i**."
   ]
  },
  {
   "cell_type": "code",
   "execution_count": 2,
   "metadata": {},
   "outputs": [
    {
     "name": "stdout",
     "output_type": "stream",
     "text": [
      "Optimization terminated successfully.\n",
      "         Current function value: -186000.000000\n",
      "         Iterations: 1\n",
      "     fun: -186000.0\n",
      " message: 'Optimization terminated successfully.'\n",
      "     nit: 1\n",
      "   slack: array([ 60.,   3.,  23.,   0., 120.])\n",
      "  status: 0\n",
      " success: True\n",
      "       x: array([ 0., 60.,  0.,  0.,  0.])\n"
     ]
    }
   ],
   "source": [
    "from scipy.optimize import linprog\n",
    "\n",
    "c = [-1250, -3100, -1950, -1800, -1050]\n",
    "A = [[0, 0, 20, 20, 1000], [1000, 0, 0, 23, 1000], [5000, 0, 320, 17, 6000], [1000, 5, 130, 10, 2000], [6000, 0, 10, 16, 1000]]\n",
    "b = [60, 3, 23, 300, 120]\n",
    "\n",
    "x1_bounds = (0, None)\n",
    "x2_bounds = (0, None)\n",
    "x3_bounds = (0, None)\n",
    "x4_bounds = (0, None)\n",
    "x5_bounds = (0, None)\n",
    "\n",
    "res = linprog(c, A_ub=A, b_ub=b, bounds=(x1_bounds, x2_bounds, x3_bounds, x4_bounds, x5_bounds), options={\"disp\": True})\n",
    "print(res)"
   ]
  },
  {
   "cell_type": "markdown",
   "metadata": {},
   "source": [
    "[1] Amaya Lacarra. Cosmopolitan. La racion perfecta. [26 de marzo de 2017]. [En linea]. Disponible en: https://www.cosmopolitan.com/es/salud-fitness/dietas-nutricion/a6548/la-racion-perfecta/\n",
    "\n",
    "[2] MedlinePlus. Sodio en la dieta. [24 de abril de 2016]. [En linea]. Disponible en: https://medlineplus.gov/spanish/ency/article/002415.htm\n",
    "\n",
    "[3] Gabriela Gottau. Vitonica. ¿Cuanto colesterol debe aportar una dieta saludable?. [30 de agosto de 2010]. [En linea]. Disponible en: https://www.vitonica.com/dietas/cuanto-colesterol-debe-aportar-una-dieta-saludable"
   ]
  },
  {
   "cell_type": "code",
   "execution_count": null,
   "metadata": {},
   "outputs": [],
   "source": []
  }
 ],
 "metadata": {
  "kernelspec": {
   "display_name": "Python 3",
   "language": "python",
   "name": "python3"
  },
  "language_info": {
   "codemirror_mode": {
    "name": "ipython",
    "version": 3
   },
   "file_extension": ".py",
   "mimetype": "text/x-python",
   "name": "python",
   "nbconvert_exporter": "python",
   "pygments_lexer": "ipython3",
   "version": "3.6.4"
  }
 },
 "nbformat": 4,
 "nbformat_minor": 2
}
