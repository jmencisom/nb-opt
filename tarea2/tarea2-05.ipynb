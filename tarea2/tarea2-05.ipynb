{
 "cells": [
  {
   "cell_type": "markdown",
   "metadata": {},
   "source": [
    "## Tarea 2. Porblema de la dieta."
   ]
  },
  {
   "cell_type": "markdown",
   "metadata": {},
   "source": [
    "### Grupo 5.\n",
    "\n",
    "Camilo Layton  \n",
    "Luis Contreras\n"
   ]
  },
  {
   "cell_type": "markdown",
   "metadata": {},
   "source": [
    "|Valor nutricional/Producto|Compota |Arandanos|Pan de arroz|Wafer minitaco|Minipalitroque|\n",
    "|--------------------------|--------|---------|------------|--------------|--------------|\n",
    "|Calorias(Kcal)            |80      |330      |364         |360           |498           |\n",
    "|Grasa total               |0%      |6%       |20.8%       |27%           |16.6%         |\n",
    "|Carbohidrato total        |7%      |24%      |15.6%       |15%           |24.9%         |\n",
    "|Proteina                  |0%      |6%       |31,2%       |6%            |33.2%         |\n",
    "|Vitamina A                |0%      |6%       |0%          |0%            |0%            |\n",
    "|Vitamina C                |50%     |45%      |0%          |0%            |0%            |\n",
    "|Calcio                    |9%      |0%       |26%         |0%            |0%            |\n",
    "|Hierro                    |0%      |0%       |0%          |12%           |33.2%         |\n",
    "|Precio ($)                |1250    |     3100|        1950|          1050|          1800|"
   ]
  },
  {
   "cell_type": "markdown",
   "metadata": {},
   "source": [
    "X0: Compota  \n",
    "X1: Arandanos  \n",
    "X2: Pan de arroz  \n",
    "X3: Wafer minitaco  \n",
    "X4: Minipalitroque  "
   ]
  },
  {
   "cell_type": "markdown",
   "metadata": {},
   "source": [
    "Funcion objetivo:  \n",
    "F = 1250X0 + 3100X1 + 1950X2 + 1050X3 + 1800X4\n",
    "\n",
    "Restricciones:  \n",
    "Calorias diarias  \n",
    "-80X0 - 330X1 - 364X2 - 360X3 - 498X4 ≤ -2500   \n",
    "Grasa total diaria  \n",
    "0X0 - 6X1 - 20.8X2 - 27X3 - 16.6X4 ≤ -100  \n",
    "Carbohidratos totales diarios  \n",
    "-7X0 - 24X1 - 15.6X2 - 15X3 - 24.9X4 ≤ -100  \n",
    "Proteina diaria  \n",
    "0X0 - 6X1 - 31.2X2 - 6X3 - 33.2X4 ≤ -100  \n",
    "Vitamina A diaria  \n",
    "0X0 - 6X1 - 0X2 - 0X3 - 0X4 ≤ -100  \n",
    "Vitamina C diaria  \n",
    "-50X0 - 45X1 - 0X2 - 0X3 - 0X4 ≤ -100  \n",
    "Calcio diario  \n",
    "-9X0 - 0X1 - 26X2 - 0X3 - 0X4 ≤ -100  \n",
    "Hierro diario  \n",
    "0X0 - 0X1 - 0X2 - 12X3 - 33.2X4 ≤ -100  \n",
    "\n",
    "X1 ≥ 0  \n",
    "X2 ≥ 0  \n",
    "X3 ≥ 0  \n",
    "X4 ≥ 0  \n",
    "X5 ≥ 0  "
   ]
  },
  {
   "cell_type": "code",
   "execution_count": 46,
   "metadata": {},
   "outputs": [
    {
     "name": "stdout",
     "output_type": "stream",
     "text": [
      "Optimization terminated successfully.\n",
      "         Current function value: 64588.353414\n",
      "         Iterations: 14\n"
     ]
    }
   ],
   "source": [
    "from scipy.optimize import linprog\n",
    "\n",
    "c = [1250, 3100, 1950, 1050, 1800]\n",
    "A = [[-80, -330, -364, -360, -498], [0, -6, -20.8, -27, -16.6], [-7, -24, -15.6, -15, -24.9], [0, -6, -31.2, -6, -33.2], [0, -6, 0, 0, 0], [-50, -45, 0, 0, 0], [-9, 0, -26, 0, 0], [0, 0, 0, -12, -33.2]]\n",
    "b = [-2500, -100, -100, -100, -100, -100, -100, -100,]\n",
    "\n",
    "x0_bounds = (0, None)\n",
    "x1_bounds = (0, None)\n",
    "x2_bounds = (0, None)\n",
    "x3_bounds = (0, None)\n",
    "x4_bounds = (0, None)\n",
    "\n",
    "res = linprog(c, A_ub=A, b_ub=b, bounds=(x0_bounds, x1_bounds, x2_bounds, x3_bounds, x4_bounds), options={\"disp\": True})"
   ]
  },
  {
   "cell_type": "code",
   "execution_count": 47,
   "metadata": {},
   "outputs": [
    {
     "name": "stdout",
     "output_type": "stream",
     "text": [
      "     fun: 64588.35341365461\n",
      " message: 'Optimization terminated successfully.'\n",
      "     nit: 14\n",
      "   slack: array([5900.,  130.,  435.,  220.,    0.,  650.,    0.,    0.])\n",
      "  status: 0\n",
      " success: True\n",
      "       x: array([ 0.        , 16.66666667,  3.84615385,  0.        ,  3.01204819])\n"
     ]
    }
   ],
   "source": [
    "print (res)"
   ]
  },
  {
   "cell_type": "code",
   "execution_count": 48,
   "metadata": {
    "scrolled": true
   },
   "outputs": [
    {
     "name": "stdout",
     "output_type": "stream",
     "text": [
      "X0: 0.0 \n",
      "X1: 16.666666666666664 \n",
      "X2: 3.84615384615384 \n",
      "X3: 0.0 \n",
      "X4: 3.012048192771079 \n"
     ]
    }
   ],
   "source": [
    "\n",
    "for i in range(5):\n",
    "    print(f\"X{i}: %s \" % (res.x[i]))"
   ]
  },
  {
   "cell_type": "code",
   "execution_count": null,
   "metadata": {},
   "outputs": [],
   "source": []
  }
 ],
 "metadata": {
  "kernelspec": {
   "display_name": "Python 2",
   "language": "python",
   "name": "python2"
  },
  "language_info": {
   "codemirror_mode": {
    "name": "ipython",
    "version": 2
   },
   "file_extension": ".py",
   "mimetype": "text/x-python",
   "name": "python",
   "nbconvert_exporter": "python",
   "pygments_lexer": "ipython2",
   "version": "2.7.13"
  }
 },
 "nbformat": 4,
 "nbformat_minor": 2
}
