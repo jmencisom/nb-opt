{
 "cells": [
  {
   "cell_type": "markdown",
   "metadata": {},
   "source": [
    "# DIETA NUTRICIONAL"
   ]
  },
  {
   "cell_type": "markdown",
   "metadata": {},
   "source": [
    "## Variables"
   ]
  },
  {
   "cell_type": "markdown",
   "metadata": {},
   "source": [
    "$$\n",
    "X0=Pan de arroz\n",
    "$$\n",
    "$$\n",
    "X1=Arandanos\n",
    "$$\n",
    "$$\n",
    "X2=Wafer minitaco\n",
    "$$\n",
    "$$\n",
    "X3=Minipalitroowe\n",
    "$$\n",
    "$$\n",
    "X4=Compota\n",
    "$$\n"
   ]
  },
  {
   "cell_type": "markdown",
   "metadata": {},
   "source": [
    "$Funcion$ $objetivo$\n",
    "$$\n",
    "f=1950X0+3100X1+1050X2+1800X3+1250X4\n",
    "$$"
   ]
  },
  {
   "cell_type": "markdown",
   "metadata": {},
   "source": [
    "| Producto      |Grasa total    |Grasa saturada |colesterol |Carbohidratos|sodio   |\n",
    "|------         |--------       |-----          |-----      |---          |----    |\n",
    "|Arandanos      |   3g          |  0g           |   0g      |  69g        |  0g    |\n",
    "|Pan de arroz   |   12.9g       |  7.79g        |  0.0129g  |  44.1g      | 0.8319g|\n",
    "|Wafer          |   20g         |  10g          |  0g       | 53.3g       |  0g    |\n",
    "|Compota        |   0g          |  0g           |  0.005g   |  0g         | 0.225g |    \n",
    "|Minipalitrooque|   8.3g        |  0g           |  0.0415g  | 83g         |  1.079g|\n",
    "\n"
   ]
  },
  {
   "cell_type": "markdown",
   "metadata": {},
   "source": [
    "| Producto      |fibra dieterica|Vit A    |Vit C  |Hierro   |calcio  |\n",
    "|------         |--------       |-----    |-----  |---      |----    |\n",
    "|Arandanos      |   6g          |0.000054g|0.0405g|  0g     |  0g    |\n",
    "|Pan de arroz   |   5.19g       |  0g     |  0g   |  0g     |0.97499g|\n",
    "|Wafer          |   0g          |  0g     |  0g   |  0g     |  0g    |\n",
    "|Compota        |   0g          |  0g     | 0.045g|  0g     | 0.225g |    \n",
    "|Minipalitrooque|   0g          |  0g     |  0g   |0.005976g|  0g    |\n",
    "\n"
   ]
  },
  {
   "cell_type": "markdown",
   "metadata": {},
   "source": [
    "funcion a minimizar\n",
    "\n",
    "$Restricciones$\n",
    "$$\n",
    "-12.9X0+-3X1+-20X2+-8.3X3\\leq -65 \\\\\n",
    "$$\n",
    "$$\n",
    "-7.79X0+-10X2\\leq -20\\\\\n",
    "$$\n",
    "$$\n",
    "-0.0129X0+-0.0415X3+-0.005X4\\leq -0.3\\\\\n",
    "$$\n",
    "$$\n",
    "-44.1X0+-69X1+-53.3X2+-83X3\\leq -300\\\\\n",
    "$$\n",
    "$$\n",
    "-0.8319X0+-1.079X3+-0.225X4\\leq -2.4 \\\\\n",
    "$$\n",
    "$$\n",
    "-5.19X0+-6X1\\leq -25 \\\\\n",
    "$$\n",
    "$$\n",
    "-0.000054X0\\leq -0.0009\\\\\n",
    "$$\n",
    "$$\n",
    "-0.0405X1+0.045X4\\leq -0.09\\\\\n",
    "$$\n",
    "$$\n",
    "-0.005976X3\\leq -0.018\\\\\n",
    "$$\n",
    "$$\n",
    "-0.97499X0+0.225X4\\leq -2.5 \\\\\n",
    "$$\n",
    "\n",
    "\n"
   ]
  },
  {
   "cell_type": "markdown",
   "metadata": {},
   "source": [
    "$$\n",
    "X0 \\geq 0\\\\\n",
    "$$\n",
    "$$\n",
    "X1 \\geq 0\\\\\n",
    "$$\n",
    "$$\n",
    "X2 \\geq 0\\\\\n",
    "$$\n",
    "$$\n",
    "X3 \\geq 0\\\\\n",
    "$$\n",
    "$$\n",
    "X4 \\geq 0\\\\\n",
    "$$\n",
    "$$\n",
    "X5 \\geq 0\\\\\n",
    "$$"
   ]
  },
  {
   "cell_type": "markdown",
   "metadata": {},
   "source": [
    "\n",
    "La siguiente dieta se basa en las grasas y carbohidratos, que se deben consumir menos:"
   ]
  },
  {
   "cell_type": "code",
   "execution_count": 3,
   "metadata": {},
   "outputs": [
    {
     "name": "stdout",
     "output_type": "stream",
     "text": [
      "Optimization terminated successfully.\n",
      "         Current function value: 40427.135678\n",
      "         Iterations: 14\n",
      "     fun: 40427.13567839196\n",
      " message: 'Optimization terminated successfully.'\n",
      "     nit: 14\n",
      "   slack: array([1.75025126e+02, 1.09833333e+02, 5.01256281e-02, 6.85251256e+02,\n",
      "       1.51682663e+01, 6.15000000e+01, 0.00000000e+00, 0.00000000e+00,\n",
      "       0.00000000e+00, 1.41998333e+01])\n",
      "  status: 0\n",
      " success: True\n",
      "       x: array([16.66666667,  0.        ,  0.        ,  3.01507538,  2.        ])\n"
     ]
    }
   ],
   "source": [
    "from scipy.optimize import linprog\n",
    "\n",
    "c = [1950, 3100,1050,1800,1250]\n",
    "A = [[-12.9, -3,20,-8.3,0], [-7.79, -0,10,0,0],[-0.0129,0,0,-0.0415,-0.005],[-44.1,-69,-53.3,-83,0],[-0.8319,0,0,-1.079,-0.225],[-5.19, -6,0,0,0],[-0.000054, 0,0,0,0],[0,-0.0405,0,0,-0.045],[0,0,0,-0.00597,0],[-0.97499,0,0,0,-0.225]]\n",
    "b = [-65, -20,-0.3,-300,-2.4,-25, -0.0009,-0.09,-0.018,-2.5]\n",
    "\n",
    "x0_bounds = (0, None)\n",
    "x1_bounds = (0, None)\n",
    "x2_bounds = (0, None)\n",
    "x3_bounds = (0, None)\n",
    "x4_bounds = (0, None)\n",
    "\n",
    "res = linprog(c, A_ub=A, b_ub=b, bounds=(x0_bounds, x1_bounds,x2_bounds,x3_bounds,x4_bounds), options={\"disp\": True})\n",
    "print(res)"
   ]
  },
  {
   "cell_type": "code",
   "execution_count": 4,
   "metadata": {},
   "outputs": [
    {
     "name": "stdout",
     "output_type": "stream",
     "text": [
      "X0: 16.666666666666668 \n",
      "X1: 0.0 \n",
      "X2: 0.0 \n",
      "X3: 3.015075376884422 \n",
      "X4: 2.0000000000000133 \n"
     ]
    }
   ],
   "source": [
    "for i in range(5):\n",
    "    print(f\"X{i}: %s \" % (res.x[i]))"
   ]
  },
  {
   "cell_type": "markdown",
   "metadata": {},
   "source": [
    "$$\n",
    "Bibliografia:http://eletiquetadocuentamucho.aecosan.msssi.gob.es/nutricional.html\n",
    "$$"
   ]
  },
  {
   "cell_type": "code",
   "execution_count": null,
   "metadata": {},
   "outputs": [],
   "source": []
  }
 ],
 "metadata": {
  "kernelspec": {
   "display_name": "Python 3",
   "language": "python",
   "name": "python3"
  },
  "language_info": {
   "codemirror_mode": {
    "name": "ipython",
    "version": 3
   },
   "file_extension": ".py",
   "mimetype": "text/x-python",
   "name": "python",
   "nbconvert_exporter": "python",
   "pygments_lexer": "ipython3",
   "version": "3.6.4"
  }
 },
 "nbformat": 4,
 "nbformat_minor": 2
}
