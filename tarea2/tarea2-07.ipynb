{
 "cells": [
  {
   "cell_type": "markdown",
   "metadata": {},
   "source": [
    " \"Angie Gordillo -Ricardo Becerra\""
   ]
  },
  {
   "cell_type": "markdown",
   "metadata": {},
   "source": [
    "$$f = 1250x_1 + 731.25x_2 + 315X_3 + 930X_4 + 252X_5\n",
    "$$\n",
    "sujeto a :\n",
    "$$ 80x_1 + 140x_2 + 120X_3 + 110X_4 + 60X_5\\leq 2000 \\  \n",
    "$$\n",
    "\n",
    "$$45x_2 + 50X_3 + 10X_4 + 10X_5 \\leq 160 \n",
    "$$\n",
    "\n",
    "$$0.08x_2 + 0.09X_3 + 0.02X_4 + 0.02X_5 \\leq 1\n",
    "$$\n",
    "\n",
    "$$0.15x_2 + 0.15X_3 \\leq 1\n",
    "$$\n",
    "\n",
    "$$0,02x_2 \\leq 1 \n",
    "$$\n",
    "\n",
    "$$0.01x_1 + 0.13x_2 + 0.005X_3 + 0.04X_5 \\leq 1 \n",
    "$$\n",
    "\n",
    "$$0.07x_1 + 0.06x_2 + 0.05X_3 + 0.08X_4 + 0.03X_5 \\leq 1 \n",
    "$$\n",
    "\n",
    "$$13x_1 + 1x_2 + 9X_3 + 19X_4 \\leq 28\n",
    "$$\n",
    "\n",
    "\n",
    "$$1x_1 + 6x_2 + 1X_3 + 10X_4 + 2X_5 \\leq 80\n",
    "$$\n",
    "\n",
    "$$ 2X_4  \\leq 1\n",
    "$$\n",
    "\n",
    "$$0.5x_1 +0.15X_4 \\leq 1 \n",
    "$$\n",
    "\n",
    "$$0.09x_1\\leq 1\n",
    "$$\n",
    " \n",
    "$$0.04X_3+0.4X_5\\leq 1\n",
    "$$\n",
    "\n",
    "$$0.08x_2+0.08X_4\\leq 1\n",
    "$$"
   ]
  },
  {
   "cell_type": "code",
   "execution_count": 28,
   "metadata": {},
   "outputs": [],
   "source": [
    "from scipy.optimize import linprog\n",
    "A = [[80, 140, 120, 110, 60], [0, 45, 50, 10, 10], [0, 0.08, 0.09, 0.02, 0.02],[0, 0.15, 0.15, 0, 0], [0, 0.02, 0, 0, 0],\n",
    "[0.01, 0.13, 0.005, 0, 0.04],[0.07, 0.06, 0.05, 0.08, 0.03], [13, 1, 9, 19, 0],[1, 6, 1, 10, 2],[0, 0, 0, 0.2, 0],\n",
    "[0.5, 0, 0, 0.15, 0], [0.09, 0, 0, 0, 0],[0, 0, 0.04, 0, 0.04], [0, 0.08, 0, 0.08, 0]]\n",
    "b =[[2000,160,1,1,1,1,1,28,80,1,1,1,1,1]]\n",
    "c = [1250,731.25,315,930,252]\n",
    "x_1_bounds =(0, None)\n",
    "x_2_bounds =(0,None)\n",
    "x_3_bounds =(0,None)\n",
    "x_4_bounds =(0,None)\n",
    "x_5_bounds =(0,None)"
   ]
  },
  {
   "cell_type": "code",
   "execution_count": 29,
   "metadata": {},
   "outputs": [
    {
     "name": "stdout",
     "output_type": "stream",
     "text": [
      "Optimization terminated successfully.\n",
      "         Current function value: -0.000000   \n",
      "         Iterations: 0\n"
     ]
    }
   ],
   "source": [
    "res = linprog(c, A_ub=A, b_ub=b, bounds=(x_1_bounds, x_2_bounds, x_3_bounds, x_4_bounds,  x_5_bounds), options={\"disp\": True})\n",
    "        "
   ]
  },
  {
   "cell_type": "code",
   "execution_count": 30,
   "metadata": {},
   "outputs": [
    {
     "name": "stdout",
     "output_type": "stream",
     "text": [
      "     fun: -0.0\n",
      " message: 'Optimization terminated successfully.'\n",
      "     nit: 0\n",
      "   slack: array([2.0e+03, 1.6e+02, 1.0e+00, 1.0e+00, 1.0e+00, 1.0e+00, 1.0e+00,\n",
      "       2.8e+01, 8.0e+01, 1.0e+00, 1.0e+00, 1.0e+00, 1.0e+00, 1.0e+00])\n",
      "  status: 0\n",
      " success: True\n",
      "       x: array([0., 0., 0., 0., 0.])\n"
     ]
    }
   ],
   "source": [
    "print(res)"
   ]
  },
  {
   "cell_type": "code",
   "execution_count": null,
   "metadata": {},
   "outputs": [],
   "source": []
  },
  {
   "cell_type": "code",
   "execution_count": null,
   "metadata": {},
   "outputs": [],
   "source": []
  }
 ],
 "metadata": {
  "kernelspec": {
   "display_name": "Python 3",
   "language": "python",
   "name": "python3"
  },
  "language_info": {
   "codemirror_mode": {
    "name": "ipython",
    "version": 3
   },
   "file_extension": ".py",
   "mimetype": "text/x-python",
   "name": "python",
   "nbconvert_exporter": "python",
   "pygments_lexer": "ipython3",
   "version": "3.6.4"
  }
 },
 "nbformat": 4,
 "nbformat_minor": 2
}
