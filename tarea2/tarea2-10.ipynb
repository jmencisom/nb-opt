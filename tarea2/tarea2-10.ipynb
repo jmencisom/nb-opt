{
 "cells": [
  {
   "cell_type": "markdown",
   "metadata": {},
   "source": [
    "CAMILO GATIVA (161003615)\n",
    "\n",
    "$$VARIABLES(gramos)$$\n",
    "\n",
    " \n",
    "X0 = galletas\n",
    "\n",
    "X1 = arandanos\n",
    "\n",
    "X2 = palitos\n",
    "\n",
    "X3 = rosquitos\n",
    "\n",
    "X4 = compota"
   ]
  },
  {
   "cell_type": "markdown",
   "metadata": {},
   "source": [
    "TABLA NUTRICIONAL(porcion)\n",
    "\n",
    "|producto/caracteristica|\tgalletas\t|arandanos\t|palitos\t|rosquitas\t|compota|\tdieta de 2000 cal.|\n",
    "|--------------------------------------------------------------------------------------------------------------|\n",
    "|grasa                  |\t6           |        \t1|\t1|\t5|\t0\t|>= 44g|\n",
    "|colesterol             |0\t            |       0    |\t0|\t0,005|\t0\t|<= 0,02g|\n",
    "|sodio                  |\t0.01        |\t0\t     |0,13|\t0,32|\t0,2\t|>= 2,3g|\n",
    "|carbohidratos          |\t16\t        |23\t         |10|\t17|\t20\t|>= 225g|\n",
    "|fibra dietaria\t        |0              |2\t         |0\t|2|\t0\t|>= 20g|\n",
    "|azucar                 |\t9\t        |19\t         |0|\t1\t|13\t|>= 25g|\n",
    "|proteina\t            |1\t            |1\t                     |2\t|6\t|0,8\t     |>= 55g|\n",
    "|valor(porcion          |\t315\t        |930\t|252|\t731|\t1250|\n",
    "\n"
   ]
  },
  {
   "cell_type": "markdown",
   "metadata": {},
   "source": [
    "$$MODELO$$\n",
    "CUAL ES LA DIETADIETA MAS BARATO QUE SATISFAGA CON EL CONSUMO NECESARIO PARA UNA PERSONA DIARIAMENTE\n",
    "\n",
    "Restricciones\n",
    "Restricciones\n",
    " \n",
    "6x0+X1+X2+5x3>=44g\n",
    "6x0+X1+X2+5x3>=44g\n",
    " \n",
    "0,005x3<=0,02g\n",
    "0,005x3<=0,02g\n",
    " \n",
    "0,01x0+0,13x2+0,32x3+0,2x4>=2,3g\n",
    "0,01x0+0,13x2+0,32x3+0,2x4>=2,3g\n",
    " \n",
    "16x0+23x1+10x2+17x3+20x4>=225g\n",
    "16x0+23x1+10x2+17x3+20x4>=225g\n",
    " \n",
    "2x1+2x3>=20g\n",
    "2x1+2x3>=20g\n",
    " \n",
    "9x0+19x1+x3+13x4>=25g\n",
    "9x0+19x1+x3+13x4>=25g\n",
    " \n",
    "x0+x1+2x2+6x3+0,8x4>=55g\n",
    "x0+x1+2x2+6x3+0,8x4>=55g\n",
    "\n",
    "$$FUNCION$$ $$ OBJETIVO$$\n",
    "\n",
    "$$z=315x0+930x1+252x2+731x3+1250x4$$"
   ]
  },
  {
   "cell_type": "code",
   "execution_count": 13,
   "metadata": {},
   "outputs": [
    {
     "name": "stdout",
     "output_type": "stream",
     "text": [
      "Optimization failed. The problem appears to be unbounded.\n",
      "         Iterations: 2\n",
      "     fun: -166830.909090909\n",
      " message: 'Optimization failed. The problem appears to be unbounded.'\n",
      "     nit: 2\n",
      "   slack: array([1.51536364e+03, 5.85909091e-01, 0.00000000e+00, 2.25863636e+03,\n",
      "       4.72727273e+02, 0.00000000e+00, 1.18681818e+03])\n",
      "  status: 3\n",
      " success: False\n",
      "       x: array([-113.18181818, -113.18181818, -113.18181818, -113.18181818,\n",
      "        271.81818182])\n"
     ]
    }
   ],
   "source": [
    "\n",
    "from scipy.optimize import linprog\n",
    "\n",
    "c=[-315,-930,-252,-31,-1250]\n",
    "A=[[6,1,1,5,0],[0,0,0,0.005,0],[0.01,0,0.13,0.32,0.2],[16,23,10,17,20],[0,2,0,2,0],[9,19,0,3,13],[1,1,2,6,0]]\n",
    "b=[44,0.02,2.3,225,20,25,55]\n",
    "\n",
    "x0_bounds = (None, None)\n",
    "x1_bounds = (None, None)\n",
    "x2_bounds = (None, None)\n",
    "x3_bounds = (None, None)\n",
    "x4_bounds = (None, None)\n",
    "\n",
    "res = linprog(c, A_ub=A, b_ub=b, bounds=(x0_bounds, x1_bounds,x2_bounds,x3_bounds,x4_bounds), options={\"disp\": True})\n",
    "print(res)\n"
   ]
  },
  {
   "cell_type": "code",
   "execution_count": null,
   "metadata": {},
   "outputs": [],
   "source": []
  }
 ],
 "metadata": {
  "kernelspec": {
   "display_name": "Python 3",
   "language": "python",
   "name": "python3"
  },
  "language_info": {
   "codemirror_mode": {
    "name": "ipython",
    "version": 3
   },
   "file_extension": ".py",
   "mimetype": "text/x-python",
   "name": "python",
   "nbconvert_exporter": "python",
   "pygments_lexer": "ipython3",
   "version": "3.6.4"
  }
 },
 "nbformat": 4,
 "nbformat_minor": 2
}
