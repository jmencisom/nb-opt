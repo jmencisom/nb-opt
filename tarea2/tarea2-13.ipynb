{
 "cells": [
  {
   "cell_type": "markdown",
   "metadata": {},
   "source": [
    "## Carlos Villegas  \n",
    "### cod: 161003031"
   ]
  },
  {
   "cell_type": "markdown",
   "metadata": {},
   "source": [
    "## Metodo simplex"
   ]
  },
  {
   "cell_type": "markdown",
   "metadata": {},
   "source": [
    "Tabla valor nutricional por empaque.\n"
   ]
  },
  {
   "cell_type": "markdown",
   "metadata": {},
   "source": [
    "   | Valor Nutricional|Palitroque|Compota|Pan de arroz|Arandanos|Waffer|Necesario|\n",
    "   |:----------------:|:--------:|:-----:|:----------:|:-------:|:-----:|:-|\n",
    "   |*Vitamina A *|0%|0%|0%|13.2%|0%|$$\\geq100\\%$$|\n",
    "   |*Vitamina C*|0%|50%|0%|99%|0%|$$\\geq100\\%$$|\n",
    "   |*Calcio*|0%|9%|26%|0%|0%|$$\\geq100\\%$$|\n",
    "   |*Hierro*|33.2%|0%|0%|0%|12%|$$\\geq100\\%$$|\n",
    "   |*Proteína*%|31.2%|0%|33.2%|13.2%|6%|$$\\geq100\\%$$|\n",
    "   |**Valor Comercial** | \\$1800 |\\$1250|\\$1950|\\$6200|\\$1050|\n",
    "   \n",
    "   Tabla 1"
   ]
  },
  {
   "cell_type": "markdown",
   "metadata": {},
   "source": [
    "   Función objetivo:\n",
    "   \n",
    "   $\\bf F(X)=3100x0+1250x1+1800x2+1950x3+1050x4$\n",
    "   \n",
    "   Funcion a Minimizar: \n",
    "   \n",
    "   $\\bf F(X)=-3100x0-1250x1-1800x2-1950x3-1050x4$\n",
    "   \n",
    "   **x0:** *Arandanos;* **x1:** *Compota;*  **x2:** *Palitroque;* **x3:** *Pan de arroz;* **x4:** *Waffer*"
   ]
  },
  {
   "cell_type": "markdown",
   "metadata": {},
   "source": [
    "## Restriciones\n",
    "   $-0.06x0-0x1-0x2-0x3-0x4\\leq-1$\n",
    "   \n",
    "  $-0.45x0-0.5x1-0x2-0x3-0x4\\leq-1$\n",
    "  \n",
    "   $-0x0-0.091x1-0.26x2-0x3-0x4\\leq-1$\n",
    "   \n",
    "   $-0.06x0-0x1-0.332x2-0x3-0.12x4\\leq-1$\n",
    "   \n",
    "   $-0.06x0-0x1-0.332x2-0.312x3-0.06x4\\leq-1$"
   ]
  },
  {
   "cell_type": "code",
   "execution_count": 8,
   "metadata": {},
   "outputs": [
    {
     "name": "stdout",
     "output_type": "stream",
     "text": [
      "Optimization failed. The problem appears to be unbounded.\n",
      "         Iterations: 6\n"
     ]
    }
   ],
   "source": [
    "from scipy.optimize import linprog\n",
    "\n",
    "c = [-3100, -1250, -1800, -1950, -1050]\n",
    "A = [[-0.06, 0, 0, 0, 0], [-0.45, -0.5, 0, 0, 0], [0, -0.91, -0.26, 0, 0], [-0.06, 0, -0.332, 0, -0.12], [-0.06, 0, -0.332, -0.312, -0.06]]\n",
    "b = [-1, -1, -1, -1, -1]\n",
    "\n",
    "x0_bounds = (0, None)\n",
    "x1_bounds = (0, None)\n",
    "x2_bounds = (0, None)\n",
    "x3_bounds = (0, None)\n",
    "x4_bounds = (0, None)\n",
    "\n",
    "\n",
    "res = linprog(c, A_ub=A, b_ub=b, bounds=(x0_bounds, x1_bounds, x2_bounds, x3_bounds, x4_bounds), options={\"disp\": True})\n"
   ]
  },
  {
   "cell_type": "code",
   "execution_count": 9,
   "metadata": {},
   "outputs": [
    {
     "name": "stdout",
     "output_type": "stream",
     "text": [
      "     fun: -53040.29304029305\n",
      " message: 'Optimization failed. The problem appears to be unbounded.'\n",
      "     nit: 6\n",
      "   slack: array([0.00000000e+00, 7.04945055e+00, 0.00000000e+00, 1.11022302e-16,\n",
      "       1.11022302e-16])\n",
      "  status: 3\n",
      " success: False\n",
      "       x: array([16.66666667,  1.0989011 ,  0.        ,  0.        ,  0.        ])\n"
     ]
    }
   ],
   "source": [
    "print(res)\n",
    "     "
   ]
  },
  {
   "cell_type": "markdown",
   "metadata": {},
   "source": []
  },
  {
   "cell_type": "code",
   "execution_count": null,
   "metadata": {},
   "outputs": [],
   "source": []
  }
 ],
 "metadata": {
  "kernelspec": {
   "display_name": "Python 3",
   "language": "python",
   "name": "python3"
  },
  "language_info": {
   "codemirror_mode": {
    "name": "ipython",
    "version": 3
   },
   "file_extension": ".py",
   "mimetype": "text/x-python",
   "name": "python",
   "nbconvert_exporter": "python",
   "pygments_lexer": "ipython3",
   "version": "3.6.4"
  }
 },
 "nbformat": 4,
 "nbformat_minor": 2
}
