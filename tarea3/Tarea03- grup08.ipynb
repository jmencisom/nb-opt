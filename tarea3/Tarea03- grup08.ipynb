{
 "cells": [
  {
   "cell_type": "markdown",
   "metadata": {},
   "source": [
    "**GRUPO 8**\n",
    "\n",
    "*INGRID TATIANA PORTELA    161003648*\n",
    "*EDUAR STIVEN RODRIGUEZ    161003532*\n",
    "\n",
    "**TALLER NATURAL LANGUAGE TOOL KIT(NLTK)**\n",
    "\n",
    "para poder iniciar es indispensable instalar el módulo nltk, se ejecuta desde la línea de comando con esta instrucción:\n",
    "\n",
    "$ pip install nltk \n",
    "\n",
    "luego de importa la libreria **nltk**. de la siguiente forma:"
   ]
  },
  {
   "cell_type": "code",
   "execution_count": 3,
   "metadata": {},
   "outputs": [],
   "source": [
    "import nltk"
   ]
  },
  {
   "cell_type": "markdown",
   "metadata": {},
   "source": [
    "se crea una variable de tipo **cadena** usando la palabra **sentence**, como se muestra acontinuacion:"
   ]
  },
  {
   "cell_type": "code",
   "execution_count": 4,
   "metadata": {},
   "outputs": [],
   "source": [
    "sentence = \"\"\"At eight o'clock on Thursday morning Arthur didn't feel very good.\"\"\""
   ]
  },
  {
   "cell_type": "markdown",
   "metadata": {},
   "source": [
    "Antes de ejecutar por primera vez las funciones del módulo, es necesario descargar los paquetes (de la pestaña All Packages) averaged_perceptron_tagger, maxent_ne_chunker, punkt, treebank, words:"
   ]
  },
  {
   "cell_type": "code",
   "execution_count": 5,
   "metadata": {},
   "outputs": [
    {
     "name": "stdout",
     "output_type": "stream",
     "text": [
      "showing info https://raw.githubusercontent.com/nltk/nltk_data/gh-pages/index.xml\n"
     ]
    },
    {
     "data": {
      "text/plain": [
       "True"
      ]
     },
     "execution_count": 5,
     "metadata": {},
     "output_type": "execute_result"
    }
   ],
   "source": [
    "nltk.download()"
   ]
  },
  {
   "cell_type": "markdown",
   "metadata": {},
   "source": [
    "para separar cada palabra de la frace usamos la siguiente funcion:"
   ]
  },
  {
   "cell_type": "code",
   "execution_count": 7,
   "metadata": {},
   "outputs": [],
   "source": [
    "tokens=nltk.word_tokenize(sentence)"
   ]
  },
  {
   "cell_type": "markdown",
   "metadata": {},
   "source": [
    "este produce la siguiente salida:"
   ]
  },
  {
   "cell_type": "code",
   "execution_count": 8,
   "metadata": {},
   "outputs": [
    {
     "data": {
      "text/plain": [
       "['At',\n",
       " 'eight',\n",
       " \"o'clock\",\n",
       " 'on',\n",
       " 'Thursday',\n",
       " 'morning',\n",
       " 'Arthur',\n",
       " 'did',\n",
       " \"n't\",\n",
       " 'feel',\n",
       " 'very',\n",
       " 'good',\n",
       " '.']"
      ]
     },
     "execution_count": 8,
     "metadata": {},
     "output_type": "execute_result"
    }
   ],
   "source": [
    "tokens"
   ]
  },
  {
   "cell_type": "markdown",
   "metadata": {},
   "source": [
    "luego para agregarle las etiquetas al texto,la cual etiqueta cada palabra segun corresponda su gramatica, usamos la siguiente funcion:\n"
   ]
  },
  {
   "cell_type": "code",
   "execution_count": 13,
   "metadata": {},
   "outputs": [],
   "source": [
    "tagged=nltk.pos_tag(tokens)"
   ]
  },
  {
   "cell_type": "markdown",
   "metadata": {},
   "source": [
    "para poder observar cada palabra con surespectiva etiqueta se usa la siguiente funcion:"
   ]
  },
  {
   "cell_type": "code",
   "execution_count": 14,
   "metadata": {},
   "outputs": [
    {
     "data": {
      "text/plain": [
       "[('At', 'IN'),\n",
       " ('eight', 'CD'),\n",
       " (\"o'clock\", 'NN'),\n",
       " ('on', 'IN'),\n",
       " ('Thursday', 'NNP'),\n",
       " ('morning', 'NN'),\n",
       " ('Arthur', 'NNP'),\n",
       " ('did', 'VBD'),\n",
       " (\"n't\", 'RB'),\n",
       " ('feel', 'VB'),\n",
       " ('very', 'RB'),\n",
       " ('good', 'JJ'),\n",
       " ('.', '.')]"
      ]
     },
     "execution_count": 14,
     "metadata": {},
     "output_type": "execute_result"
    }
   ],
   "source": [
    "tagged"
   ]
  },
  {
   "cell_type": "markdown",
   "metadata": {},
   "source": [
    "Se procede entonces a explicar, cada uno de los acronimos del ntlk.\n",
    "\n",
    "|N°| Acronimo |Significado|\n",
    "|------|----------|-----------|\n",
    "|   1  |   CC     |Conjunciones coordinadas |    \n",
    "|   2  |   CD\\t  |Numero cardinal|     \n",
    "|   3  |   DT     |Determinante|\n",
    "|   4  |   EX     |Clausula existencial|\n",
    "|   5  |   FW\\t  |Extranjerismo|\n",
    "|   6  |   IN\\t  |Preposicion o Conjuciones subordinantes|\n",
    "|   7  |   JJ\\t  |Adjetivo|\n",
    "|   8  |   JJR    |Adjetivo comparativo|\n",
    "|   9  |   JJS    |Adjetivo superlativo|\n",
    "|  10  |   LS\\t  |Enumeracion|\n",
    "|  11  |   MD     |Verbos modales|\n",
    "|  12  |   NN\\t  |Sustantivo, singular o incontable|\n",
    "|  13  |   NNS    |Sustantivo, plurar|\n",
    "|  14  |   NNP    |Nombre propio, sigular|\n",
    "|  15  |   NNPS   |Nombre propio, prular|\n",
    "|  16  |   PDT    |Predeterminante|\n",
    "|  17  |   POS    |Terminaciones posesivas 's|\n",
    "|  18  |   PRP    |Pronombre personal|\n",
    "|  19  |   PRP\\\\$  |Pronombre posesivo|\n",
    "|  20  |   RB\\t  |Adverbio|\n",
    "|  21  |   RBR    |Adverbio compartivo|\n",
    "|  22  |   RBS    |Adverbio superlativo|\n",
    "|  23  |   RP\\t  |Particula |\n",
    "|  24  |   SYM    |Simbolo|\n",
    "|  25  |   TO\\t  |to\n",
    "|  26  |   UH\\t  |Interjección|\n",
    "|  27  |   VB\\t  |Verbo|\n",
    "|  28  |   VBD    |Verbo en pasado|\n",
    "|  29  |   VBG    |Verbo en gerundio|\n",
    "|  30  |   VBN    |Verbo en participio|\n",
    "|  31  |   VBP    |Verbo en primera o segunda persona |\n",
    "|  32  |   VBZ    |Verbo en tercera persona|\n",
    "|  33  |   WDT    |Determinaten Wh|\n",
    "|  34  |   WP     |Pronombre Wh|\n",
    "|  35  |   WP\\\\$   |Pronombre posesivo Wh|\n",
    "|  36  |   WRB    |Adverbio Wh|"
   ]
  },
  {
   "cell_type": "markdown",
   "metadata": {},
   "source": [
    "para poder identificar las las entidades se hace necesario que utilicemos el comando **entities** :"
   ]
  },
  {
   "cell_type": "code",
   "execution_count": 16,
   "metadata": {},
   "outputs": [],
   "source": [
    "entities=nltk.chunk.ne_chunk(tagged)"
   ]
  },
  {
   "cell_type": "markdown",
   "metadata": {},
   "source": [
    "antes de visualizar dentro del nootebook es necesario instalar Ghostscript,ingresado desde el terminal:\n",
    "\n",
    "$brew install ghostscript\n",
    "\n",
    "el cual produce el siguiente resultado:"
   ]
  },
  {
   "cell_type": "code",
   "execution_count": 17,
   "metadata": {},
   "outputs": [],
   "source": [
    "#entities"
   ]
  },
  {
   "cell_type": "code",
   "execution_count": 18,
   "metadata": {},
   "outputs": [],
   "source": [
    "entities.draw()"
   ]
  },
  {
   "cell_type": "markdown",
   "metadata": {},
   "source": [
    "\n",
    "Estas  lineas es puede visualizar las etiquetas de una manera grafica,mediante un mapa conceptual en el cual se divide cada palabra segun di forma gramatica."
   ]
  }
 ],
 "metadata": {
  "kernelspec": {
   "display_name": "Python 3",
   "language": "python",
   "name": "python3"
  },
  "language_info": {
   "codemirror_mode": {
    "name": "ipython",
    "version": 3
   },
   "file_extension": ".py",
   "mimetype": "text/x-python",
   "name": "python",
   "nbconvert_exporter": "python",
   "pygments_lexer": "ipython3",
   "version": "3.6.4"
  }
 },
 "nbformat": 4,
 "nbformat_minor": 2
}
