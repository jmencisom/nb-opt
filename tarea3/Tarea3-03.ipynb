{
 "cells": [
  {
   "cell_type": "markdown",
   "metadata": {},
   "source": [
    "### Grupo 3*\n",
    "##### Andres Mauricio Cordoba Romero 161003510\n",
    "##### Diego Alejandro Mendez Celis 161003522\n"
   ]
  },
  {
   "cell_type": "markdown",
   "metadata": {},
   "source": [
    "# Taller Natural Language Tool Kit (NLTK)"
   ]
  },
  {
   "cell_type": "markdown",
   "metadata": {},
   "source": [
    "NLTK is una plataforma para escribir programas en Python que utilizan datos de lenguaje humano.\n",
    "\n",
    "Antes de comenzar es necesario instalar el módulo `nltk`. Para esto se ejecuta desde la línea de comando la siguiente instrucción:"
   ]
  },
  {
   "cell_type": "markdown",
   "metadata": {},
   "source": [
    "```\n",
    "$ pip install nltk\n",
    "```"
   ]
  },
  {
   "cell_type": "markdown",
   "metadata": {},
   "source": [
    "después de instalar, se puede verificar que el proceso finalizó correctamente mediante el comando:"
   ]
  },
  {
   "cell_type": "code",
   "execution_count": 1,
   "metadata": {},
   "outputs": [],
   "source": [
    "import nltk"
   ]
  },
  {
   "cell_type": "markdown",
   "metadata": {},
   "source": [
    "Luego se crea una variable de tipo cadena con una oración en inglés:"
   ]
  },
  {
   "cell_type": "code",
   "execution_count": 2,
   "metadata": {},
   "outputs": [],
   "source": [
    "sentence = \"\"\"At eight o'clock on Thursday morning Arthur didn't feel very good.\"\"\""
   ]
  },
  {
   "cell_type": "markdown",
   "metadata": {},
   "source": [
    "Antes de ejecutar por primera vez las funciones del módulo, es necesario descargar los paquetes (de la pestaña *All Packages*) `averaged_perceptron_tagger`, `maxent_ne_chunker`, `punkt`, `treebank`, `words`:"
   ]
  },
  {
   "cell_type": "code",
   "execution_count": 3,
   "metadata": {},
   "outputs": [
    {
     "name": "stdout",
     "output_type": "stream",
     "text": [
      "showing info https://raw.githubusercontent.com/nltk/nltk_data/gh-pages/index.xml\n"
     ]
    },
    {
     "data": {
      "text/plain": [
       "True"
      ]
     },
     "execution_count": 3,
     "metadata": {},
     "output_type": "execute_result"
    }
   ],
   "source": [
    "nltk.download()"
   ]
  },
  {
   "cell_type": "code",
   "execution_count": 4,
   "metadata": {},
   "outputs": [],
   "source": [
    "tokens = nltk.word_tokenize(sentence)"
   ]
  },
  {
   "cell_type": "markdown",
   "metadata": {},
   "source": [
    "El cual produce la siguiente salida:"
   ]
  },
  {
   "cell_type": "code",
   "execution_count": 5,
   "metadata": {},
   "outputs": [
    {
     "data": {
      "text/plain": [
       "['At',\n",
       " 'eight',\n",
       " \"o'clock\",\n",
       " 'on',\n",
       " 'Thursday',\n",
       " 'morning',\n",
       " 'Arthur',\n",
       " 'did',\n",
       " \"n't\",\n",
       " 'feel',\n",
       " 'very',\n",
       " 'good',\n",
       " '.']"
      ]
     },
     "execution_count": 5,
     "metadata": {},
     "output_type": "execute_result"
    }
   ],
   "source": [
    "tokens"
   ]
  },
  {
   "cell_type": "markdown",
   "metadata": {},
   "source": [
    "Luego agregan las etiquetas al texto:"
   ]
  },
  {
   "cell_type": "code",
   "execution_count": 6,
   "metadata": {},
   "outputs": [],
   "source": [
    "tagged = nltk.pos_tag(tokens)"
   ]
  },
  {
   "cell_type": "markdown",
   "metadata": {},
   "source": [
    "Quien a su vez produce la siguiente salida:"
   ]
  },
  {
   "cell_type": "code",
   "execution_count": 7,
   "metadata": {},
   "outputs": [
    {
     "data": {
      "text/plain": [
       "[('At', 'IN'),\n",
       " ('eight', 'CD'),\n",
       " (\"o'clock\", 'NN'),\n",
       " ('on', 'IN'),\n",
       " ('Thursday', 'NNP'),\n",
       " ('morning', 'NN'),\n",
       " ('Arthur', 'NNP'),\n",
       " ('did', 'VBD'),\n",
       " (\"n't\", 'RB'),\n",
       " ('feel', 'VB'),\n",
       " ('very', 'RB'),\n",
       " ('good', 'JJ'),\n",
       " ('.', '.')]"
      ]
     },
     "execution_count": 7,
     "metadata": {},
     "output_type": "execute_result"
    }
   ],
   "source": [
    "tagged"
   ]
  },
  {
   "cell_type": "markdown",
   "metadata": {},
   "source": [
    "Posteriormente es posible identificar la entidades con el comando:"
   ]
  },
  {
   "cell_type": "code",
   "execution_count": 8,
   "metadata": {},
   "outputs": [],
   "source": [
    "entities = nltk.chunk.ne_chunk(tagged)"
   ]
  },
  {
   "cell_type": "markdown",
   "metadata": {},
   "source": [
    "Antes de visualizar dentro de notebook, se debe instalar Ghostscript, ingresando desde la terminal:"
   ]
  },
  {
   "cell_type": "markdown",
   "metadata": {},
   "source": [
    "```\n",
    "$ brew install ghostscript\n",
    "```"
   ]
  },
  {
   "cell_type": "markdown",
   "metadata": {},
   "source": [
    "El cual produce el siguiente resultado:"
   ]
  },
  {
   "cell_type": "code",
   "execution_count": 9,
   "metadata": {},
   "outputs": [],
   "source": [
    "#entities"
   ]
  },
  {
   "cell_type": "markdown",
   "metadata": {},
   "source": [
    "Alternativamente, se puede visualizar el árbol de sintáctico:"
   ]
  },
  {
   "cell_type": "code",
   "execution_count": 10,
   "metadata": {},
   "outputs": [],
   "source": [
    "entities.draw()"
   ]
  },
  {
   "cell_type": "markdown",
   "metadata": {},
   "source": [
    "Se procede entonces a explicar, cada uno de los acronimos del ntlk.\n",
    "\n",
    "|N°| Acronimo |Significado|\n",
    "|------|----------|-----------|\n",
    "|   1  |   CC     |Conjunciones coordinadas |     \n",
    "|   2  |   CD\t  |Numero cardinal|      \n",
    "|   3  |   DT     |Determinante|\n",
    "|   4  |   EX     |Clausula existencial|\n",
    "|   5  |   FW\t  |Extranjerismo|\n",
    "|   6  |   IN\t  |Preposicion o Conjuciones subordinantes|\n",
    "|   7  |   JJ\t  |Adjetivo|\n",
    "|   8  |   JJR    |Adjetivo comparativo|\n",
    "|   9  |   JJS    |Adjetivo superlativo|\n",
    "|  10  |   LS\t  |Enumeracion|\n",
    "|  11  |   MD     |Verbos modales|\n",
    "|  12  |   NN\t  |Sustantivo, singular o incontable|\n",
    "|  13  |   NNS    |Sustantivo, plurar|\n",
    "|  14  |   NNP    |Nombre propio, sigular|\n",
    "|  15  |   NNPS   |Nombre propio, prular|\n",
    "|  16  |   PDT    |Predeterminante|\n",
    "|  17  |   POS    |Terminaciones posesivas 's|\n",
    "|  18  |   PRP    |Pronombre personal|\n",
    "|  19  |   PRP\\$  |Pronombre posesivo|\n",
    "|  20  |   RB\t  |Adverbio|\n",
    "|  21  |   RBR    |Adverbio compartivo|\n",
    "|  22  |   RBS    |Adverbio superlativo|\n",
    "|  23  |   RP\t  |Particula |\n",
    "|  24  |   SYM    |Simbolo|\n",
    "|  25  |   TO\t  |to|\n",
    "|  26  |   UH\t  |Interjección|\n",
    "|  27  |   VB\t  |Verbo|\n",
    "|  28  |   VBD    |Verbo en pasado|\n",
    "|  29  |   VBG    |Verbo en gerundio|\n",
    "|  30  |   VBN    |Verbo en participio|\n",
    "|  31  |   VBP    |Verbo en primera o segunda persona |\n",
    "|  32  |   VBZ    |Verbo en tercera persona|\n",
    "|  33  |   WDT    |Determinaten Wh|\n",
    "|  34  |   WP     |Pronombre Wh|\n",
    "|  35  |   WP\\$   |Pronombre posesivo Wh|\n",
    "|  36  |   WRB    |Adverbio Wh|"
   ]
  },
  {
   "cell_type": "code",
   "execution_count": null,
   "metadata": {},
   "outputs": [],
   "source": []
  }
 ],
 "metadata": {
  "kernelspec": {
   "display_name": "Python 3",
   "language": "python",
   "name": "python3"
  },
  "language_info": {
   "codemirror_mode": {
    "name": "ipython",
    "version": 3
   },
   "file_extension": ".py",
   "mimetype": "text/x-python",
   "name": "python",
   "nbconvert_exporter": "python",
   "pygments_lexer": "ipython3",
   "version": "3.6.4"
  }
 },
 "nbformat": 4,
 "nbformat_minor": 2
}
