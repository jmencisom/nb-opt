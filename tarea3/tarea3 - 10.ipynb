{
 "cells": [
  {
   "cell_type": "raw",
   "metadata": {},
   "source": [
    "Camilo Andres Gativa R. / 161003615"
   ]
  },
  {
   "cell_type": "markdown",
   "metadata": {},
   "source": [
    " # taller (nltk)"
   ]
  },
  {
   "cell_type": "raw",
   "metadata": {},
   "source": [
    "$ pip install nltk"
   ]
  },
  {
   "cell_type": "raw",
   "metadata": {},
   "source": [
    "Esta línea se usa para instalr el paquete nltk"
   ]
  },
  {
   "cell_type": "code",
   "execution_count": null,
   "metadata": {},
   "outputs": [],
   "source": [
    "import nltk"
   ]
  },
  {
   "cell_type": "raw",
   "metadata": {},
   "source": [
    "en esta línea e importa la librería"
   ]
  },
  {
   "cell_type": "code",
   "execution_count": null,
   "metadata": {},
   "outputs": [],
   "source": [
    "sentence = \"\"\"At eight o'clock on Thursday morning Arthur didn't feel very good.\"\"\""
   ]
  },
  {
   "cell_type": "raw",
   "metadata": {},
   "source": [
    "En esta linea  \"sentence\" es una variable de tipo cadena.la triple comilla nos permite introducir un string."
   ]
  },
  {
   "cell_type": "raw",
   "metadata": {},
   "source": [
    "Para ejecutar las funciones del modulo e necesario descargar los siguientes paquetes averaged_perceptron_tagger  ,maxent_ne_chunker , punkt , treebank , words:"
   ]
  },
  {
   "cell_type": "raw",
   "metadata": {},
   "source": [
    "averaged_perceptron_tagger = etiquetador"
   ]
  },
  {
   "cell_type": "raw",
   "metadata": {},
   "source": [
    "maxent_ne_chunker = función de fragmento que hace que el trabajo de fragmentación para nosotros"
   ]
  },
  {
   "cell_type": "raw",
   "metadata": {},
   "source": [
    "punkt =este modulo contiene modelos para la tokenizacion de textos"
   ]
  },
  {
   "cell_type": "raw",
   "metadata": {},
   "source": [
    "treebank = modulo que se vale para etiquetar textos usando expresiones regulares "
   ]
  },
  {
   "cell_type": "raw",
   "metadata": {},
   "source": [
    "words = modulo que procesa una sucesión de palabras y clasifica una parte de la voz"
   ]
  },
  {
   "cell_type": "code",
   "execution_count": null,
   "metadata": {},
   "outputs": [],
   "source": [
    "nltk.dowload()"
   ]
  },
  {
   "cell_type": "code",
   "execution_count": null,
   "metadata": {},
   "outputs": [],
   "source": [
    "tokens = nltk.word_tokenize(sentence)"
   ]
  },
  {
   "cell_type": "raw",
   "metadata": {},
   "source": [
    "esta línea separa cada palabra de la oración que esta guardada como string en sentence"
   ]
  },
  {
   "cell_type": "code",
   "execution_count": null,
   "metadata": {},
   "outputs": [],
   "source": [
    "tokens"
   ]
  },
  {
   "cell_type": "raw",
   "metadata": {},
   "source": [
    "esta línea separa las palabras"
   ]
  },
  {
   "cell_type": "code",
   "execution_count": null,
   "metadata": {},
   "outputs": [],
   "source": [
    "tagged = nltk.pos_tag(tokens)"
   ]
  },
  {
   "cell_type": "raw",
   "metadata": {},
   "source": [
    "esta línea etiqueta las palabras según su gramatica"
   ]
  },
  {
   "cell_type": "code",
   "execution_count": null,
   "metadata": {},
   "outputs": [],
   "source": [
    "tagged"
   ]
  },
  {
   "cell_type": "raw",
   "metadata": {},
   "source": [
    "esta línea muestra cada palabra con su etiqueta"
   ]
  },
  {
   "cell_type": "code",
   "execution_count": null,
   "metadata": {},
   "outputs": [],
   "source": [
    "entities = nltk.chunk.ne._chunk(tagged)"
   ]
  },
  {
   "cell_type": "raw",
   "metadata": {},
   "source": [
    "esta línea identifica las entidades"
   ]
  },
  {
   "cell_type": "code",
   "execution_count": null,
   "metadata": {},
   "outputs": [],
   "source": [
    "# entities"
   ]
  },
  {
   "cell_type": "code",
   "execution_count": null,
   "metadata": {},
   "outputs": [],
   "source": [
    "entities.draw()"
   ]
  },
  {
   "cell_type": "raw",
   "metadata": {},
   "source": [
    "por ultimo se visualiza las etiquetas de forma grafica"
   ]
  }
 ],
 "metadata": {
  "kernelspec": {
   "display_name": "Python 3",
   "language": "python",
   "name": "python3"
  },
  "language_info": {
   "codemirror_mode": {
    "name": "ipython",
    "version": 3
   },
   "file_extension": ".py",
   "mimetype": "text/x-python",
   "name": "python",
   "nbconvert_exporter": "python",
   "pygments_lexer": "ipython3",
   "version": "3.6.4"
  }
 },
 "nbformat": 4,
 "nbformat_minor": 2
}
