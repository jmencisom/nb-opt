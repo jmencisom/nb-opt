{
 "cells": [
  {
   "cell_type": "markdown",
   "metadata": {},
   "source": [
    "## Taller Natural Lenguaje Tool Kit (NLTK)"
   ]
  },
  {
   "cell_type": "markdown",
   "metadata": {},
   "source": [
    "### Robinson Andrey Castaño Gutierrez \n",
    "#### Código: 161002804\n",
    "$$$$\n",
    "### David Ramos\n",
    "#### Código: 161002949\n"
   ]
  },
  {
   "cell_type": "code",
   "execution_count": 7,
   "metadata": {
    "collapsed": true
   },
   "outputs": [],
   "source": [
    "import nltk "
   ]
  },
  {
   "cell_type": "markdown",
   "metadata": {},
   "source": [
    "_Aquí importamos la librería nltk_"
   ]
  },
  {
   "cell_type": "code",
   "execution_count": 3,
   "metadata": {
    "collapsed": true
   },
   "outputs": [],
   "source": [
    "sentence = \"\"\"At eight o'clock on Thursday morning Arthur didn't feel very good.\"\"\""
   ]
  },
  {
   "cell_type": "markdown",
   "metadata": {},
   "source": [
    "_Se define a setence como una variable del tipo string .Enmarcando el bloque de texto entre comillas triples, dobles o simples permite que python respete el aspecto y formato completo del texto._"
   ]
  },
  {
   "cell_type": "code",
   "execution_count": 5,
   "metadata": {
    "collapsed": true
   },
   "outputs": [],
   "source": [
    "#nltk.download()"
   ]
  },
  {
   "cell_type": "markdown",
   "metadata": {},
   "source": [
    "En esta línea se descarga los siguientes paquetes, para que el código funcione;es necesario descargar los paquetes (de la pestaña All Packages) **averaged_perceptron_tagger**, **maxent_ne_chunker**, **punkt**, **treebank**, **words**:\n",
    "\n",
    "**averaged_perceptron_tagger**:_Es el etiquetador predeterminado_\n",
    "\n",
    "**maxent_ne_chunker**:_Usa una sintaxis especial de expresiones regulares para las reglas que delimitan los fragmentos. Estas reglas se deben convertir a expresiones regulares 'regulares' antes de que una oración se pueda fragmentar_\n",
    "\n",
    "**punkt**: _Divide un texto en una lista de oraciones mediante el uso de un algoritmo no supervisado para construir un modelo de abreviatura palabras, colocaciones y palabras que comienzan las oraciones. Debe ser entrenado en una gran colección de texto claro, en el idioma de destino antes de que pueda ser usado._\n",
    "\n",
    "**treebank**:_usa expresiones regulares para etiquetar un texto_\n",
    "\n",
    "**words**:_Un etiquetador de voz parcial, o etiquetador de POS, procesa una secuencia de palabras y adjunta una parte de la etiqueta de voz a cada palabra_"
   ]
  },
  {
   "cell_type": "code",
   "execution_count": 9,
   "metadata": {
    "collapsed": true
   },
   "outputs": [],
   "source": [
    "tokens = nltk.word_tokenize(sentence)"
   ]
  },
  {
   "cell_type": "markdown",
   "metadata": {},
   "source": [
    "_Esta funcion separa cada palabra de la cadena string 'sentence'_"
   ]
  },
  {
   "cell_type": "code",
   "execution_count": 10,
   "metadata": {},
   "outputs": [
    {
     "data": {
      "text/plain": [
       "['At',\n",
       " 'eight',\n",
       " \"o'clock\",\n",
       " 'on',\n",
       " 'Thursday',\n",
       " 'morning',\n",
       " 'Arthur',\n",
       " 'did',\n",
       " \"n't\",\n",
       " 'feel',\n",
       " 'very',\n",
       " 'good',\n",
       " '.']"
      ]
     },
     "execution_count": 10,
     "metadata": {},
     "output_type": "execute_result"
    }
   ],
   "source": [
    "tokens"
   ]
  },
  {
   "cell_type": "markdown",
   "metadata": {},
   "source": [
    "_Se evidencia cada una de las palabras separadas_"
   ]
  },
  {
   "cell_type": "code",
   "execution_count": 12,
   "metadata": {
    "collapsed": true
   },
   "outputs": [],
   "source": [
    "tagged = nltk.pos_tag(tokens)"
   ]
  },
  {
   "cell_type": "markdown",
   "metadata": {},
   "source": [
    "_En esta linea cada palabra se etiqueta segun su gramatica, verbo, adjetivo, pronombre...etc_"
   ]
  },
  {
   "cell_type": "code",
   "execution_count": 13,
   "metadata": {},
   "outputs": [
    {
     "data": {
      "text/plain": [
       "[('At', 'IN'),\n",
       " ('eight', 'CD'),\n",
       " (\"o'clock\", 'NN'),\n",
       " ('on', 'IN'),\n",
       " ('Thursday', 'NNP'),\n",
       " ('morning', 'NN'),\n",
       " ('Arthur', 'NNP'),\n",
       " ('did', 'VBD'),\n",
       " (\"n't\", 'RB'),\n",
       " ('feel', 'VB'),\n",
       " ('very', 'RB'),\n",
       " ('good', 'JJ'),\n",
       " ('.', '.')]"
      ]
     },
     "execution_count": 13,
     "metadata": {},
     "output_type": "execute_result"
    }
   ],
   "source": [
    "tagged"
   ]
  },
  {
   "cell_type": "markdown",
   "metadata": {},
   "source": [
    "_Se puede evidenciar cada palabra con su respectiva etiqueta clasificadora_"
   ]
  },
  {
   "cell_type": "markdown",
   "metadata": {},
   "source": [
    " |NUMERO|ETIQUETA|DESCRIPCIÓN|\n",
    " |:------|:---------|:-----------:|\n",
    "    |  ` 1` | $$CC$$      |Coordinating conjunction( `Coordinación de conjunción`)|\n",
    "    |   `2 ` | $$CD$$|Cardinal number(`Número cardinal`)|   \n",
    "    |  ` 3 ` | $$DT$$ |Determiner(`Determinador`)|\n",
    "    |  ` 4 ` | $$EX$$ |Existential there(`Existencial allí`)|\n",
    "    |  ` 5`  | $$FW$$|Foreign word(`palabra extranjera`)|\n",
    "    | ` 6 ` | $$IN$$|Preposition or subordinating conjunction(`Preposición o conjunción subordinada`)|\n",
    "    |  ` 7 ` | $$JJ$$|Adjective(`Adjetivo`)|\n",
    "    |  ` 8 ` | $$JJR$$|Adjective, comparative(`Adjetivo, comparativo`)|\n",
    "    |  ` 9 ` | $$JJS$$|Adjective, superlative(`Adjetivo, superlativo`)|\n",
    "    |  `10`  | $$LS$$|List item marker(`marcador de elemento de lista`)|\n",
    "    | ` 11`  | $$MD$$ |Modal(`Modal`)|\n",
    "    | ` 12`  | $$NN$$|Noun, singular or mass( `Sustantivo, singular o masivo`)|\n",
    "    |  `13`  | $$NNS$$|Noun, plural( `Sustantivo, plural`)|\n",
    "    | ` 14`  | $$NNP$$|Proper noun, singular(`Nombre propio, singular`)|\n",
    "    | ` 15 ` |$$NNPS$$|Proper noun, plural(`sustantivo propio, plural`)|\n",
    "    |  `16 ` | $$PDT$$|Predeterminer(`Predeterminador`)|\n",
    "    | ` 17`  | $$POS$$|Possessive ending(`Final posesivo`)|\n",
    "    |  `18`  | $$PRP$$|Personal pronoun(`Pronombre personal`)|\n",
    "    |  `19`  | $$(PRP$)$$ |Possessive pronoun(`Pronombre personal`)|\n",
    "    |  `20`  | $$RB$$|Adverb(`Adverbio`)|\n",
    "    |  `21`  | $$RBR$$|Adverb, comparative(`Adverbio, comparativo`)|\n",
    "    |  `22`  | $$RBS$$|Adverb, superlative(`Adverbio, superlativo`)|\n",
    "    |  `23`  | $$RP$$|Particle (`Partícula`)|\n",
    "    |  `24`  | $$SYM$$|Symbol(`Símbolo`)|\n",
    "    |  `25`  | $$TO$$|to(`a`)|\n",
    "    |  `26`  | $$UH$$|Interjection(`Interjección`)|\n",
    "    |  `27`  | $$VB$$|Verb, base form(`Verbo, forma de base`)|\n",
    "    |  `28`  | $$VBD$$|Verb, past tense(`Verbo, tiempo pasado`)|\n",
    "    |  `29`  | $$VBG$$|Verb, gerund or present participle(`Verbo, gerundio o participio presente`)|\n",
    "    |  `30`  | $$VBN$$|Verb, past participle( `Verbo, participio pasado`)|\n",
    "    |  `31`  | $$VBP$$|Verb, non-3rd person singular present ( `Verbo, no presente de tercera persona singular`)|\n",
    "    |  `32`  | $$VBZ$$|Verb, 3rd person singular present(`Verbo, tercera persona singular presente`)|\n",
    "    |  `33`  | $$WDT$$|Wh-determiner(`determinador de Wh`)|\n",
    "    |  `34`  | $$WP$$ |Wh-pronoun(`Pronombre WH`)|\n",
    "    |  `35`  |$$(WP$)$$|Possessive wh-pronoun(`Possessive wh pronombre`)|\n",
    "    |  `36`  |$$ WRB$$|Wh-adverb(`Wh-adverbio`)|\n",
    "    "
   ]
  },
  {
   "cell_type": "code",
   "execution_count": null,
   "metadata": {
    "collapsed": true
   },
   "outputs": [],
   "source": [
    "#$ brew install ghostscript "
   ]
  },
  {
   "cell_type": "markdown",
   "metadata": {
    "collapsed": true
   },
   "source": [
    "_Para descargar primero antes de graficar_"
   ]
  },
  {
   "cell_type": "code",
   "execution_count": null,
   "metadata": {
    "collapsed": true
   },
   "outputs": [],
   "source": []
  }
 ],
 "metadata": {
  "kernelspec": {
   "display_name": "Python 3",
   "language": "python",
   "name": "python3"
  },
  "language_info": {
   "codemirror_mode": {
    "name": "ipython",
    "version": 3
   },
   "file_extension": ".py",
   "mimetype": "text/x-python",
   "name": "python",
   "nbconvert_exporter": "python",
   "pygments_lexer": "ipython3",
   "version": "3.6.3"
  }
 },
 "nbformat": 4,
 "nbformat_minor": 2
}
