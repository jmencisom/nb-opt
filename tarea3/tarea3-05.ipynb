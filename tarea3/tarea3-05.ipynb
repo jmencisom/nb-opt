{
 "cells": [
  {
   "cell_type": "markdown",
   "metadata": {},
   "source": [
    "## Tarea 3. Taller NLTK."
   ]
  },
  {
   "cell_type": "markdown",
   "metadata": {},
   "source": [
    "### Grupo 5.\n",
    "\n",
    "Camilo Layton  \n",
    "Luis Contreras"
   ]
  },
  {
   "cell_type": "markdown",
   "metadata": {},
   "source": [
    "\n",
    "$ pip install nltk  \n",
    "Este comando se usa para instalar el paquete ntlk.\n"
   ]
  },
  {
   "cell_type": "code",
   "execution_count": 1,
   "metadata": {},
   "outputs": [],
   "source": [
    "import nltk"
   ]
  },
  {
   "cell_type": "markdown",
   "metadata": {},
   "source": [
    "En esta linea se importa el paquete nltk."
   ]
  },
  {
   "cell_type": "code",
   "execution_count": 7,
   "metadata": {},
   "outputs": [],
   "source": [
    "sentence = \"\"\"At eight o'clock on \n",
    "Thursday morning Arthur didn't feel \n",
    "very good.\"\"\""
   ]
  },
  {
   "cell_type": "markdown",
   "metadata": {},
   "source": [
    "La variable \"sentence\" es una variable de tipo cadena en la cual se guarda una oracion en ingles, esto debido a que la mayoria de utilidades dentro de nltk estan orientadas a este idioma, el uso de triple comillas permite que la cadena pueda ocupar mas de una linea."
   ]
  },
  {
   "cell_type": "code",
   "execution_count": 10,
   "metadata": {},
   "outputs": [
    {
     "name": "stdout",
     "output_type": "stream",
     "text": [
      "At eight o'clock on \n",
      "Thursday morning Arthur didn't feel \n",
      "very good.\n"
     ]
    },
    {
     "data": {
      "text/plain": [
       "\"At eight o'clock on \\nThursday morning Arthur didn't feel \\nvery good.\""
      ]
     },
     "execution_count": 10,
     "metadata": {},
     "output_type": "execute_result"
    }
   ],
   "source": [
    "print (sentence)\n",
    "sentence"
   ]
  },
  {
   "cell_type": "code",
   "execution_count": 11,
   "metadata": {},
   "outputs": [],
   "source": [
    "#nltk.download()"
   ]
  },
  {
   "cell_type": "markdown",
   "metadata": {},
   "source": [
    "Con esta linea se pueden descargar los paquetes disponibles para nltk, para este caso se descargaron los siguientes paquetes:  \n",
    "averaged_perceptron_tagger, maxent_ne_chunker, punkt, treebank, words."
   ]
  },
  {
   "cell_type": "markdown",
   "metadata": {},
   "source": [
    "averaged_perceptron_tagger.  \n",
    "Es el etiquetador predeterminado de nltk."
   ]
  },
  {
   "cell_type": "markdown",
   "metadata": {},
   "source": [
    " maxent_ne_chunker.  \n",
    " Es un paquete usado para realizar analisis de fragmentos.\n"
   ]
  },
  {
   "cell_type": "markdown",
   "metadata": {},
   "source": [
    "punkt.  \n",
    "Es un paquete usado para dividir un texto en oraciones."
   ]
  },
  {
   "cell_type": "markdown",
   "metadata": {},
   "source": [
    "treebank.  \n",
    "Es un paquete utilizado para etiquetar palabras segun su funcion gramatical.\n",
    "\n",
    "|Numero|Etiqueta |Descripcion|\n",
    "|------|---------|-----------|\n",
    "|   1  | CC      |Coordinating conjunction/ Conjunciones coordinadas |     \n",
    "|   2  | CD\t|Cardinal number/ Numero cardinal|      \n",
    "|   3  | DT |Determiner/ Determinante|\n",
    "|   4  | EX |Existential there/ Clausula existencial|\n",
    "|   5  | FW\t|Foreign word/ Extranjerismo|\n",
    "|   6  | IN\t|Preposition or subordinating conjunction/ Preposicion o Conjuciones subordinantes|\n",
    "|   7  | JJ\t|Adjective/ Adjetivo|\n",
    "|   8  | JJR|Adjective comparative/ Adjetivo comparativo|\n",
    "|   9  | JJS|Adjective superlative/ Adjetivo superlativo|\n",
    "|  10  | LS\t|List item marker/ Enumeracion|\n",
    "|  11  | MD |Modal/ Verbos modales|\n",
    "|  12  | NN\t|Noun, singular or mass/ Sustantivo, singular o incontable|\n",
    "|  13  | NNS|Noun plural/ Sustantivo, plurar|\n",
    "|  14  | NNP|Proper noun, singular/ Nombre propio, sigular|\n",
    "|  15  |NNPS|Proper noun plural/ Nombre propio, prular|\n",
    "|  16  | PDT|Predeterminer/ Predeterminante|\n",
    "|  17  | POS|Possessive ending/ Terminaciones posesivas 's|\n",
    "|  18  | PRP|Personal pronoun/ Pronombre personal|\n",
    "|  19  | PRP\\$ |Possessive pronoun/ Pronombre posesivo|\n",
    "|  20  | RB\t|Adverb/ adverbio|\n",
    "|  21  | RBR|\tAdverb, comparative/ Adverbio compartivo|\n",
    "|  22  | RBS|Adverb, superlative/ Adverbio superlativo|\n",
    "|  23  | RP\t|Particle/ Particula |\n",
    "|  24  | SYM|Symbol/ Simbolo|\n",
    "|  25  | TO\t|to|\n",
    "|  26  | UH\t|Interjection/ Interjección|\n",
    "|  27  | VB\t|Verb, base form/ Verbo|\n",
    "|  28  | VBD|Verb, past tense/ Verbo en pasado|\n",
    "|  29  | VBG|Verb, gerund or present participle/ Verbo en gerundio|\n",
    "|  30  | VBN|Verb, past participle/ Verbo en participio|\n",
    "|  31  | VBP|Verb, non-3rd person singular present/ Verbo en primera o segunda persona |\n",
    "|  32  | VBZ|\tVerb, 3rd person singular present/ Verbo en tercera persona|\n",
    "|  33  | WDT|\tWh-determiner/ Determinaten Wh|\n",
    "|  34  | WP |\tWh-pronoun/ Pronombre Wh|\n",
    "|  35  |WP\\$|Possessive wh-pronoun/ Pronombre posesivo Wh|\n",
    "|  36  | WRB|\tWh-adverb/ Adverbio Wh|"
   ]
  },
  {
   "cell_type": "markdown",
   "metadata": {},
   "source": [
    "words.  \n",
    "Contien un corpus de la lengua inglesa.  \n",
    "```\n",
    " Un corpus lingüístico es un conjunto amplio y estructurado de ejemplos reales de uso de la lengua.\n",
    "```"
   ]
  },
  {
   "cell_type": "code",
   "execution_count": 13,
   "metadata": {},
   "outputs": [],
   "source": [
    "tokens = nltk.word_tokenize(sentence)"
   ]
  },
  {
   "cell_type": "code",
   "execution_count": 14,
   "metadata": {},
   "outputs": [
    {
     "data": {
      "text/plain": [
       "['At',\n",
       " 'eight',\n",
       " \"o'clock\",\n",
       " 'on',\n",
       " 'Thursday',\n",
       " 'morning',\n",
       " 'Arthur',\n",
       " 'did',\n",
       " \"n't\",\n",
       " 'feel',\n",
       " 'very',\n",
       " 'good',\n",
       " '.']"
      ]
     },
     "execution_count": 14,
     "metadata": {},
     "output_type": "execute_result"
    }
   ],
   "source": [
    "tokens"
   ]
  },
  {
   "cell_type": "markdown",
   "metadata": {},
   "source": [
    "En esta linea se toma la oracion guarada en la variable \"sentece\" y se separa por palabras como se puede ver en la salida."
   ]
  },
  {
   "cell_type": "code",
   "execution_count": 15,
   "metadata": {},
   "outputs": [],
   "source": [
    "tagged = nltk.pos_tag(tokens)"
   ]
  },
  {
   "cell_type": "code",
   "execution_count": 16,
   "metadata": {},
   "outputs": [
    {
     "data": {
      "text/plain": [
       "[('At', 'IN'),\n",
       " ('eight', 'CD'),\n",
       " (\"o'clock\", 'NN'),\n",
       " ('on', 'IN'),\n",
       " ('Thursday', 'NNP'),\n",
       " ('morning', 'NN'),\n",
       " ('Arthur', 'NNP'),\n",
       " ('did', 'VBD'),\n",
       " (\"n't\", 'RB'),\n",
       " ('feel', 'VB'),\n",
       " ('very', 'RB'),\n",
       " ('good', 'JJ'),\n",
       " ('.', '.')]"
      ]
     },
     "execution_count": 16,
     "metadata": {},
     "output_type": "execute_result"
    }
   ],
   "source": [
    "tagged"
   ]
  },
  {
   "cell_type": "markdown",
   "metadata": {},
   "source": [
    "En esta linea se toma cada palabra de la oracion y se asigna a una dupla con sus respectiva etiqueta referente a su funcion gramatical, como se ve en la salida."
   ]
  },
  {
   "cell_type": "code",
   "execution_count": 18,
   "metadata": {},
   "outputs": [],
   "source": [
    "entities = nltk.chunk.ne_chunk(tagged)"
   ]
  },
  {
   "cell_type": "code",
   "execution_count": 21,
   "metadata": {},
   "outputs": [],
   "source": [
    "#entities"
   ]
  },
  {
   "cell_type": "code",
   "execution_count": 20,
   "metadata": {},
   "outputs": [],
   "source": [
    "entities.draw()"
   ]
  },
  {
   "cell_type": "markdown",
   "metadata": {},
   "source": [
    "En esta linea se identifican las identidades con el fin de visualizar el problema con el programa ghostscript"
   ]
  },
  {
   "cell_type": "markdown",
   "metadata": {},
   "source": [
    "__\n",
    "Referencias.\n",
    "__  \n",
    "1.http://www.mclibre.org/consultar/python/lecciones/python-cadenas.html  \n",
    "2.https://pmoracho.github.io/blog/2017/01/04/NLTK-mi-tutorial/  \n",
    "3.http://www.nltk.org/_modules/nltk/tokenize/treebank.html  \n",
    "4.https://www.nltk.org/_modules/nltk/tokenize/punkt.html   \n",
    "5.http://www.nltk.org/_modules/nltk/chunk.html  \n",
    "6.https://www.kaggle.com/nltkdata/averaged-perceptron-tagger  \n",
    "7.https://www.ling.upenn.edu/courses/Fall_2003/ling001/penn_treebank_pos.html  "
   ]
  }
 ],
 "metadata": {
  "kernelspec": {
   "display_name": "Python 3",
   "language": "python",
   "name": "python3"
  },
  "language_info": {
   "codemirror_mode": {
    "name": "ipython",
    "version": 3
   },
   "file_extension": ".py",
   "mimetype": "text/x-python",
   "name": "python",
   "nbconvert_exporter": "python",
   "pygments_lexer": "ipython3",
   "version": "3.6.4"
  }
 },
 "nbformat": 4,
 "nbformat_minor": 2
}
