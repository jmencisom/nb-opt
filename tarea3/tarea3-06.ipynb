{
 "cells": [
  {
   "cell_type": "markdown",
   "metadata": {},
   "source": [
    "## Taller Natural Language Tool Kit (NLTK)"
   ]
  },
  {
   "cell_type": "markdown",
   "metadata": {},
   "source": [
    "###### Daniel Eduardo Acuña Ballen   cod:161003700\n",
    "###### Andres Camilo Gamboa Ferrer cod:161003711"
   ]
  },
  {
   "cell_type": "code",
   "execution_count": 2,
   "metadata": {},
   "outputs": [],
   "source": [
    "import nltk\n"
   ]
  },
  {
   "cell_type": "markdown",
   "metadata": {},
   "source": [
    "En esta linea se importa la libreria\n",
    "###### nltk"
   ]
  },
  {
   "cell_type": "code",
   "execution_count": 3,
   "metadata": {},
   "outputs": [],
   "source": [
    "sentence = \"\"\"At eight o'clock on Thursday morning Arthur didn't feel very good.\"\"\""
   ]
  },
  {
   "cell_type": "markdown",
   "metadata": {},
   "source": [
    "Esta definiendo a setence como una variable del tipo string, en donde la triple comilla\n",
    "nos permite insertar un string con todas las líneas que deseemos.Basta que enmarquemos\n",
    "un bloque de texto entrecomillas triples (da igual si son simples o dobles) y Python \n",
    "respetará el aspecto y formato completo del texto."
   ]
  },
  {
   "cell_type": "code",
   "execution_count": 4,
   "metadata": {},
   "outputs": [
    {
     "name": "stdout",
     "output_type": "stream",
     "text": [
      "At eight o'clock on Thursday morning Arthur didn't feel very good.\n"
     ]
    }
   ],
   "source": [
    "print(sentence)\n"
   ]
  },
  {
   "cell_type": "markdown",
   "metadata": {},
   "source": [
    "Como se puede observar imprime el texto tal cual, no importa si tiene comillas simples o doble."
   ]
  },
  {
   "cell_type": "code",
   "execution_count": 5,
   "metadata": {},
   "outputs": [
    {
     "name": "stdout",
     "output_type": "stream",
     "text": [
      "showing info https://raw.githubusercontent.com/nltk/nltk_data/gh-pages/index.xml\n"
     ]
    },
    {
     "data": {
      "text/plain": [
       "True"
      ]
     },
     "execution_count": 5,
     "metadata": {},
     "output_type": "execute_result"
    }
   ],
   "source": [
    "nltk.download()"
   ]
  },
  {
   "cell_type": "markdown",
   "metadata": {},
   "source": [
    "En esta linea se descarga los siguientes paquetes, para que el codigo funcione;es necesario descargar los paquetes (de la pestaña *All Packages*) `averaged_perceptron_tagger`, `maxent_ne_chunker`, `punkt`, `treebank`, `words`:"
   ]
  },
  {
   "cell_type": "markdown",
   "metadata": {},
   "source": [
    "`averaged_perceptron_tagger:`Es el etiquetador predeterminado."
   ]
  },
  {
   "cell_type": "markdown",
   "metadata": {},
   "source": [
    "`maxent_ne_chunker:`Usa una sintaxis especial de expresiones regulares para las reglas que delimitan los fragmentos. Estas reglas se deben convertir a expresiones regulares 'regulares' antes de que una oración se pueda fragmentar"
   ]
  },
  {
   "cell_type": "markdown",
   "metadata": {},
   "source": [
    "`punkt:` Divide un texto en una lista de oraciones mediante el uso de un algoritmo no supervisado para construir un modelo de abreviatura palabras, colocaciones y palabras que comienzan oraciones. Debe ser entrenado en una gran colección de texto claro en el idioma de destino antes de que pueda ser usado."
   ]
  },
  {
   "cell_type": "markdown",
   "metadata": {},
   "source": [
    "`treebank:`usa expresiones regulares para etiquetar un texto"
   ]
  },
  {
   "cell_type": "markdown",
   "metadata": {},
   "source": [
    "`words:`Un etiquetador de voz parcial, o etiquetador de POS, procesa una secuencia de palabras y adjunta una parte de la etiqueta de voz a cada palabra "
   ]
  },
  {
   "cell_type": "code",
   "execution_count": 37,
   "metadata": {},
   "outputs": [],
   "source": [
    "tokens=nltk.word_tokenize(sentence)"
   ]
  },
  {
   "cell_type": "markdown",
   "metadata": {},
   "source": [
    "Es esta parte del cogido se separa cada palabra de la oracion que esta guardada como string en `sentence`"
   ]
  },
  {
   "cell_type": "markdown",
   "metadata": {},
   "source": [
    "tokens"
   ]
  },
  {
   "cell_type": "markdown",
   "metadata": {},
   "source": [
    "En esta parte se vizualiza lo que se hizo anteriormente, y se ve que cada palabra esta separada"
   ]
  },
  {
   "cell_type": "code",
   "execution_count": 39,
   "metadata": {},
   "outputs": [],
   "source": [
    "tagged = nltk.pos_tag(tokens)"
   ]
  },
  {
   "cell_type": "markdown",
   "metadata": {},
   "source": [
    "Aqui; cada palabra que fue separada, se eqiqueta segun su `gramatica`  verbo,adjetivo, pronombre...etc"
   ]
  },
  {
   "cell_type": "code",
   "execution_count": 40,
   "metadata": {},
   "outputs": [
    {
     "data": {
      "text/plain": [
       "[('At', 'IN'),\n",
       " ('eight', 'CD'),\n",
       " (\"o'clock\", 'NN'),\n",
       " ('on', 'IN'),\n",
       " ('Thursday', 'NNP'),\n",
       " ('morning', 'NN'),\n",
       " ('Arthur', 'NNP'),\n",
       " ('did', 'VBD'),\n",
       " (\"n't\", 'RB'),\n",
       " ('feel', 'VB'),\n",
       " ('very', 'RB'),\n",
       " ('good', 'JJ'),\n",
       " ('.', '.')]"
      ]
     },
     "execution_count": 40,
     "metadata": {},
     "output_type": "execute_result"
    }
   ],
   "source": [
    "tagged"
   ]
  },
  {
   "cell_type": "markdown",
   "metadata": {},
   "source": [
    "Aqui se observa como se etiqueta cada palabra segun su gramatica, para saber que significa cada etiqueta se hizo la\n",
    "siguiente tabla:\n",
    "\n",
    "|`NUMERO`|`ETIQUETA` |`DESCRIPCIÓN`|\n",
    "|------|---------|-----------|\n",
    "|  ` 1` | $$CC$$      |Coordinating conjunction( `Coordinación de conjunción`)|     \n",
    "|   `2 ` | $$CD$$\t|Cardinal number(`Número cardinal`)|      \n",
    "|  ` 3 ` | $$DT$$ |Determiner(`Determinador`)|\n",
    "|  ` 4 ` | $$EX$$ |Existential there(`Existencial allí`)|\n",
    "|  ` 5`  | $$FW$$\t|Foreign word(`palabra extranjera`)|\n",
    "|  ` 6 ` | $$IN$$\t|Preposition or subordinating conjunction(`Preposición o conjunción subordinada`)|\n",
    "|  ` 7 ` | $$JJ$$\t|Adjective(`Adjetivo`)|\n",
    "|  ` 8 ` | $$JJR$$|Adjective, comparative(`Adjetivo, comparativo`)|\n",
    "|  ` 9 ` | $$JJS$$|Adjective, superlative(`Adjetivo, superlativo`)|\n",
    "|  `10`  | $$LS$$\t|List item marker(`marcador de elemento de lista`)|\n",
    "| ` 11`  | $$MD$$ |Modal(`Modal`)|\n",
    "| ` 12`  | $$NN$$\t|Noun, singular or mass( `Sustantivo, singular o masivo`)|\n",
    "|  `13`  | $$NNS$$|Noun, plural( `Sustantivo, plural`)|\n",
    "| ` 14`  | $$NNP$$|Proper noun, singular(`Nombre propio, singular`)|\n",
    "| ` 15 ` |$$NNPS$$|Proper noun, plural(`sustantivo propio, plural`)|\n",
    "|  `16 ` | $$PDT$$|Predeterminer(`Predeterminador`)|\n",
    "| ` 17`  | $$POS$$|Possessive ending(`Final posesivo`)|\n",
    "|  `18`  | $$PRP$$|Personal pronoun(`Pronombre personal`)|\n",
    "|  `19`  | $$(PRP$)$$ |Possessive pronoun(`Pronombre personal`)|\n",
    "|  `20`  | $$RB$$\t|Adverb(`Adverbio`)|\n",
    "|  `21`  | $$RBR$$|Adverb, comparative(`Adverbio, comparativo`)|\n",
    "|  `22`  | $$RBS$$|Adverb, superlative(`Adverbio, superlativo`)|\n",
    "|  `23`  | $$RP$$\t|Particle (`Partícula`)|\n",
    "|  `24`  | $$SYM$$|Symbol(`Símbolo`)|\n",
    "|  `25`  | $$TO$$\t|to(`a`)|\n",
    "|  `26`  | $$UH$$\t|Interjection(`Interjección`)|\n",
    "|  `27`  | $$VB$$\t|Verb, base form(`Verbo, forma de base`)|\n",
    "|  `28`  | $$VBD$$|Verb, past tense(`Verbo, tiempo pasado`)|\n",
    "|  `29`  | $$VBG$$|Verb, gerund or present participle(`Verbo, gerundio o participio presente`)|\n",
    "|  `30`  | $$VBN$$|Verb, past participle( `Verbo, participio pasado`)|\n",
    "|  `31`  | $$VBP$$|Verb, non-3rd person singular present ( `Verbo, no presente de tercera persona singular`)|\n",
    "|  `32`  | $$VBZ$$|Verb, 3rd person singular present(`Verbo, tercera persona singular presente`)|\n",
    "|  `33`  | $$WDT$$|Wh-determiner(`determinador de Wh`)|\n",
    "|  `34`  | $$WP$$ |Wh-pronoun(`Pronombre WH`)|\n",
    "|  `35`  |$$(WP$)$$|Possessive wh-pronoun(`Possessive wh pronombre`)|\n",
    "|  `36`  |$$ WRB$$|Wh-adverb(`Wh-adverbio`)||  "
   ]
  },
  {
   "cell_type": "code",
   "execution_count": 41,
   "metadata": {},
   "outputs": [],
   "source": [
    "entities = nltk.chunk.ne_chunk(tagged)"
   ]
  },
  {
   "cell_type": "code",
   "execution_count": 42,
   "metadata": {},
   "outputs": [],
   "source": [
    "# entities"
   ]
  },
  {
   "cell_type": "code",
   "execution_count": 43,
   "metadata": {},
   "outputs": [],
   "source": [
    "entities.draw()"
   ]
  },
  {
   "cell_type": "markdown",
   "metadata": {},
   "source": [
    "Estas ultimas lineas es para poder visualizar las etiquetas de una manera grafica, como un mapa conceptual, es donde se divide segun la gramatica de cada palabra."
   ]
  },
  {
   "cell_type": "markdown",
   "metadata": {},
   "source": [
    "$$Referencias$$\n",
    "(1)http://elclubdelautodidacta.es/wp/2011/10/python-capitulo-22-comillas-simples-dobles-y-triples/\n",
    "(2)https://www.ling.upenn.edu/courses/Fall_2003/ling001/penn_treebank_pos.html\n",
    "(3)https://www.nltk.org/_modules/nltk/tokenize/punkt.html\n",
    "(4)http://www.nltk.org/_modules/nltk/tokenize/treebank.html\n",
    "(5)http://www.nltk.org/howto/chunk.html\n",
    "(6) https://dlegorreta.wordpress.com/tag/nltk/"
   ]
  }
 ],
 "metadata": {
  "kernelspec": {
   "display_name": "Python 3",
   "language": "python",
   "name": "python3"
  },
  "language_info": {
   "codemirror_mode": {
    "name": "ipython",
    "version": 3
   },
   "file_extension": ".py",
   "mimetype": "text/x-python",
   "name": "python",
   "nbconvert_exporter": "python",
   "pygments_lexer": "ipython3",
   "version": "3.6.4"
  }
 },
 "nbformat": 4,
 "nbformat_minor": 2
}
