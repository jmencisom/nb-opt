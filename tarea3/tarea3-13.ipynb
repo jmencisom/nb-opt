{
 "cells": [
  {
   "cell_type": "markdown",
   "metadata": {},
   "source": [
    "## *Taller Natural Language Tool Kit (NLTK)*\n",
    "###           Carlos Villegas 161003031  \n",
    "\n"
   ]
  },
  {
   "cell_type": "markdown",
   "metadata": {},
   "source": [
    "para este taller primero tenemos que verificar que este intalada la libreria \"nltk\" "
   ]
  },
  {
   "cell_type": "code",
   "execution_count": 15,
   "metadata": {},
   "outputs": [],
   "source": [
    "import nltk\n"
   ]
  },
  {
   "cell_type": "markdown",
   "metadata": {},
   "source": [
    "ya de estar seguros que contamos con la libreria, la importamos a nuestro codigo"
   ]
  },
  {
   "cell_type": "code",
   "execution_count": 16,
   "metadata": {},
   "outputs": [],
   "source": [
    "sentence = \"\"\"At eight o'clock on Thursday morning Arthur didn't feel very good.\"\"\""
   ]
  },
  {
   "cell_type": "markdown",
   "metadata": {},
   "source": [
    "declaramos la variable  \" sentence\" como un string.  y guardamos nuestro texto entre 3 comillas dobles, esto para que se reconozca como una cadena de caracteres, en este caso texto."
   ]
  },
  {
   "cell_type": "code",
   "execution_count": null,
   "metadata": {},
   "outputs": [
    {
     "name": "stdout",
     "output_type": "stream",
     "text": [
      "showing info https://raw.githubusercontent.com/nltk/nltk_data/gh-pages/index.xml\n"
     ]
    }
   ],
   "source": [
    "nltk.download()"
   ]
  },
  {
   "cell_type": "markdown",
   "metadata": {},
   "source": [
    "tenemos que descargar bn nuestra libreria,  ya que en algunos casos quedan paquetes por fuera de esta. tales como:  averaged_perceptron_tagger, maxent_ne_chunker, punkt, treebank, words"
   ]
  },
  {
   "cell_type": "code",
   "execution_count": null,
   "metadata": {},
   "outputs": [],
   "source": [
    "tokens = nltk.word_tokenize(sentence)"
   ]
  },
  {
   "cell_type": "markdown",
   "metadata": {},
   "source": [
    "en esta parte nuestro codigo reconoce las palabras del texto guardado en \"sentece\", y estas palabras las separa"
   ]
  },
  {
   "cell_type": "code",
   "execution_count": null,
   "metadata": {},
   "outputs": [],
   "source": [
    "tokens"
   ]
  },
  {
   "cell_type": "markdown",
   "metadata": {},
   "source": [
    "imprimimos y podemos ver como separa estas palabras."
   ]
  },
  {
   "cell_type": "code",
   "execution_count": null,
   "metadata": {},
   "outputs": [],
   "source": [
    "tagged = nltk.pos_tag(tokens)"
   ]
  },
  {
   "cell_type": "markdown",
   "metadata": {},
   "source": [
    "ya con nuestras palabras separadas de la horacion,  con esta linea se les clasifica, ya sean vervo, pronomebre, adjetivo, simbolo etc."
   ]
  },
  {
   "cell_type": "code",
   "execution_count": null,
   "metadata": {},
   "outputs": [],
   "source": [
    "tagged"
   ]
  },
  {
   "cell_type": "markdown",
   "metadata": {},
   "source": [
    "en esta tabla podemos ver los diferentes casos con sus sigles y sus significado."
   ]
  },
  {
   "cell_type": "markdown",
   "metadata": {},
   "source": [
    "\n",
    "\n",
    "|*N°*|  *Acronimo* | *Significado*|\n",
    "|------|----------|-----------|\n",
    "|   1  |   CC     |Conjunciones coordinadas |    \n",
    "|   2  |   CD\\t  |Numero cardinal|     \n",
    "|   3  |   DT     |Determinante|\n",
    "|   4  |   EX     |Clausula existencial|\n",
    "|   5  |   FW\\t  |Extranjerismo|\n",
    "|   6  |   IN\\t  |Preposicion o Conjuciones subordinantes|\n",
    "|   7  |   JJ\\t  |Adjetivo|\n",
    "|   8  |   JJR    |Adjetivo comparativo|\n",
    "|   9  |   JJS    |Adjetivo superlativo|\n",
    "|  10  |   LS\\t  |Enumeracion|\n",
    "|  11  |   MD     |Verbos modales|\n",
    "|  12  |   NN\\t  |Sustantivo, singular o incontable|\n",
    "|  13  |   NNS    |Sustantivo, plurar|\n",
    "|  14  |   NNP    |Nombre propio, sigular|\n",
    "|  15  |   NNPS   |Nombre propio, prular|\n",
    "|  16  |   PDT    |Predeterminante|\n",
    "|  17  |   POS    |Terminaciones posesivas 's|\n",
    "|  18  |   PRP    |Pronombre personal|\n",
    "|  19  |   PRP\\\\$  |Pronombre posesivo|\n",
    "|  20  |   RB\\t  |Adverbio|\n",
    "|  21  |   RBR    |Adverbio compartivo|\n",
    "|  22  |   RBS    |Adverbio superlativo|\n",
    "|  23  |   RP\\t  |Particula |\n",
    "|  24  |   SYM    |Simbolo|\n",
    "|  25  |   TO\\t  |to\n",
    "|  26  |   UH\\t  |Interjección|\n",
    "|  27  |   VB\\t  |Verbo|\n",
    "|  28  |   VBD    |Verbo en pasado|\n",
    "|  29  |   VBG    |Verbo en gerundio|\n",
    "|  30  |   VBN    |Verbo en participio|\n",
    "|  31  |   VBP    |Verbo en primera o segunda persona |\n",
    "|  32  |   VBZ    |Verbo en tercera persona|\n",
    "|  33  |   WDT    |Determinaten Wh|\n",
    "|  34  |   WP     |Pronombre Wh|\n",
    "|  35  |   WP\\\\$   |Pronombre posesivo Wh|\n",
    "|  36  |   WRB    |Adverbio Wh|"
   ]
  },
  {
   "cell_type": "code",
   "execution_count": null,
   "metadata": {},
   "outputs": [],
   "source": []
  }
 ],
 "metadata": {
  "kernelspec": {
   "display_name": "Python 3",
   "language": "python",
   "name": "python3"
  },
  "language_info": {
   "codemirror_mode": {
    "name": "ipython",
    "version": 3
   },
   "file_extension": ".py",
   "mimetype": "text/x-python",
   "name": "python",
   "nbconvert_exporter": "python",
   "pygments_lexer": "ipython3",
   "version": "3.6.4"
  }
 },
 "nbformat": 4,
 "nbformat_minor": 2
}
